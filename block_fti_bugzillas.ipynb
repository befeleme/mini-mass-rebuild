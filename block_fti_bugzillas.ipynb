{
 "cells": [
  {
   "cell_type": "markdown",
   "metadata": {},
   "source": [
    "This helper makes sure that the packages that rebuilt successfully with Python 3.13 but fail to install due to their dependencies not yet rebuilt have bugzillas blocked by the appropriate bugzillas of said dependencies.\n",
    "\n",
    " 1. For every package that has been successfully rebuilt, we see if it has a bugzilla that blocks `PYTHON3.13` and `F41FailsToInstall`.\n",
    " 2. If so, we parse the initial comment for missing `python3.13dist()` dependencies.\n",
    " 3. We convert the dependencies to `python3.12dist()` dependencies and find their component.\n",
    " 4. If the component has a `PYTHON3.13` bugzilla, we mark it as blocking the bugzilla from (1)."
   ]
  },
  {
   "cell_type": "code",
   "execution_count": 11,
   "metadata": {},
   "outputs": [],
   "source": [
    "from IPython.display import display, Markdown"
   ]
  },
  {
   "cell_type": "code",
   "execution_count": 12,
   "metadata": {},
   "outputs": [
    {
     "name": "stdout",
     "output_type": "stream",
     "text": [
      "20\n",
      "40\n",
      "60\n",
      "80\n",
      "100\n",
      "120\n",
      "140\n",
      "160\n",
      "180\n",
      "200\n",
      "220\n",
      "240\n",
      "260\n",
      "280\n",
      "300\n",
      "320\n",
      "340\n",
      "360\n",
      "380\n",
      "400\n",
      "420\n",
      "440\n",
      "460\n",
      "480\n",
      "500\n",
      "520\n",
      "540\n",
      "560\n",
      "580\n",
      "600\n",
      "620\n",
      "640\n",
      "660\n",
      "680\n",
      "700\n",
      "720\n",
      "740\n",
      "760\n",
      "780\n",
      "800\n"
     ]
    }
   ],
   "source": [
    "import bugzilla\n",
    "bzapi = bugzilla.Bugzilla('bugzilla.redhat.com')\n",
    "query = bzapi.build_query(product='Fedora')\n",
    "query['blocks'] = 2244836  # PYTHON3.13\n",
    "query['limit'] = 20 # Bugzilla page size\n",
    "query['offset'] = 0\n",
    "query['status'] = '__open__'\n",
    "bugz = []\n",
    "while len(partial := bzapi.query(query)) == 20:\n",
    "    bugz += partial\n",
    "    query['offset'] += 20\n",
    "    print(len(bugz))\n",
    "bugz += partial"
   ]
  },
  {
   "cell_type": "code",
   "execution_count": 13,
   "metadata": {},
   "outputs": [],
   "source": [
    "F41FailsToInstall = 2260877"
   ]
  },
  {
   "cell_type": "code",
   "execution_count": 14,
   "metadata": {},
   "outputs": [],
   "source": [
    "python313 = !cat python313.pkgs"
   ]
  },
  {
   "cell_type": "code",
   "execution_count": 15,
   "metadata": {},
   "outputs": [
    {
     "data": {
      "text/plain": [
       "[<Bug #2291488 on https://bugzilla.redhat.com/xmlrpc.cgi at 0x7f78f0075700>,\n",
       " <Bug #2291501 on https://bugzilla.redhat.com/xmlrpc.cgi at 0x7f78ebf1ccb0>,\n",
       " <Bug #2291502 on https://bugzilla.redhat.com/xmlrpc.cgi at 0x7f78f00e7860>,\n",
       " <Bug #2291514 on https://bugzilla.redhat.com/xmlrpc.cgi at 0x7f78f00e7500>,\n",
       " <Bug #2291525 on https://bugzilla.redhat.com/xmlrpc.cgi at 0x7f78ebf2e4b0>,\n",
       " <Bug #2291545 on https://bugzilla.redhat.com/xmlrpc.cgi at 0x7f78ebf2e3f0>,\n",
       " <Bug #2291568 on https://bugzilla.redhat.com/xmlrpc.cgi at 0x7f78f0017c80>,\n",
       " <Bug #2291574 on https://bugzilla.redhat.com/xmlrpc.cgi at 0x7f78f00281a0>,\n",
       " <Bug #2291581 on https://bugzilla.redhat.com/xmlrpc.cgi at 0x7f78de7db260>,\n",
       " <Bug #2291582 on https://bugzilla.redhat.com/xmlrpc.cgi at 0x7f78f00e7fe0>,\n",
       " <Bug #2291583 on https://bugzilla.redhat.com/xmlrpc.cgi at 0x7f78f00e7ef0>,\n",
       " <Bug #2291601 on https://bugzilla.redhat.com/xmlrpc.cgi at 0x7f78f008dc10>,\n",
       " <Bug #2291602 on https://bugzilla.redhat.com/xmlrpc.cgi at 0x7f78de7daff0>,\n",
       " <Bug #2291608 on https://bugzilla.redhat.com/xmlrpc.cgi at 0x7f78ebfe25d0>,\n",
       " <Bug #2291630 on https://bugzilla.redhat.com/xmlrpc.cgi at 0x7f78f0391f40>,\n",
       " <Bug #2291654 on https://bugzilla.redhat.com/xmlrpc.cgi at 0x7f78f04e7aa0>,\n",
       " <Bug #2291677 on https://bugzilla.redhat.com/xmlrpc.cgi at 0x7f78f01490a0>,\n",
       " <Bug #2291723 on https://bugzilla.redhat.com/xmlrpc.cgi at 0x7f78f0149130>,\n",
       " <Bug #2291836 on https://bugzilla.redhat.com/xmlrpc.cgi at 0x7f78f0630980>,\n",
       " <Bug #2291838 on https://bugzilla.redhat.com/xmlrpc.cgi at 0x7f78f067a180>,\n",
       " <Bug #2291850 on https://bugzilla.redhat.com/xmlrpc.cgi at 0x7f78f067a210>,\n",
       " <Bug #2291862 on https://bugzilla.redhat.com/xmlrpc.cgi at 0x7f78f06309b0>,\n",
       " <Bug #2291880 on https://bugzilla.redhat.com/xmlrpc.cgi at 0x7f78f06af1d0>,\n",
       " <Bug #2291905 on https://bugzilla.redhat.com/xmlrpc.cgi at 0x7f78f06af710>,\n",
       " <Bug #2291914 on https://bugzilla.redhat.com/xmlrpc.cgi at 0x7f78f06305f0>,\n",
       " <Bug #2291946 on https://bugzilla.redhat.com/xmlrpc.cgi at 0x7f78f0545b50>,\n",
       " <Bug #2291956 on https://bugzilla.redhat.com/xmlrpc.cgi at 0x7f78de629d00>,\n",
       " <Bug #2291967 on https://bugzilla.redhat.com/xmlrpc.cgi at 0x7f78f05dce60>,\n",
       " <Bug #2291977 on https://bugzilla.redhat.com/xmlrpc.cgi at 0x7f78de629f40>,\n",
       " <Bug #2291983 on https://bugzilla.redhat.com/xmlrpc.cgi at 0x7f78de62a0c0>,\n",
       " <Bug #2291998 on https://bugzilla.redhat.com/xmlrpc.cgi at 0x7f78f0508950>,\n",
       " <Bug #2292006 on https://bugzilla.redhat.com/xmlrpc.cgi at 0x7f78f0508560>,\n",
       " <Bug #2292010 on https://bugzilla.redhat.com/xmlrpc.cgi at 0x7f78f05dd100>,\n",
       " <Bug #2292013 on https://bugzilla.redhat.com/xmlrpc.cgi at 0x7f78de68f230>,\n",
       " <Bug #2292017 on https://bugzilla.redhat.com/xmlrpc.cgi at 0x7f78de6d8110>,\n",
       " <Bug #2292023 on https://bugzilla.redhat.com/xmlrpc.cgi at 0x7f78de68f1d0>]"
      ]
     },
     "execution_count": 15,
     "metadata": {},
     "output_type": "execute_result"
    }
   ],
   "source": [
    "len(pure_fti_bugz := [b for b in bugz if b.component in python313 and F41FailsToInstall in b.blocks])\n",
    "pure_fti_bugz"
   ]
  },
  {
   "cell_type": "code",
   "execution_count": 17,
   "metadata": {},
   "outputs": [
    {
     "data": {
      "text/markdown": [
       "# atomic-reactor\n",
       "[rbz#2291488](https://bugzilla.redhat.com/2291488)"
      ],
      "text/plain": [
       "<IPython.core.display.Markdown object>"
      ]
     },
     "metadata": {},
     "output_type": "display_data"
    },
    {
     "name": "stdout",
     "output_type": "stream",
     "text": [
      "  - nothing provides python3.13dist(flatpak-module-tools) >= 0.11 needed by python3-atomic-reactor-3.14.0-8.fc41.noarch\n",
      "    = too many bugzillas for flatpak-module-tools\n",
      "        https://bugzilla.redhat.com/2252072\n",
      "        https://bugzilla.redhat.com/2291522\n",
      "set()\n"
     ]
    },
    {
     "data": {
      "text/markdown": [
       "# colin\n",
       "[rbz#2291501](https://bugzilla.redhat.com/2291501)"
      ],
      "text/plain": [
       "<IPython.core.display.Markdown object>"
      ]
     },
     "metadata": {},
     "output_type": "display_data"
    },
    {
     "name": "stdout",
     "output_type": "stream",
     "text": [
      "  - nothing provides python3.13dist(fmf) needed by python3-colin-0.5.3-9.fc41.noarch\n",
      "    = too many bugzillas for fmf\n",
      "        https://bugzilla.redhat.com/2279994\n",
      "        https://bugzilla.redhat.com/2291523\n",
      "set()\n"
     ]
    },
    {
     "data": {
      "text/markdown": [
       "# conda\n",
       "[rbz#2291502](https://bugzilla.redhat.com/2291502)"
      ],
      "text/plain": [
       "<IPython.core.display.Markdown object>"
      ]
     },
     "metadata": {},
     "output_type": "display_data"
    },
    {
     "name": "stdout",
     "output_type": "stream",
     "text": [
      "  - nothing provides python3.13dist(conda-package-handling) >= 2.2 needed by python3-conda-24.4.0-2.fc41.noarch\n",
      "    = blocked by python-conda-package-handling https://bugzilla.redhat.com/2291655\n",
      "  - nothing provides python3.13dist(menuinst) >= 2 needed by python3-conda-24.4.0-2.fc41.noarch\n",
      "    = blocked by python-menuinst https://bugzilla.redhat.com/2291774\n",
      "{2291774, 2291655}\n"
     ]
    },
    {
     "data": {
      "text/markdown": [
       "# electron-cash\n",
       "[rbz#2291514](https://bugzilla.redhat.com/2291514)"
      ],
      "text/plain": [
       "<IPython.core.display.Markdown object>"
      ]
     },
     "metadata": {},
     "output_type": "display_data"
    },
    {
     "name": "stdout",
     "output_type": "stream",
     "text": [
      "  - nothing provides python3.13dist(pathvalidate) needed by electron-cash-4.4.1-2.fc41.noarch\n",
      "    = too many bugzillas for python-pathvalidate\n",
      "        https://bugzilla.redhat.com/2259547\n",
      "        https://bugzilla.redhat.com/2291834\n",
      "set()\n"
     ]
    },
    {
     "data": {
      "text/markdown": [
       "# fts-rest-client\n",
       "[rbz#2291525](https://bugzilla.redhat.com/2291525)"
      ],
      "text/plain": [
       "<IPython.core.display.Markdown object>"
      ]
     },
     "metadata": {},
     "output_type": "display_data"
    },
    {
     "name": "stdout",
     "output_type": "stream",
     "text": [
      "  - nothing provides python3.13dist(m2crypto) needed by fts-rest-client-3.13.1-2.fc41.noarch\n",
      "    = too many bugzillas for m2crypto\n",
      "        https://bugzilla.redhat.com/2245806\n",
      "        https://bugzilla.redhat.com/2291556\n",
      "set()\n"
     ]
    },
    {
     "data": {
      "text/markdown": [
       "# ipython\n",
       "[rbz#2291545](https://bugzilla.redhat.com/2291545)"
      ],
      "text/plain": [
       "<IPython.core.display.Markdown object>"
      ]
     },
     "metadata": {},
     "output_type": "display_data"
    },
    {
     "name": "stdout",
     "output_type": "stream",
     "text": [
      "  - nothing provides python3.13dist(ipywidgets) needed by python3-ipython+notebook-8.25.0-4.fc41.noarch\n",
      "    = blocked by python-ipywidgets https://bugzilla.redhat.com/2291744\n",
      "  - nothing provides python3.13dist(notebook) needed by python3-ipython+notebook-8.25.0-4.fc41.noarch\n",
      "    = blocked by python-notebook https://bugzilla.redhat.com/2291797\n",
      "{2291744, 2291797}\n"
     ]
    },
    {
     "data": {
      "text/markdown": [
       "# onnxruntime\n",
       "[rbz#2291568](https://bugzilla.redhat.com/2291568)"
      ],
      "text/plain": [
       "<IPython.core.display.Markdown object>"
      ]
     },
     "metadata": {},
     "output_type": "display_data"
    },
    {
     "name": "stdout",
     "output_type": "stream",
     "text": [
      "  - nothing provides python3.13dist(coloredlogs) needed by python3-onnxruntime-1.17.3-2.fc41.x86_64\n",
      "    = blocked by python-coloredlogs https://bugzilla.redhat.com/2291652\n",
      "{2291652}\n"
     ]
    },
    {
     "data": {
      "text/markdown": [
       "# pagure\n",
       "[rbz#2291574](https://bugzilla.redhat.com/2291574)"
      ],
      "text/plain": [
       "<IPython.core.display.Markdown object>"
      ]
     },
     "metadata": {},
     "output_type": "display_data"
    },
    {
     "name": "stdout",
     "output_type": "stream",
     "text": [
      "  - nothing provides python3.13dist(straight-plugin) needed by pagure-5.14.1-3.fc41.noarch\n",
      "    = too many bugzillas for python-straight-plugin\n",
      "        https://bugzilla.redhat.com/2244822\n",
      "        https://bugzilla.redhat.com/2291934\n",
      "set()\n"
     ]
    },
    {
     "data": {
      "text/markdown": [
       "# poezio-omemo\n",
       "[rbz#2291581](https://bugzilla.redhat.com/2291581)"
      ],
      "text/plain": [
       "<IPython.core.display.Markdown object>"
      ]
     },
     "metadata": {},
     "output_type": "display_data"
    },
    {
     "name": "stdout",
     "output_type": "stream",
     "text": [
      "  - nothing provides python3.13dist(slixmpp-omemo) >= 0.7 needed by poezio-omemo-0.6.0-9.fc41.noarch\n",
      "set()\n"
     ]
    },
    {
     "data": {
      "text/markdown": [
       "# postfix-mta-sts-resolver\n",
       "[rbz#2291582](https://bugzilla.redhat.com/2291582)"
      ],
      "text/plain": [
       "<IPython.core.display.Markdown object>"
      ]
     },
     "metadata": {},
     "output_type": "display_data"
    },
    {
     "name": "stdout",
     "output_type": "stream",
     "text": [
      "  - nothing provides python3.13dist(pylint) needed by postfix-mta-sts-resolver+dev-1.4.0-5.fc41.noarch\n",
      "    = blocked by pylint https://bugzilla.redhat.com/2291594\n",
      "{2291594}\n"
     ]
    },
    {
     "data": {
      "text/markdown": [
       "# prelude-correlator\n",
       "[rbz#2291583](https://bugzilla.redhat.com/2291583)"
      ],
      "text/plain": [
       "<IPython.core.display.Markdown object>"
      ]
     },
     "metadata": {},
     "output_type": "display_data"
    },
    {
     "name": "stdout",
     "output_type": "stream",
     "text": [
      "  - nothing provides python3.13dist(prelude) >= 5.2 needed by python3-prelude-correlator-5.2.0-14.fc41.x86_64\n",
      "    = too many bugzillas for libprelude\n",
      "        https://bugzilla.redhat.com/2247193\n",
      "        https://bugzilla.redhat.com/2291552\n",
      "set()\n"
     ]
    },
    {
     "data": {
      "text/markdown": [
       "# python-WSGIProxy2\n",
       "[rbz#2291601](https://bugzilla.redhat.com/2291601)"
      ],
      "text/plain": [
       "<IPython.core.display.Markdown object>"
      ]
     },
     "metadata": {},
     "output_type": "display_data"
    },
    {
     "name": "stdout",
     "output_type": "stream",
     "text": [
      "  - nothing provides python3.13dist(webob) needed by python3-WSGIProxy2-0.4.6-17.fc41.noarch\n",
      "    = too many bugzillas for python-webob\n",
      "        https://bugzilla.redhat.com/2245641\n",
      "        https://bugzilla.redhat.com/2291971\n",
      "set()\n"
     ]
    },
    {
     "data": {
      "text/markdown": [
       "# python-acoustid\n",
       "[rbz#2291602](https://bugzilla.redhat.com/2291602)"
      ],
      "text/plain": [
       "<IPython.core.display.Markdown object>"
      ]
     },
     "metadata": {},
     "output_type": "display_data"
    },
    {
     "name": "stdout",
     "output_type": "stream",
     "text": [
      "  - nothing provides python3.13dist(audioread) needed by python3-acoustid-1.3.0-4.fc41.noarch\n",
      "    = too many bugzillas for python-audioread\n",
      "        https://bugzilla.redhat.com/2248130\n",
      "        https://bugzilla.redhat.com/2291626\n",
      "set()\n"
     ]
    },
    {
     "data": {
      "text/markdown": [
       "# python-aioasuswrt\n",
       "[rbz#2291608](https://bugzilla.redhat.com/2291608)"
      ],
      "text/plain": [
       "<IPython.core.display.Markdown object>"
      ]
     },
     "metadata": {},
     "output_type": "display_data"
    },
    {
     "name": "stdout",
     "output_type": "stream",
     "text": [
      "  - nothing provides python3.13dist(asyncssh) needed by python3-aioasuswrt-1.4.0-9.fc41.noarch\n",
      "    = too many bugzillas for python-asyncssh\n",
      "        https://bugzilla.redhat.com/2251916\n",
      "        https://bugzilla.redhat.com/2291625\n",
      "set()\n"
     ]
    },
    {
     "data": {
      "text/markdown": [
       "# python-backlash\n",
       "[rbz#2291630](https://bugzilla.redhat.com/2291630)"
      ],
      "text/plain": [
       "<IPython.core.display.Markdown object>"
      ]
     },
     "metadata": {},
     "output_type": "display_data"
    },
    {
     "name": "stdout",
     "output_type": "stream",
     "text": [
      "  - nothing provides python3.13dist(webob) needed by python3-backlash-0.3.2-2.fc41.noarch\n",
      "    = too many bugzillas for python-webob\n",
      "        https://bugzilla.redhat.com/2245641\n",
      "        https://bugzilla.redhat.com/2291971\n",
      "set()\n"
     ]
    },
    {
     "data": {
      "text/markdown": [
       "# python-conda-libmamba-solver\n",
       "[rbz#2291654](https://bugzilla.redhat.com/2291654)"
      ],
      "text/plain": [
       "<IPython.core.display.Markdown object>"
      ]
     },
     "metadata": {},
     "output_type": "display_data"
    },
    {
     "name": "stdout",
     "output_type": "stream",
     "text": [
      "  - nothing provides python3.13dist(boltons) >= 23 needed by python3-conda-libmamba-solver-23.11.1-5.fc41.noarch\n",
      "    = too many bugzillas for python-boltons\n",
      "        https://bugzilla.redhat.com/2259631\n",
      "        https://bugzilla.redhat.com/2291638\n",
      "set()\n"
     ]
    },
    {
     "data": {
      "text/markdown": [
       "# python-django-rq\n",
       "[rbz#2291677](https://bugzilla.redhat.com/2291677)"
      ],
      "text/plain": [
       "<IPython.core.display.Markdown object>"
      ]
     },
     "metadata": {},
     "output_type": "display_data"
    },
    {
     "name": "stdout",
     "output_type": "stream",
     "text": [
      "  - nothing provides python3.13dist(rq) >= 1.2 needed by python3-django-rq-2.4.1-12.fc41.noarch\n",
      "    = blocked by python-rq https://bugzilla.redhat.com/2291904\n",
      "{2291904}\n"
     ]
    },
    {
     "data": {
      "text/markdown": [
       "# python-glyphsLib\n",
       "[rbz#2291723](https://bugzilla.redhat.com/2291723)"
      ],
      "text/plain": [
       "<IPython.core.display.Markdown object>"
      ]
     },
     "metadata": {},
     "output_type": "display_data"
    },
    {
     "name": "stdout",
     "output_type": "stream",
     "text": [
      "  - nothing provides python3.13dist(ufolib2) >= 0.6.2 needed by python3-glyphsLib-5.1.11-13.fc41.noarch\n",
      "    = blocked by python-ufoLib2 https://bugzilla.redhat.com/2291962\n",
      "{2291962}\n"
     ]
    },
    {
     "data": {
      "text/markdown": [
       "# python-pcodedmp\n",
       "[rbz#2291836](https://bugzilla.redhat.com/2291836)"
      ],
      "text/plain": [
       "<IPython.core.display.Markdown object>"
      ]
     },
     "metadata": {},
     "output_type": "display_data"
    },
    {
     "name": "stdout",
     "output_type": "stream",
     "text": [
      "  - nothing provides python3.13dist(oletools) >= 0.54 needed by python3-pcodedmp-1.2.6-20.fc41.noarch\n",
      "    = blocked by python-oletools https://bugzilla.redhat.com/2291805\n",
      "{2291805}\n"
     ]
    },
    {
     "data": {
      "text/markdown": [
       "# python-pecan\n",
       "[rbz#2291838](https://bugzilla.redhat.com/2291838)"
      ],
      "text/plain": [
       "<IPython.core.display.Markdown object>"
      ]
     },
     "metadata": {},
     "output_type": "display_data"
    },
    {
     "name": "stdout",
     "output_type": "stream",
     "text": [
      "  - nothing provides python3.13dist(logutils) >= 0.3 needed by python3-pecan-1.4.2-8.fc41.noarch\n",
      "    = too many bugzillas for python-logutils\n",
      "        https://bugzilla.redhat.com/2226233\n",
      "        https://bugzilla.redhat.com/2291763\n",
      "  - nothing provides python3.13dist(webob) >= 1.8 needed by python3-pecan-1.4.2-8.fc41.noarch\n",
      "    = too many bugzillas for python-webob\n",
      "        https://bugzilla.redhat.com/2245641\n",
      "        https://bugzilla.redhat.com/2291971\n",
      "set()\n"
     ]
    },
    {
     "data": {
      "text/markdown": [
       "# python-prov\n",
       "[rbz#2291850](https://bugzilla.redhat.com/2291850)"
      ],
      "text/plain": [
       "<IPython.core.display.Markdown object>"
      ]
     },
     "metadata": {},
     "output_type": "display_data"
    },
    {
     "name": "stdout",
     "output_type": "stream",
     "text": [
      "  - nothing provides python3.13dist(rdflib) >= 4.2.1 needed by python3-prov-2.0.0-7.fc41.noarch\n",
      "    = too many bugzillas for python-rdflib\n",
      "        https://bugzilla.redhat.com/2283518\n",
      "        https://bugzilla.redhat.com/2291894\n",
      "set()\n"
     ]
    },
    {
     "data": {
      "text/markdown": [
       "# python-pyls-spyder\n",
       "[rbz#2291862](https://bugzilla.redhat.com/2291862)"
      ],
      "text/plain": [
       "<IPython.core.display.Markdown object>"
      ]
     },
     "metadata": {},
     "output_type": "display_data"
    },
    {
     "name": "stdout",
     "output_type": "stream",
     "text": [
      "  - nothing provides python3.13dist(python-lsp-server) >= 1.0.1 needed by python3-pyls-spyder-0.4.0-11.fc41.noarch\n",
      "set()\n"
     ]
    },
    {
     "data": {
      "text/markdown": [
       "# python-pytest-localserver\n",
       "[rbz#2291880](https://bugzilla.redhat.com/2291880)"
      ],
      "text/plain": [
       "<IPython.core.display.Markdown object>"
      ]
     },
     "metadata": {},
     "output_type": "display_data"
    },
    {
     "name": "stdout",
     "output_type": "stream",
     "text": [
      "  - nothing provides python3.13dist(aiosmtpd) needed by python3-pytest-localserver+smtp-0.8.1-3.fc41.noarch\n",
      "    = too many bugzillas for python-aiosmtpd\n",
      "        https://bugzilla.redhat.com/2263017\n",
      "        https://bugzilla.redhat.com/2291610\n",
      "set()\n"
     ]
    },
    {
     "data": {
      "text/markdown": [
       "# python-rsdclient\n",
       "[rbz#2291905](https://bugzilla.redhat.com/2291905)"
      ],
      "text/plain": [
       "<IPython.core.display.Markdown object>"
      ]
     },
     "metadata": {},
     "output_type": "display_data"
    },
    {
     "name": "stdout",
     "output_type": "stream",
     "text": [
      "  - nothing provides python3.13dist(osc-lib) >= 1.7 needed by python3-rsdclient-1.0.2-15.fc41.noarch\n",
      "    = blocked by python-osc-lib https://bugzilla.redhat.com/2291817\n",
      "{2291817}\n"
     ]
    },
    {
     "data": {
      "text/markdown": [
       "# python-sentry-sdk\n",
       "[rbz#2291914](https://bugzilla.redhat.com/2291914)"
      ],
      "text/plain": [
       "<IPython.core.display.Markdown object>"
      ]
     },
     "metadata": {},
     "output_type": "display_data"
    },
    {
     "name": "stdout",
     "output_type": "stream",
     "text": [
      "  - nothing provides python3.13dist(bottle) >= 0.12.13 needed by python3-sentry-sdk+bottle-2.1.1-3.fc41.noarch\n",
      "    = too many bugzillas for python-bottle\n",
      "        https://bugzilla.redhat.com/2245642\n",
      "        https://bugzilla.redhat.com/2291639\n",
      "  - nothing provides python3.13dist(falcon) >= 1.4 needed by python3-sentry-sdk+falcon-2.1.1-3.fc41.noarch\n",
      "    = blocked by python-falcon https://bugzilla.redhat.com/2291695\n",
      "  - nothing provides python3.13dist(fastapi) >= 0.79 needed by python3-sentry-sdk+fastapi-2.1.1-3.fc41.noarch\n",
      "    = blocked by python-fastapi https://bugzilla.redhat.com/2291697\n",
      "  - nothing provides python3.13dist(opentelemetry-distro) >= 0.35~b0 needed by python3-sentry-sdk+opentelemetry-2.1.1-3.fc41.noarch\n",
      "    = blocked by python-opentelemetry-contrib https://bugzilla.redhat.com/2291813\n",
      "  - nothing provides (python3.13dist(opentelemetry-distro) >= 0.40~b0 with python3.13dist(opentelemetry-distro) < 1) needed by python3-sentry-sdk+opentelemetry-experimental-2.1.1-3.fc41.noarch\n",
      "    = blocked by python-opentelemetry-contrib https://bugzilla.redhat.com/2291813\n",
      "  - nothing provides (python3.13dist(opentelemetry-instrumentation-aiohttp-client) >= 0.40~b0 with python3.13dist(opentelemetry-instrumentation-aiohttp-client) < 1) needed by python3-sentry-sdk+opentelemetry-experimental-2.1.1-3.fc41.noarch\n",
      "    = blocked by python-opentelemetry-contrib https://bugzilla.redhat.com/2291813\n",
      "  - nothing provides (python3.13dist(opentelemetry-instrumentation-django) >= 0.40~b0 with python3.13dist(opentelemetry-instrumentation-django) < 1) needed by python3-sentry-sdk+opentelemetry-experimental-2.1.1-3.fc41.noarch\n",
      "    = blocked by python-opentelemetry-contrib https://bugzilla.redhat.com/2291813\n",
      "  - nothing provides (python3.13dist(opentelemetry-instrumentation-fastapi) >= 0.40~b0 with python3.13dist(opentelemetry-instrumentation-fastapi) < 1) needed by python3-sentry-sdk+opentelemetry-experimental-2.1.1-3.fc41.noarch\n",
      "    = blocked by python-opentelemetry-contrib https://bugzilla.redhat.com/2291813\n",
      "  - nothing provides (python3.13dist(opentelemetry-instrumentation-flask) >= 0.40~b0 with python3.13dist(opentelemetry-instrumentation-flask) < 1) needed by python3-sentry-sdk+opentelemetry-experimental-2.1.1-3.fc41.noarch\n",
      "    = blocked by python-opentelemetry-contrib https://bugzilla.redhat.com/2291813\n",
      "  - nothing provides (python3.13dist(opentelemetry-instrumentation-requests) >= 0.40~b0 with python3.13dist(opentelemetry-instrumentation-requests) < 1) needed by python3-sentry-sdk+opentelemetry-experimental-2.1.1-3.fc41.noarch\n",
      "    = blocked by python-opentelemetry-contrib https://bugzilla.redhat.com/2291813\n",
      "  - nothing provides (python3.13dist(opentelemetry-instrumentation-sqlite3) >= 0.40~b0 with python3.13dist(opentelemetry-instrumentation-sqlite3) < 1) needed by python3-sentry-sdk+opentelemetry-experimental-2.1.1-3.fc41.noarch\n",
      "    = blocked by python-opentelemetry-contrib https://bugzilla.redhat.com/2291813\n",
      "  - nothing provides (python3.13dist(opentelemetry-instrumentation-urllib) >= 0.40~b0 with python3.13dist(opentelemetry-instrumentation-urllib) < 1) needed by python3-sentry-sdk+opentelemetry-experimental-2.1.1-3.fc41.noarch\n",
      "    = blocked by python-opentelemetry-contrib https://bugzilla.redhat.com/2291813\n",
      "  - nothing provides python3.13dist(rq) >= 0.6 needed by python3-sentry-sdk+rq-2.1.1-3.fc41.noarch\n",
      "    = blocked by python-rq https://bugzilla.redhat.com/2291904\n",
      "  - nothing provides python3.13dist(starlette) >= 0.19.1 needed by python3-sentry-sdk+starlette-2.1.1-3.fc41.noarch\n",
      "    = too many bugzillas for python-starlette\n",
      "        https://bugzilla.redhat.com/2290559\n",
      "        https://bugzilla.redhat.com/2291931\n",
      "{2291904, 2291697, 2291813, 2291695}\n"
     ]
    },
    {
     "data": {
      "text/markdown": [
       "# python-textfsm\n",
       "[rbz#2291946](https://bugzilla.redhat.com/2291946)"
      ],
      "text/plain": [
       "<IPython.core.display.Markdown object>"
      ]
     },
     "metadata": {},
     "output_type": "display_data"
    },
    {
     "name": "stdout",
     "output_type": "stream",
     "text": [
      "  - nothing provides python3.13dist(future) needed by python3-textfsm-1.1.3-2.fc41.noarch\n",
      "    = too many bugzillas for future\n",
      "        https://bugzilla.redhat.com/2250662\n",
      "        https://bugzilla.redhat.com/2291526\n",
      "set()\n"
     ]
    },
    {
     "data": {
      "text/markdown": [
       "# python-trezor\n",
       "[rbz#2291956](https://bugzilla.redhat.com/2291956)"
      ],
      "text/plain": [
       "<IPython.core.display.Markdown object>"
      ]
     },
     "metadata": {},
     "output_type": "display_data"
    },
    {
     "name": "stdout",
     "output_type": "stream",
     "text": [
      "  - nothing provides python3.13dist(libusb1) >= 1.6.4 needed by python3-trezor-0.13.8-4.fc41.noarch\n",
      "    = too many bugzillas for python-libusb1\n",
      "        https://bugzilla.redhat.com/2280555\n",
      "        https://bugzilla.redhat.com/2291760\n",
      "set()\n"
     ]
    },
    {
     "data": {
      "text/markdown": [
       "# python-visvis\n",
       "[rbz#2291967](https://bugzilla.redhat.com/2291967)"
      ],
      "text/plain": [
       "<IPython.core.display.Markdown object>"
      ]
     },
     "metadata": {},
     "output_type": "display_data"
    },
    {
     "name": "stdout",
     "output_type": "stream",
     "text": [
      "  - nothing provides python3.13dist(pyopengl) needed by python3-visvis-1.14.0-8.fc41.noarch\n",
      "    = blocked by python-pyopengl https://bugzilla.redhat.com/2291868\n",
      "{2291868}\n"
     ]
    },
    {
     "data": {
      "text/markdown": [
       "# python-x3dh\n",
       "[rbz#2291977](https://bugzilla.redhat.com/2291977)"
      ],
      "text/plain": [
       "<IPython.core.display.Markdown object>"
      ]
     },
     "metadata": {},
     "output_type": "display_data"
    },
    {
     "name": "stdout",
     "output_type": "stream",
     "text": [
      "  - nothing provides python3.13dist(pydantic) >= 1.7.4 needed by python3-x3dh-1.0.3-2.fc41.noarch\n",
      "    = too many bugzillas for python-pydantic\n",
      "        https://bugzilla.redhat.com/2256753\n",
      "        https://bugzilla.redhat.com/2291854\n",
      "set()\n"
     ]
    },
    {
     "data": {
      "text/markdown": [
       "# python-zanata2fedmsg\n",
       "[rbz#2291983](https://bugzilla.redhat.com/2291983)"
      ],
      "text/plain": [
       "<IPython.core.display.Markdown object>"
      ]
     },
     "metadata": {},
     "output_type": "display_data"
    },
    {
     "name": "stdout",
     "output_type": "stream",
     "text": [
      "  - nothing provides python3.13dist(fedmsg) needed by python3-zanata2fedmsg-0.2-30.fc41.noarch\n",
      "    = blocked by fedmsg https://bugzilla.redhat.com/2291518\n",
      "{2291518}\n"
     ]
    },
    {
     "data": {
      "text/markdown": [
       "# resalloc-openstack\n",
       "[rbz#2291998](https://bugzilla.redhat.com/2291998)"
      ],
      "text/plain": [
       "<IPython.core.display.Markdown object>"
      ]
     },
     "metadata": {},
     "output_type": "display_data"
    },
    {
     "name": "stdout",
     "output_type": "stream",
     "text": [
      "  - nothing provides python3.13dist(python-cinderclient) needed by resalloc-openstack-9.8-2.fc41.noarch\n",
      "    = blocked by python-cinderclient https://bugzilla.redhat.com/2291651\n",
      "  - nothing provides python3.13dist(python-neutronclient) needed by resalloc-openstack-9.8-2.fc41.noarch\n",
      "    = blocked by python-neutronclient https://bugzilla.redhat.com/2291793\n",
      "  - nothing provides python3.13dist(python-novaclient) needed by resalloc-openstack-9.8-2.fc41.noarch\n",
      "    = blocked by python-novaclient https://bugzilla.redhat.com/2291798\n",
      "{2291793, 2291651, 2291798}\n"
     ]
    },
    {
     "data": {
      "text/markdown": [
       "# solarwolf\n",
       "[rbz#2292006](https://bugzilla.redhat.com/2292006)"
      ],
      "text/plain": [
       "<IPython.core.display.Markdown object>"
      ]
     },
     "metadata": {},
     "output_type": "display_data"
    },
    {
     "name": "stdout",
     "output_type": "stream",
     "text": [
      "  - nothing provides python3.13dist(pygame) needed by solarwolf-1.6.0-19.fc41.a4.noarch\n",
      "    = too many bugzillas for pygame\n",
      "        https://bugzilla.redhat.com/2250670\n",
      "        https://bugzilla.redhat.com/2291589\n",
      "set()\n"
     ]
    },
    {
     "data": {
      "text/markdown": [
       "# syncplay\n",
       "[rbz#2292010](https://bugzilla.redhat.com/2292010)"
      ],
      "text/plain": [
       "<IPython.core.display.Markdown object>"
      ]
     },
     "metadata": {},
     "output_type": "display_data"
    },
    {
     "name": "stdout",
     "output_type": "stream",
     "text": [
      "  - nothing provides python3.13dist(pyside6) needed by syncplay-1.7.3-2.fc41.noarch\n",
      "    = too many bugzillas for python-pyside6\n",
      "        https://bugzilla.redhat.com/2266591\n",
      "        https://bugzilla.redhat.com/2291878\n",
      "set()\n"
     ]
    },
    {
     "data": {
      "text/markdown": [
       "# trac\n",
       "[rbz#2292013](https://bugzilla.redhat.com/2292013)"
      ],
      "text/plain": [
       "<IPython.core.display.Markdown object>"
      ]
     },
     "metadata": {},
     "output_type": "display_data"
    },
    {
     "name": "stdout",
     "output_type": "stream",
     "text": [
      "  - nothing provides python3.13dist(multipart) needed by trac-1.6-3.fc41.noarch\n",
      "Check: []\n",
      "set()\n"
     ]
    },
    {
     "data": {
      "text/markdown": [
       "# vdirsyncer\n",
       "[rbz#2292017](https://bugzilla.redhat.com/2292017)"
      ],
      "text/plain": [
       "<IPython.core.display.Markdown object>"
      ]
     },
     "metadata": {},
     "output_type": "display_data"
    },
    {
     "name": "stdout",
     "output_type": "stream",
     "text": [
      "  - nothing provides (python3.13dist(aiostream) < 0.6~~ with python3.13dist(aiostream) >= 0.4.3) needed by python3-vdirsyncer-0.19.2-3.fc41.noarch\n",
      "    = blocked by python-aiostream https://bugzilla.redhat.com/2291611\n",
      "{2291611}\n"
     ]
    },
    {
     "data": {
      "text/markdown": [
       "# zanata-python-client\n",
       "[rbz#2292023](https://bugzilla.redhat.com/2292023)"
      ],
      "text/plain": [
       "<IPython.core.display.Markdown object>"
      ]
     },
     "metadata": {},
     "output_type": "display_data"
    },
    {
     "name": "stdout",
     "output_type": "stream",
     "text": [
      "  - nothing provides python3.13dist(future) needed by python3-zanata-client-1.5.3-19.fc41.noarch\n",
      "    = too many bugzillas for future\n",
      "        https://bugzilla.redhat.com/2250662\n",
      "        https://bugzilla.redhat.com/2291526\n",
      "set()\n"
     ]
    }
   ],
   "source": [
    "for bug in pure_fti_bugz:\n",
    "    display(Markdown(f'# {bug.component}\\n[rbz#{bug.id}](https://bugzilla.redhat.com/{bug.id})'))\n",
    "    comments = bug.getcomments()\n",
    "    initial_comment = comments[0]\n",
    "    if initial_comment['creator'] != 'fti-bugs@fedoraproject.org':\n",
    "        print('Not an automated FTI bug by Miro')\n",
    "        continue\n",
    "\n",
    "    blocked_by = set()\n",
    "    lines = initial_comment['text'].splitlines()\n",
    "    for line in lines:\n",
    "        if line.startswith('  - nothing provides '):\n",
    "            print(line)\n",
    "            provide = line.split(' ')[5]\n",
    "            if provide.startswith('('):\n",
    "                provide = provide[1:]\n",
    "            if provide.startswith('python3.13dist('):\n",
    "                old_provide = provide.replace('python3.13dist(', 'python3.12dist(')\n",
    "                blocker_components = !repoquery -q --repo=rawhide --source --whatprovides \"{old_provide}\" | pkgname\n",
    "                if len(set(blocker_components)) == 1:\n",
    "                    blocker_component = blocker_components[0]\n",
    "                    blocker_bugz = [b for b in bugz if b.component == blocker_component]\n",
    "                    if len(blocker_bugz) > 1:\n",
    "                        print(f\"    = too many bugzillas for {blocker_component}\")\n",
    "                        for bug in blocker_bugz:\n",
    "                            print(f\"        https://bugzilla.redhat.com/{bug.id}\")\n",
    "                    elif blocker_bugz:\n",
    "                        bid = blocker_bugz[0].id\n",
    "                        print(f\"    = blocked by {blocker_component} https://bugzilla.redhat.com/{bid}\")\n",
    "                        blocked_by.add(bid)\n",
    "                else:\n",
    "                    print('Check:', blocker_components)\n",
    "    print(blocked_by)\n",
    "    #if blocked_by:\n",
    "    #    add_blockers = bzapi.build_update(depends_on_add=sorted(blocked_by))\n",
    "    #    bzapi.update_bugs([bug.id], add_blockers)"
   ]
  },
  {
   "cell_type": "code",
   "execution_count": null,
   "metadata": {},
   "outputs": [],
   "source": []
  }
 ],
 "metadata": {
  "kernelspec": {
   "display_name": "Python 3 (ipykernel)",
   "language": "python",
   "name": "python3"
  },
  "language_info": {
   "codemirror_mode": {
    "name": "ipython",
    "version": 3
   },
   "file_extension": ".py",
   "mimetype": "text/x-python",
   "name": "python",
   "nbconvert_exporter": "python",
   "pygments_lexer": "ipython3",
   "version": "3.12.2"
  }
 },
 "nbformat": 4,
 "nbformat_minor": 4
}
