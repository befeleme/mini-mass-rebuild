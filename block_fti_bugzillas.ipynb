{
 "cells": [
  {
   "cell_type": "markdown",
   "metadata": {},
   "source": [
    "This helper makes sure that the packages that rebuilt successfully with Python 3.10 but fail to install due to their dependencies not yet rebuilt have bugzillas blocked by the appropriate bugzillas of said dependencies.\n",
    "\n",
    " 1. For every package that has been successfully rebuilt, we see if it has a bugzilla that blocks `PYTHON3.10` and `F35FailsToInstall`.\n",
    " 2. If so, we parse the initial comment for missing `python3.10dist()` dependencies.\n",
    " 3. We convert the dependencies to `python3.9dist()` dependencies and find their component.\n",
    " 4. If the component has a `PYTHON3.10` bugzilla, we mark it as blocking the bugzilla from (1)."
   ]
  },
  {
   "cell_type": "code",
   "execution_count": 2,
   "metadata": {},
   "outputs": [],
   "source": [
    "from IPython.display import display, Markdown"
   ]
  },
  {
   "cell_type": "code",
   "execution_count": 46,
   "metadata": {},
   "outputs": [
    {
     "name": "stdout",
     "output_type": "stream",
     "text": [
      "20\n",
      "40\n",
      "60\n",
      "80\n",
      "100\n",
      "120\n",
      "140\n",
      "160\n",
      "180\n",
      "200\n",
      "220\n",
      "240\n",
      "260\n",
      "280\n",
      "300\n",
      "320\n",
      "340\n",
      "360\n",
      "380\n",
      "400\n",
      "420\n",
      "440\n",
      "460\n",
      "480\n",
      "500\n",
      "520\n",
      "540\n"
     ]
    },
    {
     "data": {
      "text/plain": [
       "[<Bug #2099191 on https://bugzilla.redhat.com/xmlrpc.cgi at 0x7f1da6d01c60>,\n",
       " <Bug #2099189 on https://bugzilla.redhat.com/xmlrpc.cgi at 0x7f1da6d03430>,\n",
       " <Bug #2099185 on https://bugzilla.redhat.com/xmlrpc.cgi at 0x7f1da6d03400>,\n",
       " <Bug #2099184 on https://bugzilla.redhat.com/xmlrpc.cgi at 0x7f1da6d033d0>,\n",
       " <Bug #2099183 on https://bugzilla.redhat.com/xmlrpc.cgi at 0x7f1da6d033a0>,\n",
       " <Bug #2099182 on https://bugzilla.redhat.com/xmlrpc.cgi at 0x7f1da6d03370>,\n",
       " <Bug #2099181 on https://bugzilla.redhat.com/xmlrpc.cgi at 0x7f1da6d03340>,\n",
       " <Bug #2099180 on https://bugzilla.redhat.com/xmlrpc.cgi at 0x7f1da6d03310>,\n",
       " <Bug #2099177 on https://bugzilla.redhat.com/xmlrpc.cgi at 0x7f1da6d032e0>,\n",
       " <Bug #2099176 on https://bugzilla.redhat.com/xmlrpc.cgi at 0x7f1da6d032b0>,\n",
       " <Bug #2099175 on https://bugzilla.redhat.com/xmlrpc.cgi at 0x7f1da6d03280>,\n",
       " <Bug #2099174 on https://bugzilla.redhat.com/xmlrpc.cgi at 0x7f1da6d03250>,\n",
       " <Bug #2099173 on https://bugzilla.redhat.com/xmlrpc.cgi at 0x7f1da6d03220>,\n",
       " <Bug #2099171 on https://bugzilla.redhat.com/xmlrpc.cgi at 0x7f1da6d031f0>,\n",
       " <Bug #2099170 on https://bugzilla.redhat.com/xmlrpc.cgi at 0x7f1da6d031c0>,\n",
       " <Bug #2099169 on https://bugzilla.redhat.com/xmlrpc.cgi at 0x7f1da6d03190>,\n",
       " <Bug #2099168 on https://bugzilla.redhat.com/xmlrpc.cgi at 0x7f1da6d03160>,\n",
       " <Bug #2099167 on https://bugzilla.redhat.com/xmlrpc.cgi at 0x7f1da6d01a80>,\n",
       " <Bug #2099165 on https://bugzilla.redhat.com/xmlrpc.cgi at 0x7f1da6d01ff0>,\n",
       " <Bug #2099164 on https://bugzilla.redhat.com/xmlrpc.cgi at 0x7f1da6d01990>,\n",
       " <Bug #2099161 on https://bugzilla.redhat.com/xmlrpc.cgi at 0x7f1da6e17b20>,\n",
       " <Bug #2099160 on https://bugzilla.redhat.com/xmlrpc.cgi at 0x7f1da6d020b0>,\n",
       " <Bug #2099159 on https://bugzilla.redhat.com/xmlrpc.cgi at 0x7f1da6d02080>,\n",
       " <Bug #2099154 on https://bugzilla.redhat.com/xmlrpc.cgi at 0x7f1da6d02050>,\n",
       " <Bug #2099152 on https://bugzilla.redhat.com/xmlrpc.cgi at 0x7f1da6e17790>,\n",
       " <Bug #2099150 on https://bugzilla.redhat.com/xmlrpc.cgi at 0x7f1da6e16800>,\n",
       " <Bug #2099148 on https://bugzilla.redhat.com/xmlrpc.cgi at 0x7f1da6e163e0>,\n",
       " <Bug #2099147 on https://bugzilla.redhat.com/xmlrpc.cgi at 0x7f1da6e16050>,\n",
       " <Bug #2099146 on https://bugzilla.redhat.com/xmlrpc.cgi at 0x7f1da6e15480>,\n",
       " <Bug #2099145 on https://bugzilla.redhat.com/xmlrpc.cgi at 0x7f1da6e161a0>,\n",
       " <Bug #2099142 on https://bugzilla.redhat.com/xmlrpc.cgi at 0x7f1da6e15420>,\n",
       " <Bug #2099141 on https://bugzilla.redhat.com/xmlrpc.cgi at 0x7f1da6e15ff0>,\n",
       " <Bug #2099140 on https://bugzilla.redhat.com/xmlrpc.cgi at 0x7f1da6e164d0>,\n",
       " <Bug #2099139 on https://bugzilla.redhat.com/xmlrpc.cgi at 0x7f1da6e160e0>,\n",
       " <Bug #2099137 on https://bugzilla.redhat.com/xmlrpc.cgi at 0x7f1da6e165c0>,\n",
       " <Bug #2099134 on https://bugzilla.redhat.com/xmlrpc.cgi at 0x7f1da6e17ac0>,\n",
       " <Bug #2099133 on https://bugzilla.redhat.com/xmlrpc.cgi at 0x7f1da6e167a0>,\n",
       " <Bug #2099131 on https://bugzilla.redhat.com/xmlrpc.cgi at 0x7f1da6e14be0>,\n",
       " <Bug #2099129 on https://bugzilla.redhat.com/xmlrpc.cgi at 0x7f1da6e16440>,\n",
       " <Bug #2099128 on https://bugzilla.redhat.com/xmlrpc.cgi at 0x7f1da6e16500>,\n",
       " <Bug #2099127 on https://bugzilla.redhat.com/xmlrpc.cgi at 0x7f1da6e154b0>,\n",
       " <Bug #2099126 on https://bugzilla.redhat.com/xmlrpc.cgi at 0x7f1da6e16530>,\n",
       " <Bug #2099124 on https://bugzilla.redhat.com/xmlrpc.cgi at 0x7f1da6e16260>,\n",
       " <Bug #2099122 on https://bugzilla.redhat.com/xmlrpc.cgi at 0x7f1da6e165f0>,\n",
       " <Bug #2099121 on https://bugzilla.redhat.com/xmlrpc.cgi at 0x7f1da6e166e0>,\n",
       " <Bug #2099119 on https://bugzilla.redhat.com/xmlrpc.cgi at 0x7f1da6e15120>,\n",
       " <Bug #2099118 on https://bugzilla.redhat.com/xmlrpc.cgi at 0x7f1da6e14c40>,\n",
       " <Bug #2099117 on https://bugzilla.redhat.com/xmlrpc.cgi at 0x7f1da6e164a0>,\n",
       " <Bug #2099116 on https://bugzilla.redhat.com/xmlrpc.cgi at 0x7f1da6e153f0>,\n",
       " <Bug #2099115 on https://bugzilla.redhat.com/xmlrpc.cgi at 0x7f1da6e17b50>,\n",
       " <Bug #2099113 on https://bugzilla.redhat.com/xmlrpc.cgi at 0x7f1da6e162c0>,\n",
       " <Bug #2099112 on https://bugzilla.redhat.com/xmlrpc.cgi at 0x7f1da6e166b0>,\n",
       " <Bug #2099111 on https://bugzilla.redhat.com/xmlrpc.cgi at 0x7f1da6e17af0>,\n",
       " <Bug #2099110 on https://bugzilla.redhat.com/xmlrpc.cgi at 0x7f1da6e16380>,\n",
       " <Bug #2099109 on https://bugzilla.redhat.com/xmlrpc.cgi at 0x7f1da6e16620>,\n",
       " <Bug #2099108 on https://bugzilla.redhat.com/xmlrpc.cgi at 0x7f1da6e16200>,\n",
       " <Bug #2099107 on https://bugzilla.redhat.com/xmlrpc.cgi at 0x7f1da6e16560>,\n",
       " <Bug #2099106 on https://bugzilla.redhat.com/xmlrpc.cgi at 0x7f1da6e16320>,\n",
       " <Bug #2099104 on https://bugzilla.redhat.com/xmlrpc.cgi at 0x7f1da6e16650>,\n",
       " <Bug #2099103 on https://bugzilla.redhat.com/xmlrpc.cgi at 0x7f1da6e16080>,\n",
       " <Bug #2099102 on https://bugzilla.redhat.com/xmlrpc.cgi at 0x7f1da6e16590>,\n",
       " <Bug #2099101 on https://bugzilla.redhat.com/xmlrpc.cgi at 0x7f1da6e17a90>,\n",
       " <Bug #2099099 on https://bugzilla.redhat.com/xmlrpc.cgi at 0x7f1da6e17a60>,\n",
       " <Bug #2099098 on https://bugzilla.redhat.com/xmlrpc.cgi at 0x7f1da6e17a30>,\n",
       " <Bug #2099096 on https://bugzilla.redhat.com/xmlrpc.cgi at 0x7f1da6e17a00>,\n",
       " <Bug #2099094 on https://bugzilla.redhat.com/xmlrpc.cgi at 0x7f1da6e179d0>,\n",
       " <Bug #2099093 on https://bugzilla.redhat.com/xmlrpc.cgi at 0x7f1da6e179a0>,\n",
       " <Bug #2099090 on https://bugzilla.redhat.com/xmlrpc.cgi at 0x7f1da6e17970>,\n",
       " <Bug #2099089 on https://bugzilla.redhat.com/xmlrpc.cgi at 0x7f1da6e17940>,\n",
       " <Bug #2099088 on https://bugzilla.redhat.com/xmlrpc.cgi at 0x7f1da6e17910>,\n",
       " <Bug #2099087 on https://bugzilla.redhat.com/xmlrpc.cgi at 0x7f1da6e178e0>,\n",
       " <Bug #2099086 on https://bugzilla.redhat.com/xmlrpc.cgi at 0x7f1da6e178b0>,\n",
       " <Bug #2099085 on https://bugzilla.redhat.com/xmlrpc.cgi at 0x7f1da6e17880>,\n",
       " <Bug #2099084 on https://bugzilla.redhat.com/xmlrpc.cgi at 0x7f1da6e17850>,\n",
       " <Bug #2099080 on https://bugzilla.redhat.com/xmlrpc.cgi at 0x7f1da6e17820>,\n",
       " <Bug #2099079 on https://bugzilla.redhat.com/xmlrpc.cgi at 0x7f1da6e177f0>,\n",
       " <Bug #2099078 on https://bugzilla.redhat.com/xmlrpc.cgi at 0x7f1da6e177c0>,\n",
       " <Bug #2099077 on https://bugzilla.redhat.com/xmlrpc.cgi at 0x7f1da6e16680>,\n",
       " <Bug #2099074 on https://bugzilla.redhat.com/xmlrpc.cgi at 0x7f1da6e16830>,\n",
       " <Bug #2099073 on https://bugzilla.redhat.com/xmlrpc.cgi at 0x7f1da6e167d0>,\n",
       " <Bug #2099071 on https://bugzilla.redhat.com/xmlrpc.cgi at 0x7f1d9fe3c280>,\n",
       " <Bug #2099070 on https://bugzilla.redhat.com/xmlrpc.cgi at 0x7f1da6e16770>,\n",
       " <Bug #2099069 on https://bugzilla.redhat.com/xmlrpc.cgi at 0x7f1da6e16740>,\n",
       " <Bug #2099068 on https://bugzilla.redhat.com/xmlrpc.cgi at 0x7f1da6e16710>,\n",
       " <Bug #2099067 on https://bugzilla.redhat.com/xmlrpc.cgi at 0x7f1da6cd48e0>,\n",
       " <Bug #2099065 on https://bugzilla.redhat.com/xmlrpc.cgi at 0x7f1da6cd7970>,\n",
       " <Bug #2099063 on https://bugzilla.redhat.com/xmlrpc.cgi at 0x7f1da6cd5600>,\n",
       " <Bug #2099060 on https://bugzilla.redhat.com/xmlrpc.cgi at 0x7f1da6cd40a0>,\n",
       " <Bug #2099058 on https://bugzilla.redhat.com/xmlrpc.cgi at 0x7f1da6cd7940>,\n",
       " <Bug #2099056 on https://bugzilla.redhat.com/xmlrpc.cgi at 0x7f1da6cd7a00>,\n",
       " <Bug #2099052 on https://bugzilla.redhat.com/xmlrpc.cgi at 0x7f1da6cd79a0>,\n",
       " <Bug #2099051 on https://bugzilla.redhat.com/xmlrpc.cgi at 0x7f1da6cd7af0>,\n",
       " <Bug #2099049 on https://bugzilla.redhat.com/xmlrpc.cgi at 0x7f1da6cd6b30>,\n",
       " <Bug #2099048 on https://bugzilla.redhat.com/xmlrpc.cgi at 0x7f1da6cd48b0>,\n",
       " <Bug #2099046 on https://bugzilla.redhat.com/xmlrpc.cgi at 0x7f1da6cd7a60>,\n",
       " <Bug #2099044 on https://bugzilla.redhat.com/xmlrpc.cgi at 0x7f1da6cd5990>,\n",
       " <Bug #2099043 on https://bugzilla.redhat.com/xmlrpc.cgi at 0x7f1da6cd6e60>,\n",
       " <Bug #2099042 on https://bugzilla.redhat.com/xmlrpc.cgi at 0x7f1da6cd7b50>,\n",
       " <Bug #2099041 on https://bugzilla.redhat.com/xmlrpc.cgi at 0x7f1da6cd7ac0>,\n",
       " <Bug #2099040 on https://bugzilla.redhat.com/xmlrpc.cgi at 0x7f1da6cd7a90>,\n",
       " <Bug #2099037 on https://bugzilla.redhat.com/xmlrpc.cgi at 0x7f1da6cd7a30>,\n",
       " <Bug #2099036 on https://bugzilla.redhat.com/xmlrpc.cgi at 0x7f1da6cd5660>,\n",
       " <Bug #2099035 on https://bugzilla.redhat.com/xmlrpc.cgi at 0x7f1da6cd7bb0>,\n",
       " <Bug #2099034 on https://bugzilla.redhat.com/xmlrpc.cgi at 0x7f1da6cd7c70>,\n",
       " <Bug #2099032 on https://bugzilla.redhat.com/xmlrpc.cgi at 0x7f1da6cd59c0>,\n",
       " <Bug #2099030 on https://bugzilla.redhat.com/xmlrpc.cgi at 0x7f1da6cd7c10>,\n",
       " <Bug #2099029 on https://bugzilla.redhat.com/xmlrpc.cgi at 0x7f1da6cd7910>,\n",
       " <Bug #2099028 on https://bugzilla.redhat.com/xmlrpc.cgi at 0x7f1da6cd7be0>,\n",
       " <Bug #2099027 on https://bugzilla.redhat.com/xmlrpc.cgi at 0x7f1da6cd7b20>,\n",
       " <Bug #2099025 on https://bugzilla.redhat.com/xmlrpc.cgi at 0x7f1da6cd4940>,\n",
       " <Bug #2099024 on https://bugzilla.redhat.com/xmlrpc.cgi at 0x7f1da6cd78e0>,\n",
       " <Bug #2099023 on https://bugzilla.redhat.com/xmlrpc.cgi at 0x7f1da6cd5540>,\n",
       " <Bug #2099022 on https://bugzilla.redhat.com/xmlrpc.cgi at 0x7f1da6cd4100>,\n",
       " <Bug #2099021 on https://bugzilla.redhat.com/xmlrpc.cgi at 0x7f1da6cd79d0>,\n",
       " <Bug #2099020 on https://bugzilla.redhat.com/xmlrpc.cgi at 0x7f1da6cd5a20>,\n",
       " <Bug #2099018 on https://bugzilla.redhat.com/xmlrpc.cgi at 0x7f1da6cd5900>,\n",
       " <Bug #2099017 on https://bugzilla.redhat.com/xmlrpc.cgi at 0x7f1da6cd5840>,\n",
       " <Bug #2099016 on https://bugzilla.redhat.com/xmlrpc.cgi at 0x7f1da6cd4610>,\n",
       " <Bug #2099014 on https://bugzilla.redhat.com/xmlrpc.cgi at 0x7f1da6cd58d0>,\n",
       " <Bug #2099013 on https://bugzilla.redhat.com/xmlrpc.cgi at 0x7f1da6cd5930>,\n",
       " <Bug #2099011 on https://bugzilla.redhat.com/xmlrpc.cgi at 0x7f1da6cd58a0>,\n",
       " <Bug #2099010 on https://bugzilla.redhat.com/xmlrpc.cgi at 0x7f1da6cd5ba0>,\n",
       " <Bug #2099008 on https://bugzilla.redhat.com/xmlrpc.cgi at 0x7f1da6cd53f0>,\n",
       " <Bug #2099007 on https://bugzilla.redhat.com/xmlrpc.cgi at 0x7f1da6cd5a80>,\n",
       " <Bug #2099006 on https://bugzilla.redhat.com/xmlrpc.cgi at 0x7f1da6cd5960>,\n",
       " <Bug #2099005 on https://bugzilla.redhat.com/xmlrpc.cgi at 0x7f1da6cd5480>,\n",
       " <Bug #2099001 on https://bugzilla.redhat.com/xmlrpc.cgi at 0x7f1da6cd56c0>,\n",
       " <Bug #2098999 on https://bugzilla.redhat.com/xmlrpc.cgi at 0x7f1da6cd7fd0>,\n",
       " <Bug #2098998 on https://bugzilla.redhat.com/xmlrpc.cgi at 0x7f1da6cd7fa0>,\n",
       " <Bug #2098996 on https://bugzilla.redhat.com/xmlrpc.cgi at 0x7f1da6cd7f70>,\n",
       " <Bug #2098995 on https://bugzilla.redhat.com/xmlrpc.cgi at 0x7f1da6cd7f40>,\n",
       " <Bug #2098993 on https://bugzilla.redhat.com/xmlrpc.cgi at 0x7f1da6cd7f10>,\n",
       " <Bug #2098992 on https://bugzilla.redhat.com/xmlrpc.cgi at 0x7f1da6cd7ee0>,\n",
       " <Bug #2098991 on https://bugzilla.redhat.com/xmlrpc.cgi at 0x7f1da6cd7eb0>,\n",
       " <Bug #2098989 on https://bugzilla.redhat.com/xmlrpc.cgi at 0x7f1da6cd7e80>,\n",
       " <Bug #2098986 on https://bugzilla.redhat.com/xmlrpc.cgi at 0x7f1da6cd7e50>,\n",
       " <Bug #2098985 on https://bugzilla.redhat.com/xmlrpc.cgi at 0x7f1da6cd7e20>,\n",
       " <Bug #2098984 on https://bugzilla.redhat.com/xmlrpc.cgi at 0x7f1da6cd55a0>,\n",
       " <Bug #2098983 on https://bugzilla.redhat.com/xmlrpc.cgi at 0x7f1da6cd54e0>,\n",
       " <Bug #2098982 on https://bugzilla.redhat.com/xmlrpc.cgi at 0x7f1da6cd6ef0>,\n",
       " <Bug #2098981 on https://bugzilla.redhat.com/xmlrpc.cgi at 0x7f1da6cd6e90>,\n",
       " <Bug #2098978 on https://bugzilla.redhat.com/xmlrpc.cgi at 0x7f1da6cd6e30>,\n",
       " <Bug #2098977 on https://bugzilla.redhat.com/xmlrpc.cgi at 0x7f1da6cd6e00>,\n",
       " <Bug #2098973 on https://bugzilla.redhat.com/xmlrpc.cgi at 0x7f1da6cd6dd0>,\n",
       " <Bug #2098972 on https://bugzilla.redhat.com/xmlrpc.cgi at 0x7f1da6cd6da0>,\n",
       " <Bug #2098971 on https://bugzilla.redhat.com/xmlrpc.cgi at 0x7f1da6cd6d70>,\n",
       " <Bug #2098970 on https://bugzilla.redhat.com/xmlrpc.cgi at 0x7f1da6cd6d40>,\n",
       " <Bug #2098969 on https://bugzilla.redhat.com/xmlrpc.cgi at 0x7f1da6cd6d10>,\n",
       " <Bug #2098968 on https://bugzilla.redhat.com/xmlrpc.cgi at 0x7f1da6cd6ce0>,\n",
       " <Bug #2098967 on https://bugzilla.redhat.com/xmlrpc.cgi at 0x7f1da6cd6cb0>,\n",
       " <Bug #2098966 on https://bugzilla.redhat.com/xmlrpc.cgi at 0x7f1da6cd6c80>,\n",
       " <Bug #2098965 on https://bugzilla.redhat.com/xmlrpc.cgi at 0x7f1da6cd6c50>,\n",
       " <Bug #2098964 on https://bugzilla.redhat.com/xmlrpc.cgi at 0x7f1da6cd6c20>,\n",
       " <Bug #2098963 on https://bugzilla.redhat.com/xmlrpc.cgi at 0x7f1da6cd6bf0>,\n",
       " <Bug #2098962 on https://bugzilla.redhat.com/xmlrpc.cgi at 0x7f1da6cd6bc0>,\n",
       " <Bug #2098961 on https://bugzilla.redhat.com/xmlrpc.cgi at 0x7f1da6cd6b90>,\n",
       " <Bug #2098960 on https://bugzilla.redhat.com/xmlrpc.cgi at 0x7f1da6cd6b60>,\n",
       " <Bug #2098959 on https://bugzilla.redhat.com/xmlrpc.cgi at 0x7f1da6cd5a50>,\n",
       " <Bug #2098958 on https://bugzilla.redhat.com/xmlrpc.cgi at 0x7f1da6cd5c30>,\n",
       " <Bug #2098957 on https://bugzilla.redhat.com/xmlrpc.cgi at 0x7f1da6cd5bd0>,\n",
       " <Bug #2098956 on https://bugzilla.redhat.com/xmlrpc.cgi at 0x7f1da6f82200>,\n",
       " <Bug #2098955 on https://bugzilla.redhat.com/xmlrpc.cgi at 0x7f1da6cd5b70>,\n",
       " <Bug #2098954 on https://bugzilla.redhat.com/xmlrpc.cgi at 0x7f1da6cd5b40>,\n",
       " <Bug #2098953 on https://bugzilla.redhat.com/xmlrpc.cgi at 0x7f1da6cd5b10>,\n",
       " <Bug #2098952 on https://bugzilla.redhat.com/xmlrpc.cgi at 0x7f1da6f81e40>,\n",
       " <Bug #2098951 on https://bugzilla.redhat.com/xmlrpc.cgi at 0x7f1da6f82260>,\n",
       " <Bug #2098950 on https://bugzilla.redhat.com/xmlrpc.cgi at 0x7f1da6f81f60>,\n",
       " <Bug #2098949 on https://bugzilla.redhat.com/xmlrpc.cgi at 0x7f1da6f820e0>,\n",
       " <Bug #2098948 on https://bugzilla.redhat.com/xmlrpc.cgi at 0x7f1da6f81000>,\n",
       " <Bug #2098947 on https://bugzilla.redhat.com/xmlrpc.cgi at 0x7f1da6f82050>,\n",
       " <Bug #2098946 on https://bugzilla.redhat.com/xmlrpc.cgi at 0x7f1da6f807c0>,\n",
       " <Bug #2098945 on https://bugzilla.redhat.com/xmlrpc.cgi at 0x7f1da6f82110>,\n",
       " <Bug #2098944 on https://bugzilla.redhat.com/xmlrpc.cgi at 0x7f1da6f835e0>,\n",
       " <Bug #2098943 on https://bugzilla.redhat.com/xmlrpc.cgi at 0x7f1da6f832b0>,\n",
       " <Bug #2098942 on https://bugzilla.redhat.com/xmlrpc.cgi at 0x7f1da6f80cd0>,\n",
       " <Bug #2098941 on https://bugzilla.redhat.com/xmlrpc.cgi at 0x7f1da6f81c00>,\n",
       " <Bug #2098940 on https://bugzilla.redhat.com/xmlrpc.cgi at 0x7f1da6f82140>,\n",
       " <Bug #2098939 on https://bugzilla.redhat.com/xmlrpc.cgi at 0x7f1da6f80fa0>,\n",
       " <Bug #2098938 on https://bugzilla.redhat.com/xmlrpc.cgi at 0x7f1da6f81fc0>,\n",
       " <Bug #2098937 on https://bugzilla.redhat.com/xmlrpc.cgi at 0x7f1da6f82080>,\n",
       " <Bug #2098936 on https://bugzilla.redhat.com/xmlrpc.cgi at 0x7f1da6f80f70>,\n",
       " <Bug #2098935 on https://bugzilla.redhat.com/xmlrpc.cgi at 0x7f1da6f81d20>,\n",
       " <Bug #2098934 on https://bugzilla.redhat.com/xmlrpc.cgi at 0x7f1da6f81d80>,\n",
       " <Bug #2098933 on https://bugzilla.redhat.com/xmlrpc.cgi at 0x7f1da6f82320>,\n",
       " <Bug #2098932 on https://bugzilla.redhat.com/xmlrpc.cgi at 0x7f1da6f81de0>,\n",
       " <Bug #2098931 on https://bugzilla.redhat.com/xmlrpc.cgi at 0x7f1da6f80760>,\n",
       " <Bug #2098930 on https://bugzilla.redhat.com/xmlrpc.cgi at 0x7f1da6f82350>,\n",
       " <Bug #2098929 on https://bugzilla.redhat.com/xmlrpc.cgi at 0x7f1da6f82dd0>,\n",
       " <Bug #2098928 on https://bugzilla.redhat.com/xmlrpc.cgi at 0x7f1da6f80ca0>,\n",
       " <Bug #2098927 on https://bugzilla.redhat.com/xmlrpc.cgi at 0x7f1da6f83640>,\n",
       " <Bug #2098926 on https://bugzilla.redhat.com/xmlrpc.cgi at 0x7f1da6f823b0>,\n",
       " <Bug #2098925 on https://bugzilla.redhat.com/xmlrpc.cgi at 0x7f1da6f821d0>,\n",
       " <Bug #2098924 on https://bugzilla.redhat.com/xmlrpc.cgi at 0x7f1da6f81b70>,\n",
       " <Bug #2098922 on https://bugzilla.redhat.com/xmlrpc.cgi at 0x7f1da6f81f00>,\n",
       " <Bug #2098921 on https://bugzilla.redhat.com/xmlrpc.cgi at 0x7f1da6f821a0>,\n",
       " <Bug #2098919 on https://bugzilla.redhat.com/xmlrpc.cgi at 0x7f1da6f820b0>,\n",
       " <Bug #2098918 on https://bugzilla.redhat.com/xmlrpc.cgi at 0x7f1da6f82380>,\n",
       " <Bug #2098917 on https://bugzilla.redhat.com/xmlrpc.cgi at 0x7f1da6f81c60>,\n",
       " <Bug #2098915 on https://bugzilla.redhat.com/xmlrpc.cgi at 0x7f1da6f81ea0>,\n",
       " <Bug #2098914 on https://bugzilla.redhat.com/xmlrpc.cgi at 0x7f1da6f83670>,\n",
       " <Bug #2098913 on https://bugzilla.redhat.com/xmlrpc.cgi at 0x7f1da6f83610>,\n",
       " <Bug #2098912 on https://bugzilla.redhat.com/xmlrpc.cgi at 0x7f1da6f835b0>,\n",
       " <Bug #2098911 on https://bugzilla.redhat.com/xmlrpc.cgi at 0x7f1da6f83580>,\n",
       " <Bug #2098910 on https://bugzilla.redhat.com/xmlrpc.cgi at 0x7f1da6f83550>,\n",
       " <Bug #2098909 on https://bugzilla.redhat.com/xmlrpc.cgi at 0x7f1da6f83520>,\n",
       " <Bug #2098908 on https://bugzilla.redhat.com/xmlrpc.cgi at 0x7f1da6f834f0>,\n",
       " <Bug #2098906 on https://bugzilla.redhat.com/xmlrpc.cgi at 0x7f1da6f834c0>,\n",
       " <Bug #2098905 on https://bugzilla.redhat.com/xmlrpc.cgi at 0x7f1da6f83490>,\n",
       " <Bug #2098904 on https://bugzilla.redhat.com/xmlrpc.cgi at 0x7f1da6f83460>,\n",
       " <Bug #2098903 on https://bugzilla.redhat.com/xmlrpc.cgi at 0x7f1da6f83430>,\n",
       " <Bug #2098902 on https://bugzilla.redhat.com/xmlrpc.cgi at 0x7f1da6f83400>,\n",
       " <Bug #2098901 on https://bugzilla.redhat.com/xmlrpc.cgi at 0x7f1da6f833d0>,\n",
       " <Bug #2098899 on https://bugzilla.redhat.com/xmlrpc.cgi at 0x7f1da6f833a0>,\n",
       " <Bug #2098898 on https://bugzilla.redhat.com/xmlrpc.cgi at 0x7f1da6f83370>,\n",
       " <Bug #2098897 on https://bugzilla.redhat.com/xmlrpc.cgi at 0x7f1da6f83340>,\n",
       " <Bug #2098896 on https://bugzilla.redhat.com/xmlrpc.cgi at 0x7f1da6f83310>,\n",
       " <Bug #2098895 on https://bugzilla.redhat.com/xmlrpc.cgi at 0x7f1da6f832e0>,\n",
       " <Bug #2098893 on https://bugzilla.redhat.com/xmlrpc.cgi at 0x7f1da6f81cc0>,\n",
       " <Bug #2098892 on https://bugzilla.redhat.com/xmlrpc.cgi at 0x7f1da6f82230>,\n",
       " <Bug #2098888 on https://bugzilla.redhat.com/xmlrpc.cgi at 0x7f1da6f81bd0>,\n",
       " <Bug #2098886 on https://bugzilla.redhat.com/xmlrpc.cgi at 0x7f1d9fda3d00>,\n",
       " <Bug #2098885 on https://bugzilla.redhat.com/xmlrpc.cgi at 0x7f1da6f822f0>,\n",
       " <Bug #2098884 on https://bugzilla.redhat.com/xmlrpc.cgi at 0x7f1da6f822c0>,\n",
       " <Bug #2098883 on https://bugzilla.redhat.com/xmlrpc.cgi at 0x7f1da6f82290>,\n",
       " <Bug #2098882 on https://bugzilla.redhat.com/xmlrpc.cgi at 0x7f1d9fda2a10>,\n",
       " <Bug #2098881 on https://bugzilla.redhat.com/xmlrpc.cgi at 0x7f1d9fda2920>,\n",
       " <Bug #2098880 on https://bugzilla.redhat.com/xmlrpc.cgi at 0x7f1d9fda2620>,\n",
       " <Bug #2098878 on https://bugzilla.redhat.com/xmlrpc.cgi at 0x7f1d9fda28c0>,\n",
       " <Bug #2098877 on https://bugzilla.redhat.com/xmlrpc.cgi at 0x7f1d9fda2a70>,\n",
       " <Bug #2098875 on https://bugzilla.redhat.com/xmlrpc.cgi at 0x7f1d9fda2710>,\n",
       " <Bug #2098874 on https://bugzilla.redhat.com/xmlrpc.cgi at 0x7f1d9fda1600>,\n",
       " <Bug #2098873 on https://bugzilla.redhat.com/xmlrpc.cgi at 0x7f1d9fda27d0>,\n",
       " <Bug #2098872 on https://bugzilla.redhat.com/xmlrpc.cgi at 0x7f1d9fda3970>,\n",
       " <Bug #2098870 on https://bugzilla.redhat.com/xmlrpc.cgi at 0x7f1d9fda2860>,\n",
       " <Bug #2098869 on https://bugzilla.redhat.com/xmlrpc.cgi at 0x7f1d9fda1660>,\n",
       " <Bug #2098866 on https://bugzilla.redhat.com/xmlrpc.cgi at 0x7f1d9fda3ca0>,\n",
       " <Bug #2098865 on https://bugzilla.redhat.com/xmlrpc.cgi at 0x7f1d9fda2230>,\n",
       " <Bug #2098864 on https://bugzilla.redhat.com/xmlrpc.cgi at 0x7f1d9fda0dc0>,\n",
       " <Bug #2098863 on https://bugzilla.redhat.com/xmlrpc.cgi at 0x7f1d9fda2680>,\n",
       " <Bug #2098862 on https://bugzilla.redhat.com/xmlrpc.cgi at 0x7f1d9fda2740>,\n",
       " <Bug #2098860 on https://bugzilla.redhat.com/xmlrpc.cgi at 0x7f1d9fda1690>,\n",
       " <Bug #2098858 on https://bugzilla.redhat.com/xmlrpc.cgi at 0x7f1d9fda2770>,\n",
       " <Bug #2098857 on https://bugzilla.redhat.com/xmlrpc.cgi at 0x7f1d9fda2440>,\n",
       " <Bug #2098856 on https://bugzilla.redhat.com/xmlrpc.cgi at 0x7f1d9fda29e0>,\n",
       " <Bug #2098853 on https://bugzilla.redhat.com/xmlrpc.cgi at 0x7f1d9fda22c0>,\n",
       " <Bug #2098852 on https://bugzilla.redhat.com/xmlrpc.cgi at 0x7f1d9fda26e0>,\n",
       " <Bug #2098850 on https://bugzilla.redhat.com/xmlrpc.cgi at 0x7f1d9fda0f70>,\n",
       " <Bug #2098848 on https://bugzilla.redhat.com/xmlrpc.cgi at 0x7f1d9fda3460>,\n",
       " <Bug #2098845 on https://bugzilla.redhat.com/xmlrpc.cgi at 0x7f1d9fda15d0>,\n",
       " <Bug #2098844 on https://bugzilla.redhat.com/xmlrpc.cgi at 0x7f1d9fda3d30>,\n",
       " <Bug #2098843 on https://bugzilla.redhat.com/xmlrpc.cgi at 0x7f1d9fda24a0>,\n",
       " <Bug #2098842 on https://bugzilla.redhat.com/xmlrpc.cgi at 0x7f1d9fda2320>,\n",
       " <Bug #2098841 on https://bugzilla.redhat.com/xmlrpc.cgi at 0x7f1d9fda3cd0>,\n",
       " <Bug #2098840 on https://bugzilla.redhat.com/xmlrpc.cgi at 0x7f1d9fda25c0>,\n",
       " <Bug #2098839 on https://bugzilla.redhat.com/xmlrpc.cgi at 0x7f1d9fda2a40>,\n",
       " <Bug #2098838 on https://bugzilla.redhat.com/xmlrpc.cgi at 0x7f1d9fda2800>,\n",
       " <Bug #2098837 on https://bugzilla.redhat.com/xmlrpc.cgi at 0x7f1d9fda27a0>,\n",
       " <Bug #2098836 on https://bugzilla.redhat.com/xmlrpc.cgi at 0x7f1d9fda2500>,\n",
       " <Bug #2098835 on https://bugzilla.redhat.com/xmlrpc.cgi at 0x7f1d9fda23e0>,\n",
       " <Bug #2098834 on https://bugzilla.redhat.com/xmlrpc.cgi at 0x7f1d9fda2890>,\n",
       " <Bug #2098833 on https://bugzilla.redhat.com/xmlrpc.cgi at 0x7f1d9fda2560>,\n",
       " <Bug #2098832 on https://bugzilla.redhat.com/xmlrpc.cgi at 0x7f1d9fda3c70>,\n",
       " <Bug #2098831 on https://bugzilla.redhat.com/xmlrpc.cgi at 0x7f1d9fda3c40>,\n",
       " <Bug #2098830 on https://bugzilla.redhat.com/xmlrpc.cgi at 0x7f1d9fda3c10>,\n",
       " <Bug #2098829 on https://bugzilla.redhat.com/xmlrpc.cgi at 0x7f1d9fda3be0>,\n",
       " <Bug #2098827 on https://bugzilla.redhat.com/xmlrpc.cgi at 0x7f1d9fda3bb0>,\n",
       " <Bug #2098826 on https://bugzilla.redhat.com/xmlrpc.cgi at 0x7f1d9fda3b80>,\n",
       " <Bug #2098824 on https://bugzilla.redhat.com/xmlrpc.cgi at 0x7f1d9fda3b50>,\n",
       " <Bug #2098823 on https://bugzilla.redhat.com/xmlrpc.cgi at 0x7f1d9fda3b20>,\n",
       " <Bug #2098822 on https://bugzilla.redhat.com/xmlrpc.cgi at 0x7f1d9fda3af0>,\n",
       " <Bug #2098821 on https://bugzilla.redhat.com/xmlrpc.cgi at 0x7f1d9fda3ac0>,\n",
       " <Bug #2098818 on https://bugzilla.redhat.com/xmlrpc.cgi at 0x7f1d9fda3a90>,\n",
       " <Bug #2098814 on https://bugzilla.redhat.com/xmlrpc.cgi at 0x7f1d9fda3a60>,\n",
       " <Bug #2098813 on https://bugzilla.redhat.com/xmlrpc.cgi at 0x7f1d9fda3a30>,\n",
       " <Bug #2098812 on https://bugzilla.redhat.com/xmlrpc.cgi at 0x7f1d9fda3a00>,\n",
       " <Bug #2098811 on https://bugzilla.redhat.com/xmlrpc.cgi at 0x7f1d9fda39d0>,\n",
       " <Bug #2098810 on https://bugzilla.redhat.com/xmlrpc.cgi at 0x7f1d9fda39a0>,\n",
       " <Bug #2098809 on https://bugzilla.redhat.com/xmlrpc.cgi at 0x7f1d9fda2380>,\n",
       " <Bug #2098802 on https://bugzilla.redhat.com/xmlrpc.cgi at 0x7f1d9fda28f0>,\n",
       " <Bug #2098801 on https://bugzilla.redhat.com/xmlrpc.cgi at 0x7f1d9fda2290>,\n",
       " <Bug #2098800 on https://bugzilla.redhat.com/xmlrpc.cgi at 0x7f1da7011600>,\n",
       " <Bug #2098799 on https://bugzilla.redhat.com/xmlrpc.cgi at 0x7f1d9fda29b0>,\n",
       " <Bug #2098798 on https://bugzilla.redhat.com/xmlrpc.cgi at 0x7f1d9fda2980>,\n",
       " <Bug #2098796 on https://bugzilla.redhat.com/xmlrpc.cgi at 0x7f1d9fda2950>,\n",
       " <Bug #2098793 on https://bugzilla.redhat.com/xmlrpc.cgi at 0x7f1db89779a0>,\n",
       " <Bug #2098790 on https://bugzilla.redhat.com/xmlrpc.cgi at 0x7f1db8975cc0>,\n",
       " <Bug #2098788 on https://bugzilla.redhat.com/xmlrpc.cgi at 0x7f1db8975ea0>,\n",
       " <Bug #2098787 on https://bugzilla.redhat.com/xmlrpc.cgi at 0x7f1db8976b90>,\n",
       " <Bug #2098785 on https://bugzilla.redhat.com/xmlrpc.cgi at 0x7f1db8974d30>,\n",
       " <Bug #2098783 on https://bugzilla.redhat.com/xmlrpc.cgi at 0x7f1db8977c10>,\n",
       " <Bug #2098781 on https://bugzilla.redhat.com/xmlrpc.cgi at 0x7f1db8975e10>,\n",
       " <Bug #2098778 on https://bugzilla.redhat.com/xmlrpc.cgi at 0x7f1db8975f30>,\n",
       " <Bug #2098775 on https://bugzilla.redhat.com/xmlrpc.cgi at 0x7f1da70124a0>,\n",
       " <Bug #2098772 on https://bugzilla.redhat.com/xmlrpc.cgi at 0x7f1da7012d40>,\n",
       " <Bug #2098771 on https://bugzilla.redhat.com/xmlrpc.cgi at 0x7f1da70129e0>,\n",
       " <Bug #2098770 on https://bugzilla.redhat.com/xmlrpc.cgi at 0x7f1db8977730>,\n",
       " <Bug #2098769 on https://bugzilla.redhat.com/xmlrpc.cgi at 0x7f1da7012da0>,\n",
       " <Bug #2098768 on https://bugzilla.redhat.com/xmlrpc.cgi at 0x7f1db8976080>,\n",
       " <Bug #2098767 on https://bugzilla.redhat.com/xmlrpc.cgi at 0x7f1da7011a80>,\n",
       " <Bug #2098766 on https://bugzilla.redhat.com/xmlrpc.cgi at 0x7f1da6f678e0>,\n",
       " <Bug #2098764 on https://bugzilla.redhat.com/xmlrpc.cgi at 0x7f1da6f65060>,\n",
       " <Bug #2098763 on https://bugzilla.redhat.com/xmlrpc.cgi at 0x7f1da6f65f90>,\n",
       " <Bug #2098761 on https://bugzilla.redhat.com/xmlrpc.cgi at 0x7f1da6f663b0>,\n",
       " <Bug #2098757 on https://bugzilla.redhat.com/xmlrpc.cgi at 0x7f1db8977a90>,\n",
       " <Bug #2098756 on https://bugzilla.redhat.com/xmlrpc.cgi at 0x7f1da7012800>,\n",
       " <Bug #2098755 on https://bugzilla.redhat.com/xmlrpc.cgi at 0x7f1da6f66500>,\n",
       " <Bug #2098753 on https://bugzilla.redhat.com/xmlrpc.cgi at 0x7f1db89760b0>,\n",
       " <Bug #2098752 on https://bugzilla.redhat.com/xmlrpc.cgi at 0x7f1da70137c0>,\n",
       " <Bug #2098751 on https://bugzilla.redhat.com/xmlrpc.cgi at 0x7f1da6f66110>,\n",
       " <Bug #2098750 on https://bugzilla.redhat.com/xmlrpc.cgi at 0x7f1db8976ad0>,\n",
       " <Bug #2098749 on https://bugzilla.redhat.com/xmlrpc.cgi at 0x7f1da7013520>,\n",
       " <Bug #2098747 on https://bugzilla.redhat.com/xmlrpc.cgi at 0x7f1da6f65780>,\n",
       " <Bug #2098746 on https://bugzilla.redhat.com/xmlrpc.cgi at 0x7f1db8975510>,\n",
       " <Bug #2098744 on https://bugzilla.redhat.com/xmlrpc.cgi at 0x7f1da70129b0>,\n",
       " <Bug #2098743 on https://bugzilla.redhat.com/xmlrpc.cgi at 0x7f1da6f66350>,\n",
       " <Bug #2098742 on https://bugzilla.redhat.com/xmlrpc.cgi at 0x7f1db8976e00>,\n",
       " <Bug #2098741 on https://bugzilla.redhat.com/xmlrpc.cgi at 0x7f1da7011ba0>,\n",
       " <Bug #2098735 on https://bugzilla.redhat.com/xmlrpc.cgi at 0x7f1da6f65090>,\n",
       " <Bug #2098734 on https://bugzilla.redhat.com/xmlrpc.cgi at 0x7f1db8976dd0>,\n",
       " <Bug #2098733 on https://bugzilla.redhat.com/xmlrpc.cgi at 0x7f1da7011ff0>,\n",
       " <Bug #2098732 on https://bugzilla.redhat.com/xmlrpc.cgi at 0x7f1da6f66fe0>,\n",
       " <Bug #2098730 on https://bugzilla.redhat.com/xmlrpc.cgi at 0x7f1db89762c0>,\n",
       " <Bug #2098729 on https://bugzilla.redhat.com/xmlrpc.cgi at 0x7f1da7013c10>,\n",
       " <Bug #2098728 on https://bugzilla.redhat.com/xmlrpc.cgi at 0x7f1da6f64490>,\n",
       " <Bug #2098727 on https://bugzilla.redhat.com/xmlrpc.cgi at 0x7f1db8976320>,\n",
       " <Bug #2098726 on https://bugzilla.redhat.com/xmlrpc.cgi at 0x7f1da70139a0>,\n",
       " <Bug #2098725 on https://bugzilla.redhat.com/xmlrpc.cgi at 0x7f1da6f64d30>,\n",
       " <Bug #2098723 on https://bugzilla.redhat.com/xmlrpc.cgi at 0x7f1db8975cf0>,\n",
       " <Bug #2098722 on https://bugzilla.redhat.com/xmlrpc.cgi at 0x7f1da7011b10>,\n",
       " <Bug #2098721 on https://bugzilla.redhat.com/xmlrpc.cgi at 0x7f1da6f663e0>,\n",
       " <Bug #2098718 on https://bugzilla.redhat.com/xmlrpc.cgi at 0x7f1db89756c0>,\n",
       " <Bug #2098717 on https://bugzilla.redhat.com/xmlrpc.cgi at 0x7f1da7013940>,\n",
       " <Bug #2098716 on https://bugzilla.redhat.com/xmlrpc.cgi at 0x7f1da6f665c0>,\n",
       " <Bug #2098715 on https://bugzilla.redhat.com/xmlrpc.cgi at 0x7f1da7012290>,\n",
       " <Bug #2098714 on https://bugzilla.redhat.com/xmlrpc.cgi at 0x7f1da6f66fb0>,\n",
       " <Bug #2098713 on https://bugzilla.redhat.com/xmlrpc.cgi at 0x7f1da7011a50>,\n",
       " <Bug #2098712 on https://bugzilla.redhat.com/xmlrpc.cgi at 0x7f1da6f662c0>,\n",
       " <Bug #2098711 on https://bugzilla.redhat.com/xmlrpc.cgi at 0x7f1da7011b70>,\n",
       " <Bug #2098710 on https://bugzilla.redhat.com/xmlrpc.cgi at 0x7f1da6f66f80>,\n",
       " <Bug #2098707 on https://bugzilla.redhat.com/xmlrpc.cgi at 0x7f1da7011b40>,\n",
       " <Bug #2098706 on https://bugzilla.redhat.com/xmlrpc.cgi at 0x7f1da6f65fc0>,\n",
       " <Bug #2098705 on https://bugzilla.redhat.com/xmlrpc.cgi at 0x7f1da6f66410>,\n",
       " <Bug #2098704 on https://bugzilla.redhat.com/xmlrpc.cgi at 0x7f1da6f66f20>,\n",
       " <Bug #2098703 on https://bugzilla.redhat.com/xmlrpc.cgi at 0x7f1da6f65030>,\n",
       " <Bug #2098699 on https://bugzilla.redhat.com/xmlrpc.cgi at 0x7f1da6f66170>,\n",
       " <Bug #2098698 on https://bugzilla.redhat.com/xmlrpc.cgi at 0x7f1da6f65000>,\n",
       " <Bug #2098697 on https://bugzilla.redhat.com/xmlrpc.cgi at 0x7f1da6f64430>,\n",
       " <Bug #2098695 on https://bugzilla.redhat.com/xmlrpc.cgi at 0x7f1da6f642e0>,\n",
       " <Bug #2098694 on https://bugzilla.redhat.com/xmlrpc.cgi at 0x7f1da6f67040>,\n",
       " <Bug #2098693 on https://bugzilla.redhat.com/xmlrpc.cgi at 0x7f1da6f65ed0>,\n",
       " <Bug #2098692 on https://bugzilla.redhat.com/xmlrpc.cgi at 0x7f1da6f66560>,\n",
       " <Bug #2098691 on https://bugzilla.redhat.com/xmlrpc.cgi at 0x7f1da6f66440>,\n",
       " <Bug #2098689 on https://bugzilla.redhat.com/xmlrpc.cgi at 0x7f1da6f66320>,\n",
       " <Bug #2098686 on https://bugzilla.redhat.com/xmlrpc.cgi at 0x7f1da6f661a0>,\n",
       " <Bug #2098684 on https://bugzilla.redhat.com/xmlrpc.cgi at 0x7f1da6f67580>,\n",
       " <Bug #2098682 on https://bugzilla.redhat.com/xmlrpc.cgi at 0x7f1da6f66380>,\n",
       " <Bug #2098681 on https://bugzilla.redhat.com/xmlrpc.cgi at 0x7f1da6f66200>,\n",
       " <Bug #2098679 on https://bugzilla.redhat.com/xmlrpc.cgi at 0x7f1da6f665f0>,\n",
       " <Bug #2098678 on https://bugzilla.redhat.com/xmlrpc.cgi at 0x7f1da6f66020>,\n",
       " <Bug #2098677 on https://bugzilla.redhat.com/xmlrpc.cgi at 0x7f1da6f678b0>,\n",
       " <Bug #2098676 on https://bugzilla.redhat.com/xmlrpc.cgi at 0x7f1da6f67910>,\n",
       " <Bug #2098675 on https://bugzilla.redhat.com/xmlrpc.cgi at 0x7f1da6f677c0>,\n",
       " <Bug #2098674 on https://bugzilla.redhat.com/xmlrpc.cgi at 0x7f1da6f677f0>,\n",
       " <Bug #2098673 on https://bugzilla.redhat.com/xmlrpc.cgi at 0x7f1da6f67850>,\n",
       " <Bug #2098672 on https://bugzilla.redhat.com/xmlrpc.cgi at 0x7f1da6f67820>,\n",
       " <Bug #2098670 on https://bugzilla.redhat.com/xmlrpc.cgi at 0x7f1da6f65bd0>,\n",
       " <Bug #2098669 on https://bugzilla.redhat.com/xmlrpc.cgi at 0x7f1da6f67730>,\n",
       " <Bug #2098667 on https://bugzilla.redhat.com/xmlrpc.cgi at 0x7f1da6f67700>,\n",
       " <Bug #2098666 on https://bugzilla.redhat.com/xmlrpc.cgi at 0x7f1da6f67790>,\n",
       " <Bug #2098665 on https://bugzilla.redhat.com/xmlrpc.cgi at 0x7f1da6f67760>,\n",
       " <Bug #2098664 on https://bugzilla.redhat.com/xmlrpc.cgi at 0x7f1da6f64b20>,\n",
       " <Bug #2098663 on https://bugzilla.redhat.com/xmlrpc.cgi at 0x7f1da6f67640>,\n",
       " <Bug #2098661 on https://bugzilla.redhat.com/xmlrpc.cgi at 0x7f1da6f67670>,\n",
       " <Bug #2098660 on https://bugzilla.redhat.com/xmlrpc.cgi at 0x7f1da6f676d0>,\n",
       " <Bug #2097858 on https://bugzilla.redhat.com/xmlrpc.cgi at 0x7f1da6f676a0>,\n",
       " <Bug #2096365 on https://bugzilla.redhat.com/xmlrpc.cgi at 0x7f1da6f668c0>,\n",
       " <Bug #2095033 on https://bugzilla.redhat.com/xmlrpc.cgi at 0x7f1da6f675b0>,\n",
       " <Bug #2094383 on https://bugzilla.redhat.com/xmlrpc.cgi at 0x7f1da6f66080>,\n",
       " <Bug #2094381 on https://bugzilla.redhat.com/xmlrpc.cgi at 0x7f1da6f67010>,\n",
       " <Bug #2094373 on https://bugzilla.redhat.com/xmlrpc.cgi at 0x7f1da6f65ff0>,\n",
       " <Bug #2094372 on https://bugzilla.redhat.com/xmlrpc.cgi at 0x7f1da6cdcc40>,\n",
       " <Bug #2094355 on https://bugzilla.redhat.com/xmlrpc.cgi at 0x7f1da6f664d0>,\n",
       " <Bug #2094337 on https://bugzilla.redhat.com/xmlrpc.cgi at 0x7f1da6f664a0>,\n",
       " <Bug #2094258 on https://bugzilla.redhat.com/xmlrpc.cgi at 0x7f1da6f66530>,\n",
       " <Bug #2094212 on https://bugzilla.redhat.com/xmlrpc.cgi at 0x7f1da6cdd390>,\n",
       " <Bug #2094014 on https://bugzilla.redhat.com/xmlrpc.cgi at 0x7f1da6cdeb30>,\n",
       " <Bug #2093985 on https://bugzilla.redhat.com/xmlrpc.cgi at 0x7f1da6cdd930>,\n",
       " <Bug #2093977 on https://bugzilla.redhat.com/xmlrpc.cgi at 0x7f1da6cdf190>,\n",
       " <Bug #2093964 on https://bugzilla.redhat.com/xmlrpc.cgi at 0x7f1da6cdff70>,\n",
       " <Bug #2093963 on https://bugzilla.redhat.com/xmlrpc.cgi at 0x7f1da6cdc2b0>,\n",
       " <Bug #2093947 on https://bugzilla.redhat.com/xmlrpc.cgi at 0x7f1da6cddb40>,\n",
       " <Bug #2093940 on https://bugzilla.redhat.com/xmlrpc.cgi at 0x7f1da6cdcfd0>,\n",
       " <Bug #2093935 on https://bugzilla.redhat.com/xmlrpc.cgi at 0x7f1da6cdcbe0>,\n",
       " <Bug #2093934 on https://bugzilla.redhat.com/xmlrpc.cgi at 0x7f1da6cdd360>,\n",
       " <Bug #2093917 on https://bugzilla.redhat.com/xmlrpc.cgi at 0x7f1da6cdd3f0>,\n",
       " <Bug #2093909 on https://bugzilla.redhat.com/xmlrpc.cgi at 0x7f1da6cdd330>,\n",
       " <Bug #2090769 on https://bugzilla.redhat.com/xmlrpc.cgi at 0x7f1da6cdca30>,\n",
       " <Bug #2090623 on https://bugzilla.redhat.com/xmlrpc.cgi at 0x7f1da6cdcac0>,\n",
       " <Bug #2090265 on https://bugzilla.redhat.com/xmlrpc.cgi at 0x7f1da6cdc9a0>,\n",
       " <Bug #2086420 on https://bugzilla.redhat.com/xmlrpc.cgi at 0x7f1da6cdcdf0>,\n",
       " <Bug #2084447 on https://bugzilla.redhat.com/xmlrpc.cgi at 0x7f1da6cdcc70>,\n",
       " <Bug #2084083 on https://bugzilla.redhat.com/xmlrpc.cgi at 0x7f1da6cddae0>,\n",
       " <Bug #2084008 on https://bugzilla.redhat.com/xmlrpc.cgi at 0x7f1da6cdce80>,\n",
       " <Bug #2084001 on https://bugzilla.redhat.com/xmlrpc.cgi at 0x7f1da6cde050>,\n",
       " <Bug #2083977 on https://bugzilla.redhat.com/xmlrpc.cgi at 0x7f1da6cdc7f0>,\n",
       " <Bug #2083965 on https://bugzilla.redhat.com/xmlrpc.cgi at 0x7f1da6cdc8b0>,\n",
       " <Bug #2083961 on https://bugzilla.redhat.com/xmlrpc.cgi at 0x7f1da6cdea10>,\n",
       " <Bug #2082581 on https://bugzilla.redhat.com/xmlrpc.cgi at 0x7f1da6cdf430>,\n",
       " <Bug #2082580 on https://bugzilla.redhat.com/xmlrpc.cgi at 0x7f1da6cdf940>,\n",
       " <Bug #2082571 on https://bugzilla.redhat.com/xmlrpc.cgi at 0x7f1da6cdd240>,\n",
       " <Bug #2082569 on https://bugzilla.redhat.com/xmlrpc.cgi at 0x7f1da6cdcbb0>,\n",
       " <Bug #2082561 on https://bugzilla.redhat.com/xmlrpc.cgi at 0x7f1da6cdcee0>,\n",
       " <Bug #2082154 on https://bugzilla.redhat.com/xmlrpc.cgi at 0x7f1da6cdf910>,\n",
       " <Bug #2082067 on https://bugzilla.redhat.com/xmlrpc.cgi at 0x7f1da6cdfc40>,\n",
       " <Bug #2082058 on https://bugzilla.redhat.com/xmlrpc.cgi at 0x7f1da6cdcc10>,\n",
       " <Bug #2082055 on https://bugzilla.redhat.com/xmlrpc.cgi at 0x7f1da6cdc8e0>,\n",
       " <Bug #2082052 on https://bugzilla.redhat.com/xmlrpc.cgi at 0x7f1da6cdf5b0>,\n",
       " <Bug #2082049 on https://bugzilla.redhat.com/xmlrpc.cgi at 0x7f1da6cdc850>,\n",
       " <Bug #2078518 on https://bugzilla.redhat.com/xmlrpc.cgi at 0x7f1da6cdcb20>,\n",
       " <Bug #2076584 on https://bugzilla.redhat.com/xmlrpc.cgi at 0x7f1da6cdc9d0>,\n",
       " <Bug #2075463 on https://bugzilla.redhat.com/xmlrpc.cgi at 0x7f1da6cdcca0>,\n",
       " <Bug #2074540 on https://bugzilla.redhat.com/xmlrpc.cgi at 0x7f1da6cdc0d0>,\n",
       " <Bug #2074533 on https://bugzilla.redhat.com/xmlrpc.cgi at 0x7f1da6cdfc70>,\n",
       " <Bug #2074531 on https://bugzilla.redhat.com/xmlrpc.cgi at 0x7f1da6cde650>,\n",
       " <Bug #2074466 on https://bugzilla.redhat.com/xmlrpc.cgi at 0x7f1da6cde6e0>,\n",
       " <Bug #2069676 on https://bugzilla.redhat.com/xmlrpc.cgi at 0x7f1da6cde680>,\n",
       " <Bug #2069661 on https://bugzilla.redhat.com/xmlrpc.cgi at 0x7f1da6cde620>,\n",
       " <Bug #2069657 on https://bugzilla.redhat.com/xmlrpc.cgi at 0x7f1da6cde5f0>,\n",
       " <Bug #2069538 on https://bugzilla.redhat.com/xmlrpc.cgi at 0x7f1da6cde4d0>,\n",
       " <Bug #2069537 on https://bugzilla.redhat.com/xmlrpc.cgi at 0x7f1da6cde500>,\n",
       " <Bug #2069175 on https://bugzilla.redhat.com/xmlrpc.cgi at 0x7f1da6cde6b0>,\n",
       " <Bug #2069169 on https://bugzilla.redhat.com/xmlrpc.cgi at 0x7f1da6cdef20>,\n",
       " <Bug #2069168 on https://bugzilla.redhat.com/xmlrpc.cgi at 0x7f1da6cdc1c0>,\n",
       " <Bug #2069158 on https://bugzilla.redhat.com/xmlrpc.cgi at 0x7f1da6cde590>,\n",
       " <Bug #2068421 on https://bugzilla.redhat.com/xmlrpc.cgi at 0x7f1da6cde5c0>,\n",
       " <Bug #2067200 on https://bugzilla.redhat.com/xmlrpc.cgi at 0x7f1da6cde560>,\n",
       " <Bug #2062187 on https://bugzilla.redhat.com/xmlrpc.cgi at 0x7f1da6cde530>,\n",
       " <Bug #2062182 on https://bugzilla.redhat.com/xmlrpc.cgi at 0x7f1da6cdc7c0>,\n",
       " <Bug #2062150 on https://bugzilla.redhat.com/xmlrpc.cgi at 0x7f1da6cdce50>,\n",
       " <Bug #2059971 on https://bugzilla.redhat.com/xmlrpc.cgi at 0x7f1da6cdc880>,\n",
       " <Bug #2059953 on https://bugzilla.redhat.com/xmlrpc.cgi at 0x7f1db8970550>,\n",
       " <Bug #2058169 on https://bugzilla.redhat.com/xmlrpc.cgi at 0x7f1da6cdda80>,\n",
       " <Bug #2057510 on https://bugzilla.redhat.com/xmlrpc.cgi at 0x7f1da6cdd3c0>,\n",
       " <Bug #2057465 on https://bugzilla.redhat.com/xmlrpc.cgi at 0x7f1da6cdceb0>,\n",
       " <Bug #2054236 on https://bugzilla.redhat.com/xmlrpc.cgi at 0x7f1db89723b0>,\n",
       " <Bug #2051510 on https://bugzilla.redhat.com/xmlrpc.cgi at 0x7f1db8972bc0>,\n",
       " <Bug #2051204 on https://bugzilla.redhat.com/xmlrpc.cgi at 0x7f1db8970b80>,\n",
       " <Bug #2050143 on https://bugzilla.redhat.com/xmlrpc.cgi at 0x7f1db8971f60>,\n",
       " <Bug #2050139 on https://bugzilla.redhat.com/xmlrpc.cgi at 0x7f1db8971c00>,\n",
       " <Bug #2050083 on https://bugzilla.redhat.com/xmlrpc.cgi at 0x7f1db89716c0>,\n",
       " <Bug #2050081 on https://bugzilla.redhat.com/xmlrpc.cgi at 0x7f1db8973700>,\n",
       " <Bug #2050080 on https://bugzilla.redhat.com/xmlrpc.cgi at 0x7f1db8973130>,\n",
       " <Bug #2049705 on https://bugzilla.redhat.com/xmlrpc.cgi at 0x7f1db8973a90>,\n",
       " <Bug #2049682 on https://bugzilla.redhat.com/xmlrpc.cgi at 0x7f1db8972a40>,\n",
       " <Bug #2049675 on https://bugzilla.redhat.com/xmlrpc.cgi at 0x7f1db8971ff0>,\n",
       " <Bug #2049658 on https://bugzilla.redhat.com/xmlrpc.cgi at 0x7f1db8970580>,\n",
       " <Bug #2049642 on https://bugzilla.redhat.com/xmlrpc.cgi at 0x7f1db8970430>,\n",
       " <Bug #2049632 on https://bugzilla.redhat.com/xmlrpc.cgi at 0x7f1db8972230>,\n",
       " <Bug #2049630 on https://bugzilla.redhat.com/xmlrpc.cgi at 0x7f1db8973670>,\n",
       " <Bug #2049626 on https://bugzilla.redhat.com/xmlrpc.cgi at 0x7f1db8971630>,\n",
       " <Bug #2049621 on https://bugzilla.redhat.com/xmlrpc.cgi at 0x7f1d9fe3c220>,\n",
       " <Bug #2049619 on https://bugzilla.redhat.com/xmlrpc.cgi at 0x7f1db8970460>,\n",
       " <Bug #2049428 on https://bugzilla.redhat.com/xmlrpc.cgi at 0x7f1db8972920>,\n",
       " <Bug #2049426 on https://bugzilla.redhat.com/xmlrpc.cgi at 0x7f1db8971060>,\n",
       " <Bug #2049096 on https://bugzilla.redhat.com/xmlrpc.cgi at 0x7f1db8971e40>,\n",
       " <Bug #2047047 on https://bugzilla.redhat.com/xmlrpc.cgi at 0x7f1db8970d60>,\n",
       " <Bug #2047046 on https://bugzilla.redhat.com/xmlrpc.cgi at 0x7f1db89704f0>,\n",
       " <Bug #2046914 on https://bugzilla.redhat.com/xmlrpc.cgi at 0x7f1db8971270>,\n",
       " <Bug #2046668 on https://bugzilla.redhat.com/xmlrpc.cgi at 0x7f1db8970730>,\n",
       " <Bug #2046260 on https://bugzilla.redhat.com/xmlrpc.cgi at 0x7f1db8970f70>,\n",
       " <Bug #2046245 on https://bugzilla.redhat.com/xmlrpc.cgi at 0x7f1db8970160>,\n",
       " <Bug #2046224 on https://bugzilla.redhat.com/xmlrpc.cgi at 0x7f1db8971570>,\n",
       " <Bug #2046213 on https://bugzilla.redhat.com/xmlrpc.cgi at 0x7f1db8972680>,\n",
       " <Bug #2045823 on https://bugzilla.redhat.com/xmlrpc.cgi at 0x7f1db89703a0>,\n",
       " <Bug #2045385 on https://bugzilla.redhat.com/xmlrpc.cgi at 0x7f1db8971ed0>,\n",
       " <Bug #2045325 on https://bugzilla.redhat.com/xmlrpc.cgi at 0x7f1db89739d0>,\n",
       " <Bug #2045274 on https://bugzilla.redhat.com/xmlrpc.cgi at 0x7f1db8971b40>,\n",
       " <Bug #2045255 on https://bugzilla.redhat.com/xmlrpc.cgi at 0x7f1db8973790>,\n",
       " <Bug #2045013 on https://bugzilla.redhat.com/xmlrpc.cgi at 0x7f1db89715a0>,\n",
       " <Bug #2045001 on https://bugzilla.redhat.com/xmlrpc.cgi at 0x7f1db89738e0>,\n",
       " <Bug #2044990 on https://bugzilla.redhat.com/xmlrpc.cgi at 0x7f1da484c1c0>,\n",
       " <Bug #2042405 on https://bugzilla.redhat.com/xmlrpc.cgi at 0x7f1db89717b0>,\n",
       " <Bug #2042360 on https://bugzilla.redhat.com/xmlrpc.cgi at 0x7f1db8971660>,\n",
       " <Bug #2041892 on https://bugzilla.redhat.com/xmlrpc.cgi at 0x7f1db8970400>,\n",
       " <Bug #2041090 on https://bugzilla.redhat.com/xmlrpc.cgi at 0x7f1d9fe3c4c0>,\n",
       " <Bug #2039338 on https://bugzilla.redhat.com/xmlrpc.cgi at 0x7f1d9fe3c5b0>,\n",
       " <Bug #2039259 on https://bugzilla.redhat.com/xmlrpc.cgi at 0x7f1d9fe3c160>,\n",
       " <Bug #2038922 on https://bugzilla.redhat.com/xmlrpc.cgi at 0x7f1d9fe3c340>,\n",
       " <Bug #2034561 on https://bugzilla.redhat.com/xmlrpc.cgi at 0x7f1d9fe3c580>,\n",
       " <Bug #2034263 on https://bugzilla.redhat.com/xmlrpc.cgi at 0x7f1d9fe3c670>,\n",
       " <Bug #2034262 on https://bugzilla.redhat.com/xmlrpc.cgi at 0x7f1d9fe3c3a0>,\n",
       " <Bug #2034217 on https://bugzilla.redhat.com/xmlrpc.cgi at 0x7f1d9fe3c640>,\n",
       " <Bug #2034210 on https://bugzilla.redhat.com/xmlrpc.cgi at 0x7f1d9fe3c3d0>,\n",
       " <Bug #2034174 on https://bugzilla.redhat.com/xmlrpc.cgi at 0x7f1d9fe3c370>,\n",
       " <Bug #2034137 on https://bugzilla.redhat.com/xmlrpc.cgi at 0x7f1d9fe3c610>,\n",
       " <Bug #2033213 on https://bugzilla.redhat.com/xmlrpc.cgi at 0x7f1d9fe3c130>,\n",
       " <Bug #2032607 on https://bugzilla.redhat.com/xmlrpc.cgi at 0x7f1d9fe3c4f0>,\n",
       " <Bug #2028098 on https://bugzilla.redhat.com/xmlrpc.cgi at 0x7f1d9fe3c5e0>,\n",
       " <Bug #2026945 on https://bugzilla.redhat.com/xmlrpc.cgi at 0x7f1d9fe3c730>,\n",
       " <Bug #2026936 on https://bugzilla.redhat.com/xmlrpc.cgi at 0x7f1d9fe3c550>,\n",
       " <Bug #2026935 on https://bugzilla.redhat.com/xmlrpc.cgi at 0x7f1d9fe3c520>,\n",
       " <Bug #2026781 on https://bugzilla.redhat.com/xmlrpc.cgi at 0x7f1d9fe3c400>,\n",
       " <Bug #2026776 on https://bugzilla.redhat.com/xmlrpc.cgi at 0x7f1d9fe3c700>,\n",
       " <Bug #2026769 on https://bugzilla.redhat.com/xmlrpc.cgi at 0x7f1d9fe3c6a0>,\n",
       " <Bug #2026348 on https://bugzilla.redhat.com/xmlrpc.cgi at 0x7f1d9fe3c070>,\n",
       " <Bug #2026258 on https://bugzilla.redhat.com/xmlrpc.cgi at 0x7f1d9fe3c7f0>,\n",
       " <Bug #2026257 on https://bugzilla.redhat.com/xmlrpc.cgi at 0x7f1d9fe3c0d0>,\n",
       " <Bug #2026248 on https://bugzilla.redhat.com/xmlrpc.cgi at 0x7f1d9fe3c790>,\n",
       " <Bug #2026245 on https://bugzilla.redhat.com/xmlrpc.cgi at 0x7f1d9fe3c6d0>,\n",
       " <Bug #2025599 on https://bugzilla.redhat.com/xmlrpc.cgi at 0x7f1d9fe3c190>,\n",
       " <Bug #2025576 on https://bugzilla.redhat.com/xmlrpc.cgi at 0x7f1d9fe3c1c0>,\n",
       " <Bug #2025529 on https://bugzilla.redhat.com/xmlrpc.cgi at 0x7f1d9fe3c460>,\n",
       " <Bug #2022396 on https://bugzilla.redhat.com/xmlrpc.cgi at 0x7f1d9fe3c040>,\n",
       " <Bug #2022351 on https://bugzilla.redhat.com/xmlrpc.cgi at 0x7f1d9fe3c0a0>,\n",
       " <Bug #2022284 on https://bugzilla.redhat.com/xmlrpc.cgi at 0x7f1d9fe3c2e0>,\n",
       " <Bug #2022268 on https://bugzilla.redhat.com/xmlrpc.cgi at 0x7f1d9fe3c430>,\n",
       " <Bug #2021972 on https://bugzilla.redhat.com/xmlrpc.cgi at 0x7f1d9fe3c310>,\n",
       " <Bug #2021938 on https://bugzilla.redhat.com/xmlrpc.cgi at 0x7f1d9fe3c1f0>,\n",
       " <Bug #2021933 on https://bugzilla.redhat.com/xmlrpc.cgi at 0x7f1d9fe3c250>,\n",
       " <Bug #2021924 on https://bugzilla.redhat.com/xmlrpc.cgi at 0x7f1d9fe3c2b0>,\n",
       " <Bug #2021921 on https://bugzilla.redhat.com/xmlrpc.cgi at 0x7f1d9fe3c490>,\n",
       " <Bug #2021902 on https://bugzilla.redhat.com/xmlrpc.cgi at 0x7f1db8970dc0>,\n",
       " <Bug #2021897 on https://bugzilla.redhat.com/xmlrpc.cgi at 0x7f1db8970e80>,\n",
       " <Bug #2021889 on https://bugzilla.redhat.com/xmlrpc.cgi at 0x7f1db8972860>,\n",
       " <Bug #2021856 on https://bugzilla.redhat.com/xmlrpc.cgi at 0x7f1db89729e0>,\n",
       " <Bug #2021804 on https://bugzilla.redhat.com/xmlrpc.cgi at 0x7f1db8972890>,\n",
       " <Bug #2021798 on https://bugzilla.redhat.com/xmlrpc.cgi at 0x7f1db89711b0>,\n",
       " <Bug #2021546 on https://bugzilla.redhat.com/xmlrpc.cgi at 0x7f1db8970eb0>,\n",
       " <Bug #2021510 on https://bugzilla.redhat.com/xmlrpc.cgi at 0x7f1db8971540>,\n",
       " <Bug #2019856 on https://bugzilla.redhat.com/xmlrpc.cgi at 0x7f1db89726e0>,\n",
       " <Bug #2019852 on https://bugzilla.redhat.com/xmlrpc.cgi at 0x7f1db8972dd0>,\n",
       " <Bug #2019310 on https://bugzilla.redhat.com/xmlrpc.cgi at 0x7f1db8973f40>,\n",
       " <Bug #2019081 on https://bugzilla.redhat.com/xmlrpc.cgi at 0x7f1db8970100>,\n",
       " <Bug #2019080 on https://bugzilla.redhat.com/xmlrpc.cgi at 0x7f1db8972710>,\n",
       " <Bug #2019078 on https://bugzilla.redhat.com/xmlrpc.cgi at 0x7f1db89726b0>,\n",
       " <Bug #2019077 on https://bugzilla.redhat.com/xmlrpc.cgi at 0x7f1db8972830>,\n",
       " <Bug #2019076 on https://bugzilla.redhat.com/xmlrpc.cgi at 0x7f1db89727d0>,\n",
       " <Bug #2019074 on https://bugzilla.redhat.com/xmlrpc.cgi at 0x7f1db89724d0>,\n",
       " <Bug #2019072 on https://bugzilla.redhat.com/xmlrpc.cgi at 0x7f1db8972d40>,\n",
       " <Bug #2019068 on https://bugzilla.redhat.com/xmlrpc.cgi at 0x7f1db8973280>,\n",
       " <Bug #2019014 on https://bugzilla.redhat.com/xmlrpc.cgi at 0x7f1db8973e20>]"
      ]
     },
     "execution_count": 46,
     "metadata": {},
     "output_type": "execute_result"
    }
   ],
   "source": [
    "import bugzilla\n",
    "bzapi = bugzilla.Bugzilla('bugzilla.redhat.com')\n",
    "query = bzapi.build_query(product='Fedora')\n",
    "query['blocks'] = 2016048  # PYTHON3.11\n",
    "query['limit'] = 20 # Bugzilla page size\n",
    "query['offset'] = 0\n",
    "query['status'] = '__open__'\n",
    "bugz = []\n",
    "while len(partial := bzapi.query(query)) == 20:\n",
    "    bugz += partial\n",
    "    query['offset'] += 20\n",
    "    print(len(bugz))\n",
    "bugz += partial"
   ]
  },
  {
   "cell_type": "code",
   "execution_count": 47,
   "metadata": {},
   "outputs": [],
   "source": [
    "F37FailsToInstall = 2045109"
   ]
  },
  {
   "cell_type": "code",
   "execution_count": 48,
   "metadata": {},
   "outputs": [],
   "source": [
    "python311 = !cat python311.pkgs"
   ]
  },
  {
   "cell_type": "code",
   "execution_count": 50,
   "metadata": {},
   "outputs": [
    {
     "data": {
      "text/plain": [
       "[<Bug #2098663 on https://bugzilla.redhat.com/xmlrpc.cgi at 0x7f1da6f67640>,\n",
       " <Bug #2098670 on https://bugzilla.redhat.com/xmlrpc.cgi at 0x7f1da6f65bd0>,\n",
       " <Bug #2098681 on https://bugzilla.redhat.com/xmlrpc.cgi at 0x7f1da6f66200>,\n",
       " <Bug #2098697 on https://bugzilla.redhat.com/xmlrpc.cgi at 0x7f1da6f64430>,\n",
       " <Bug #2098698 on https://bugzilla.redhat.com/xmlrpc.cgi at 0x7f1da6f65000>,\n",
       " <Bug #2098757 on https://bugzilla.redhat.com/xmlrpc.cgi at 0x7f1db8977a90>,\n",
       " <Bug #2098770 on https://bugzilla.redhat.com/xmlrpc.cgi at 0x7f1db8977730>,\n",
       " <Bug #2098781 on https://bugzilla.redhat.com/xmlrpc.cgi at 0x7f1db8975e10>,\n",
       " <Bug #2098796 on https://bugzilla.redhat.com/xmlrpc.cgi at 0x7f1d9fda2950>,\n",
       " <Bug #2098812 on https://bugzilla.redhat.com/xmlrpc.cgi at 0x7f1d9fda3a00>,\n",
       " <Bug #2098813 on https://bugzilla.redhat.com/xmlrpc.cgi at 0x7f1d9fda3a30>,\n",
       " <Bug #2098814 on https://bugzilla.redhat.com/xmlrpc.cgi at 0x7f1d9fda3a60>,\n",
       " <Bug #2098826 on https://bugzilla.redhat.com/xmlrpc.cgi at 0x7f1d9fda3b80>,\n",
       " <Bug #2098886 on https://bugzilla.redhat.com/xmlrpc.cgi at 0x7f1d9fda3d00>,\n",
       " <Bug #2098977 on https://bugzilla.redhat.com/xmlrpc.cgi at 0x7f1da6cd6e00>,\n",
       " <Bug #2099011 on https://bugzilla.redhat.com/xmlrpc.cgi at 0x7f1da6cd58a0>,\n",
       " <Bug #2099069 on https://bugzilla.redhat.com/xmlrpc.cgi at 0x7f1da6e16740>,\n",
       " <Bug #2099070 on https://bugzilla.redhat.com/xmlrpc.cgi at 0x7f1da6e16770>,\n",
       " <Bug #2099071 on https://bugzilla.redhat.com/xmlrpc.cgi at 0x7f1d9fe3c280>,\n",
       " <Bug #2099078 on https://bugzilla.redhat.com/xmlrpc.cgi at 0x7f1da6e177c0>,\n",
       " <Bug #2099096 on https://bugzilla.redhat.com/xmlrpc.cgi at 0x7f1da6e17a00>,\n",
       " <Bug #2099119 on https://bugzilla.redhat.com/xmlrpc.cgi at 0x7f1da6e15120>,\n",
       " <Bug #2099150 on https://bugzilla.redhat.com/xmlrpc.cgi at 0x7f1da6e16800>,\n",
       " <Bug #2099154 on https://bugzilla.redhat.com/xmlrpc.cgi at 0x7f1da6d02050>,\n",
       " <Bug #2099164 on https://bugzilla.redhat.com/xmlrpc.cgi at 0x7f1da6d01990>,\n",
       " <Bug #2099170 on https://bugzilla.redhat.com/xmlrpc.cgi at 0x7f1da6d031c0>,\n",
       " <Bug #2099175 on https://bugzilla.redhat.com/xmlrpc.cgi at 0x7f1da6d03280>,\n",
       " <Bug #2099189 on https://bugzilla.redhat.com/xmlrpc.cgi at 0x7f1da6d03430>]"
      ]
     },
     "execution_count": 50,
     "metadata": {},
     "output_type": "execute_result"
    }
   ],
   "source": [
    "len(pure_fti_bugz := [b for b in bugz if b.component in python311 and F37FailsToInstall in b.blocks])\n",
    "pure_fti_bugz"
   ]
  },
  {
   "cell_type": "code",
   "execution_count": 52,
   "metadata": {},
   "outputs": [
    {
     "data": {
      "text/markdown": [
       "# Mayavi\n",
       "[rbz#2098663](https://bugzilla.redhat.com/2098663)"
      ],
      "text/plain": [
       "<IPython.core.display.Markdown object>"
      ]
     },
     "metadata": {},
     "output_type": "display_data"
    },
    {
     "name": "stdout",
     "output_type": "stream",
     "text": [
      "  - nothing provides python3.11dist(envisage) needed by python3-mayavi-4.7.4-4.fc37.x86_64\n",
      "    = blocked by python-envisage https://bugzilla.redhat.com/2098901\n",
      "  - nothing provides python3.11dist(pyface) >= 6.1.1 needed by python3-mayavi-4.7.4-4.fc37.x86_64\n",
      "    = blocked by python-pyface https://bugzilla.redhat.com/2099067\n",
      "  - nothing provides python3.11dist(traitsui) >= 7 needed by python3-mayavi-4.7.4-4.fc37.x86_64\n",
      "    = blocked by python-traitsui https://bugzilla.redhat.com/2099131\n"
     ]
    },
    {
     "data": {
      "text/markdown": [
       "# ansible-collections-openstack\n",
       "[rbz#2098670](https://bugzilla.redhat.com/2098670)"
      ],
      "text/plain": [
       "<IPython.core.display.Markdown object>"
      ]
     },
     "metadata": {},
     "output_type": "display_data"
    },
    {
     "name": "stdout",
     "output_type": "stream",
     "text": [
      "  - nothing provides python3.11dist(openstacksdk) >= 0.36 needed by ansible-collections-openstack-1.7.1-2.938abd0git.fc37.noarch\n",
      "    = blocked by python-openstacksdk https://bugzilla.redhat.com/2099037\n"
     ]
    },
    {
     "data": {
      "text/markdown": [
       "# cekit\n",
       "[rbz#2098681](https://bugzilla.redhat.com/2098681)"
      ],
      "text/plain": [
       "<IPython.core.display.Markdown object>"
      ]
     },
     "metadata": {},
     "output_type": "display_data"
    },
    {
     "name": "stdout",
     "output_type": "stream",
     "text": [
      "  - nothing provides python3.11dist(odcs) >= 0.2.10 needed by cekit-4.1.0-2.fc37.noarch\n",
      "    = blocked by odcs https://bugzilla.redhat.com/2098761\n"
     ]
    },
    {
     "data": {
      "text/markdown": [
       "# electron-cash\n",
       "[rbz#2098697](https://bugzilla.redhat.com/2098697)"
      ],
      "text/plain": [
       "<IPython.core.display.Markdown object>"
      ]
     },
     "metadata": {},
     "output_type": "display_data"
    },
    {
     "name": "stdout",
     "output_type": "stream",
     "text": [
      "  - nothing provides python3.11dist(pathvalidate) needed by electron-cash-4.2.10-3.fc37.noarch\n",
      "    = blocked by python-pathvalidate https://bugzilla.redhat.com/2049642\n",
      "  - nothing provides python3.11dist(qdarkstyle) >= 2.8 needed by electron-cash-4.2.10-3.fc37.noarch\n",
      "    = blocked by python-qdarkstyle https://bugzilla.redhat.com/2099088\n"
     ]
    },
    {
     "data": {
      "text/markdown": [
       "# electrum\n",
       "[rbz#2098698](https://bugzilla.redhat.com/2098698)"
      ],
      "text/plain": [
       "<IPython.core.display.Markdown object>"
      ]
     },
     "metadata": {},
     "output_type": "display_data"
    },
    {
     "name": "stdout",
     "output_type": "stream",
     "text": [
      "  - nothing provides python3.11dist(qdarkstyle) >= 2.7 needed by electrum-4.2.1-3.fc37.noarch\n",
      "    = blocked by python-qdarkstyle https://bugzilla.redhat.com/2099088\n"
     ]
    },
    {
     "data": {
      "text/markdown": [
       "# nodepool\n",
       "[rbz#2098757](https://bugzilla.redhat.com/2098757)"
      ],
      "text/plain": [
       "<IPython.core.display.Markdown object>"
      ]
     },
     "metadata": {},
     "output_type": "display_data"
    },
    {
     "name": "stdout",
     "output_type": "stream",
     "text": [
      "  - nothing provides ((python3.11dist(openstacksdk) < 0.28 or python3.11dist(openstacksdk) > 0.28) with (python3.11dist(openstacksdk) < 0.29 or python3.11dist(openstacksdk) > 0.29) with (python3.11dist(openstacksdk) < 0.30 or python3.11dist(openstacksdk) > 0.30) with (python3.11dist(openstacksdk) < 0.31 or python3.11dist(openstacksdk) > 0.31) with (python3.11dist(openstacksdk) < 0.31.1 or python3.11dist(openstacksdk) > 0.31.1) with (python3.11dist(openstacksdk) < 0.31.2 or python3.11dist(openstacksdk) > 0.31.2) with python3.11dist(openstacksdk) >= 0.27) needed by nodepool-3.13.1-3.fc37.noarch\n"
     ]
    },
    {
     "data": {
      "text/markdown": [
       "# pagure\n",
       "[rbz#2098770](https://bugzilla.redhat.com/2098770)"
      ],
      "text/plain": [
       "<IPython.core.display.Markdown object>"
      ]
     },
     "metadata": {},
     "output_type": "display_data"
    },
    {
     "name": "stdout",
     "output_type": "stream",
     "text": [
      "  - nothing provides python3.11dist(arrow) needed by pagure-5.13.3-4.fc37.noarch\n",
      "  - nothing provides python3.11dist(celery) needed by pagure-5.13.3-4.fc37.noarch\n",
      "    = blocked by python-celery https://bugzilla.redhat.com/2098863\n"
     ]
    },
    {
     "data": {
      "text/markdown": [
       "# poezio-omemo\n",
       "[rbz#2098781](https://bugzilla.redhat.com/2098781)"
      ],
      "text/plain": [
       "<IPython.core.display.Markdown object>"
      ]
     },
     "metadata": {},
     "output_type": "display_data"
    },
    {
     "name": "stdout",
     "output_type": "stream",
     "text": [
      "  - nothing provides python3.11dist(slixmpp-omemo) >= 0.7 needed by poezio-omemo-0.6.0-2.fc37.noarch\n",
      "    = blocked by python-slixmpp-omemo https://bugzilla.redhat.com/2099110\n"
     ]
    },
    {
     "data": {
      "text/markdown": [
       "# python-AppTools\n",
       "[rbz#2098796](https://bugzilla.redhat.com/2098796)"
      ],
      "text/plain": [
       "<IPython.core.display.Markdown object>"
      ]
     },
     "metadata": {},
     "output_type": "display_data"
    },
    {
     "name": "stdout",
     "output_type": "stream",
     "text": [
      "  - nothing provides python3.11dist(traitsui) needed by python3-apptools-5.1.0-3.fc37.noarch\n",
      "    = blocked by python-traitsui https://bugzilla.redhat.com/2099131\n"
     ]
    },
    {
     "data": {
      "text/markdown": [
       "# python-aioambient\n",
       "[rbz#2098812](https://bugzilla.redhat.com/2098812)"
      ],
      "text/plain": [
       "<IPython.core.display.Markdown object>"
      ]
     },
     "metadata": {},
     "output_type": "display_data"
    },
    {
     "name": "stdout",
     "output_type": "stream",
     "text": [
      "  - nothing provides (python3.11dist(python-engineio) < 5~~ with python3.11dist(python-engineio) >= 3.13.1) needed by python3-aioambient-1.3.0-3.fc37.noarch\n",
      "    = blocked by python-engineio https://bugzilla.redhat.com/2094381\n",
      "  - nothing provides (python3.11dist(python-socketio) < 6~~ with python3.11dist(python-socketio) >= 4.6) needed by python3-aioambient-1.3.0-3.fc37.noarch\n",
      "    = blocked by python-socketio https://bugzilla.redhat.com/2099112\n"
     ]
    },
    {
     "data": {
      "text/markdown": [
       "# python-aiohttp-socks\n",
       "[rbz#2098813](https://bugzilla.redhat.com/2098813)"
      ],
      "text/plain": [
       "<IPython.core.display.Markdown object>"
      ]
     },
     "metadata": {},
     "output_type": "display_data"
    },
    {
     "name": "stdout",
     "output_type": "stream",
     "text": [
      "  - nothing provides python3.11dist(python-socks) >= 1.2.2 needed by python3-aiohttp-socks-0.6.0-5.fc37.noarch\n",
      "    = blocked by python-socks https://bugzilla.redhat.com/2099113\n",
      "  - nothing provides python3.11dist(python-socks[asyncio]) >= 1.2.2 needed by python3-aiohttp-socks-0.6.0-5.fc37.noarch\n",
      "Check: []\n"
     ]
    },
    {
     "data": {
      "text/markdown": [
       "# python-aioodbc\n",
       "[rbz#2098814](https://bugzilla.redhat.com/2098814)"
      ],
      "text/plain": [
       "<IPython.core.display.Markdown object>"
      ]
     },
     "metadata": {},
     "output_type": "display_data"
    },
    {
     "name": "stdout",
     "output_type": "stream",
     "text": [
      "  - nothing provides python3.11dist(pyodbc) needed by python3-aioodbc-0.3.3-11.fc37.noarch\n",
      "    = blocked by pyodbc https://bugzilla.redhat.com/2049428\n"
     ]
    },
    {
     "data": {
      "text/markdown": [
       "# python-august\n",
       "[rbz#2098826](https://bugzilla.redhat.com/2098826)"
      ],
      "text/plain": [
       "<IPython.core.display.Markdown object>"
      ]
     },
     "metadata": {},
     "output_type": "display_data"
    },
    {
     "name": "stdout",
     "output_type": "stream",
     "text": [
      "  - nothing provides python3.11dist(vol) needed by python3-august-0.25.2-6.fc37.noarch\n",
      "Check: []\n"
     ]
    },
    {
     "data": {
      "text/markdown": [
       "# python-django-cacheops\n",
       "[rbz#2098886](https://bugzilla.redhat.com/2098886)"
      ],
      "text/plain": [
       "<IPython.core.display.Markdown object>"
      ]
     },
     "metadata": {},
     "output_type": "display_data"
    },
    {
     "name": "stdout",
     "output_type": "stream",
     "text": [
      "  - nothing provides (python3.11dist(funcy) < 2~~ with python3.11dist(funcy) >= 1.8) needed by python3-django-cacheops-6.0-4.fc37.noarch\n",
      "    = blocked by python-funcy https://bugzilla.redhat.com/2098917\n"
     ]
    },
    {
     "data": {
      "text/markdown": [
       "# python-jaydebeapi\n",
       "[rbz#2098977](https://bugzilla.redhat.com/2098977)"
      ],
      "text/plain": [
       "<IPython.core.display.Markdown object>"
      ]
     },
     "metadata": {},
     "output_type": "display_data"
    },
    {
     "name": "stdout",
     "output_type": "stream",
     "text": [
      "  - nothing provides python3.11dist(jpype1) needed by python3-jaydebeapi-1.2.3-7.fc37.noarch\n",
      "    = blocked by jpype https://bugzilla.redhat.com/2049705\n"
     ]
    },
    {
     "data": {
      "text/markdown": [
       "# python-moss\n",
       "[rbz#2099011](https://bugzilla.redhat.com/2099011)"
      ],
      "text/plain": [
       "<IPython.core.display.Markdown object>"
      ]
     },
     "metadata": {},
     "output_type": "display_data"
    },
    {
     "name": "stdout",
     "output_type": "stream",
     "text": [
      "  - nothing provides python3.11dist(scikit-learn) needed by python3-moss-0.5.0-16.fc37.noarch\n",
      "    = blocked by python-scikit-learn https://bugzilla.redhat.com/2099102\n"
     ]
    },
    {
     "data": {
      "text/markdown": [
       "# python-pyls-spyder\n",
       "[rbz#2099069](https://bugzilla.redhat.com/2099069)"
      ],
      "text/plain": [
       "<IPython.core.display.Markdown object>"
      ]
     },
     "metadata": {},
     "output_type": "display_data"
    },
    {
     "name": "stdout",
     "output_type": "stream",
     "text": [
      "  - nothing provides python3.11dist(python-lsp-server) >= 1.0.1 needed by python3-pyls-spyder-0.4.0-4.fc37.noarch\n",
      "    = blocked by python-lsp-server https://bugzilla.redhat.com/2098993\n"
     ]
    },
    {
     "data": {
      "text/markdown": [
       "# python-pyls_black\n",
       "[rbz#2099070](https://bugzilla.redhat.com/2099070)"
      ],
      "text/plain": [
       "<IPython.core.display.Markdown object>"
      ]
     },
     "metadata": {},
     "output_type": "display_data"
    },
    {
     "name": "stdout",
     "output_type": "stream",
     "text": [
      "  - nothing provides python3.11dist(python-language-server) needed by python3-pyls_black-0.4.7-4.fc37.noarch\n",
      "    = blocked by python-language-server https://bugzilla.redhat.com/2098986\n"
     ]
    },
    {
     "data": {
      "text/markdown": [
       "# python-pymc3\n",
       "[rbz#2099071](https://bugzilla.redhat.com/2099071)"
      ],
      "text/plain": [
       "<IPython.core.display.Markdown object>"
      ]
     },
     "metadata": {},
     "output_type": "display_data"
    },
    {
     "name": "stdout",
     "output_type": "stream",
     "text": [
      "  - nothing provides python3.11dist(arviz) >= 0.11 needed by python3-pymc3-3.11.4-3.fc37.noarch\n",
      "    = blocked by python-arviz https://bugzilla.redhat.com/2098821\n",
      "  - nothing provides python3.11dist(theano-pymc) = 1.1.2 needed by python3-pymc3-3.11.4-3.fc37.noarch\n",
      "    = blocked by python-theano https://bugzilla.redhat.com/2099129\n"
     ]
    },
    {
     "data": {
      "text/markdown": [
       "# python-pyro\n",
       "[rbz#2099078](https://bugzilla.redhat.com/2099078)"
      ],
      "text/plain": [
       "<IPython.core.display.Markdown object>"
      ]
     },
     "metadata": {},
     "output_type": "display_data"
    },
    {
     "name": "stdout",
     "output_type": "stream",
     "text": [
      "  - nothing provides python3.11dist(serpent) >= 1.27 needed by python3-pyro-4.80-6.fc37.noarch\n",
      "    = blocked by python-serpent https://bugzilla.redhat.com/2084447\n"
     ]
    },
    {
     "data": {
      "text/markdown": [
       "# python-rsdclient\n",
       "[rbz#2099096](https://bugzilla.redhat.com/2099096)"
      ],
      "text/plain": [
       "<IPython.core.display.Markdown object>"
      ]
     },
     "metadata": {},
     "output_type": "display_data"
    },
    {
     "name": "stdout",
     "output_type": "stream",
     "text": [
      "  - nothing provides python3.11dist(osc-lib) >= 1.7 needed by python3-rsdclient-1.0.2-7.fc37.noarch\n",
      "    = blocked by python-osc-lib https://bugzilla.redhat.com/2099041\n"
     ]
    },
    {
     "data": {
      "text/markdown": [
       "# python-sqlalchemy\n",
       "[rbz#2099119](https://bugzilla.redhat.com/2099119)"
      ],
      "text/plain": [
       "<IPython.core.display.Markdown object>"
      ]
     },
     "metadata": {},
     "output_type": "display_data"
    },
    {
     "name": "stdout",
     "output_type": "stream",
     "text": [
      "  - nothing provides python3.11dist(pyodbc) needed by python3-sqlalchemy+mssql_pyodbc-1.4.37-2.fc37.x86_64\n",
      "    = blocked by pyodbc https://bugzilla.redhat.com/2049428\n"
     ]
    },
    {
     "data": {
      "text/markdown": [
       "# python-xml2rfc\n",
       "[rbz#2099150](https://bugzilla.redhat.com/2099150)"
      ],
      "text/plain": [
       "<IPython.core.display.Markdown object>"
      ]
     },
     "metadata": {},
     "output_type": "display_data"
    },
    {
     "name": "stdout",
     "output_type": "stream",
     "text": [
      "  - nothing provides ((python3.11dist(pycountry) < 19.7.15 or python3.11dist(pycountry) > 19.7.15) with python3.11dist(pycountry) >= 1.8) needed by python3-xml2rfc-3.9.1-3.fc37.noarch\n"
     ]
    },
    {
     "data": {
      "text/markdown": [
       "# python-zaqarclient\n",
       "[rbz#2099154](https://bugzilla.redhat.com/2099154)"
      ],
      "text/plain": [
       "<IPython.core.display.Markdown object>"
      ]
     },
     "metadata": {},
     "output_type": "display_data"
    },
    {
     "name": "stdout",
     "output_type": "stream",
     "text": [
      "  - nothing provides python3.11dist(osc-lib) >= 1.8 needed by python3-zaqarclient-2.3.0-2.fc37.noarch\n",
      "    = blocked by python-osc-lib https://bugzilla.redhat.com/2099041\n"
     ]
    },
    {
     "data": {
      "text/markdown": [
       "# resalloc-openstack\n",
       "[rbz#2099164](https://bugzilla.redhat.com/2099164)"
      ],
      "text/plain": [
       "<IPython.core.display.Markdown object>"
      ]
     },
     "metadata": {},
     "output_type": "display_data"
    },
    {
     "name": "stdout",
     "output_type": "stream",
     "text": [
      "  - nothing provides python3.11dist(python-neutronclient) needed by resalloc-openstack-8-3.fc37.noarch\n",
      "    = blocked by python-neutronclient https://bugzilla.redhat.com/2099024\n"
     ]
    },
    {
     "data": {
      "text/markdown": [
       "# sgmanager\n",
       "[rbz#2099170](https://bugzilla.redhat.com/2099170)"
      ],
      "text/plain": [
       "<IPython.core.display.Markdown object>"
      ]
     },
     "metadata": {},
     "output_type": "display_data"
    },
    {
     "name": "stdout",
     "output_type": "stream",
     "text": [
      "  - nothing provides python3.11dist(openstacksdk) needed by sgmanager-2.0.0-12+201801213git+146.861aa67.fc37.noarch\n",
      "    = blocked by python-openstacksdk https://bugzilla.redhat.com/2099037\n"
     ]
    },
    {
     "data": {
      "text/markdown": [
       "# spyder\n",
       "[rbz#2099175](https://bugzilla.redhat.com/2099175)"
      ],
      "text/plain": [
       "<IPython.core.display.Markdown object>"
      ]
     },
     "metadata": {},
     "output_type": "display_data"
    },
    {
     "name": "stdout",
     "output_type": "stream",
     "text": [
      "  - nothing provides (python3.11dist(python-lsp-server) < 1.5~~ with python3.11dist(python-lsp-server) >= 1.4.1) needed by python3-spyder-5.3.1-3.fc37.noarch\n",
      "    = blocked by python-lsp-server https://bugzilla.redhat.com/2098993\n",
      "  - nothing provides (python3.11dist(qdarkstyle) < 3.1~~ with python3.11dist(qdarkstyle) >= 3.0.2) needed by python3-spyder-5.3.1-3.fc37.noarch\n",
      "    = blocked by python-qdarkstyle https://bugzilla.redhat.com/2099088\n",
      "  - nothing provides (python3.11dist(spyder-kernels) < 2.4~~ with python3.11dist(spyder-kernels) >= 2.3.1) needed by python3-spyder-5.3.1-3.fc37.noarch\n",
      "    = blocked by python-spyder-kernels https://bugzilla.redhat.com/2099117\n",
      "  - nothing provides python3.11dist(cloudpickle) >= 0.5 needed by python3-spyder-5.3.1-3.fc37.noarch\n",
      "  - nothing provides python3.11dist(cookiecutter) >= 1.6 needed by python3-spyder-5.3.1-3.fc37.noarch\n",
      "  - nothing provides python3.11dist(python-lsp-black) >= 1.2 needed by python3-spyder-5.3.1-3.fc37.noarch\n",
      "    = blocked by python-lsp-black https://bugzilla.redhat.com/2098992\n"
     ]
    },
    {
     "data": {
      "text/markdown": [
       "# xcat\n",
       "[rbz#2099189](https://bugzilla.redhat.com/2099189)"
      ],
      "text/plain": [
       "<IPython.core.display.Markdown object>"
      ]
     },
     "metadata": {},
     "output_type": "display_data"
    },
    {
     "name": "stdout",
     "output_type": "stream",
     "text": [
      "  - nothing provides python3.11dist(cchardet) needed by xcat-1.0.4-8.fc37.noarch\n",
      "    = blocked by python-cchardet https://bugzilla.redhat.com/2021804\n"
     ]
    }
   ],
   "source": [
    "for bug in pure_fti_bugz:\n",
    "    display(Markdown(f'# {bug.component}\\n[rbz#{bug.id}](https://bugzilla.redhat.com/{bug.id})'))\n",
    "    comments = bug.getcomments()\n",
    "    initial_comment = comments[0]\n",
    "    if initial_comment['creator'] != 'mhroncok@redhat.com':\n",
    "        print('Not an automated FTI bug by Miro')\n",
    "        continue\n",
    "\n",
    "    blocked_by = set()\n",
    "    lines = initial_comment['text'].splitlines()\n",
    "    for line in lines:\n",
    "        if line.startswith('  - nothing provides '):\n",
    "            print(line)\n",
    "            provide = line.split(' ')[5]\n",
    "            if provide.startswith('('):\n",
    "                provide = provide[1:]\n",
    "            if provide.startswith('python3.11dist('):\n",
    "                old_provide = provide.replace('python3.11dist(', 'python3.10dist(')\n",
    "                blocker_components = !repoquery -q --repo=rawhide --source --whatprovides \"{old_provide}\" | pkgname\n",
    "                if len(set(blocker_components)) == 1:\n",
    "                    blocker_component = blocker_components[0]\n",
    "                    blocker_bugz = [b for b in bugz if b.component == blocker_component]\n",
    "                    if len(blocker_bugz) > 1:\n",
    "                        print(f\"    = too many bugzillas for {blocker_component}\")\n",
    "                        for bug in blocker_bugz:\n",
    "                            print(f\"        https://bugzilla.redhat.com/{bug.id}\")\n",
    "                    elif blocker_bugz:\n",
    "                        bid = blocker_bugz[0].id\n",
    "                        print(f\"    = blocked by {blocker_component} https://bugzilla.redhat.com/{bid}\")\n",
    "                        blocked_by.add(bid)\n",
    "                else:\n",
    "                    print('Check:', blocker_components)\n",
    "    if blocked_by:\n",
    "        add_blockers = bzapi.build_update(depends_on_add=sorted(blocked_by))\n",
    "        bzapi.update_bugs([bug.id], add_blockers)"
   ]
  }
 ],
 "metadata": {
  "kernelspec": {
   "display_name": "Python 3 (ipykernel)",
   "language": "python",
   "name": "python3"
  },
  "language_info": {
   "codemirror_mode": {
    "name": "ipython",
    "version": 3
   },
   "file_extension": ".py",
   "mimetype": "text/x-python",
   "name": "python",
   "nbconvert_exporter": "python",
   "pygments_lexer": "ipython3",
   "version": "3.10.4"
  }
 },
 "nbformat": 4,
 "nbformat_minor": 4
}
