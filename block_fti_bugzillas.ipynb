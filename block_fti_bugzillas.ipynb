{
 "cells": [
  {
   "cell_type": "markdown",
   "metadata": {},
   "source": [
    "This helper makes sure that the packages that rebuilt successfully with Python 3.10 but fail to install due to their dependencies not yet rebuilt have bugzillas blocked by the appropriate bugzillas of said dependencies.\n",
    "\n",
    " 1. For every package that has been successfully rebuilt, we see if it has a bugzilla that blocks `PYTHON3.10` and `F35FailsToInstall`.\n",
    " 2. If so, we parse the initial comment for missing `python3.10dist()` dependencies.\n",
    " 3. We convert the dependencies to `python3.9dist()` dependencies and find their component.\n",
    " 4. If the component has a `PYTHON3.10` bugzilla, we mark it as blocking the bugzilla from (1)."
   ]
  },
  {
   "cell_type": "code",
   "execution_count": 1,
   "metadata": {},
   "outputs": [],
   "source": [
    "from IPython.display import display, Markdown"
   ]
  },
  {
   "cell_type": "code",
   "execution_count": 2,
   "metadata": {},
   "outputs": [
    {
     "name": "stdout",
     "output_type": "stream",
     "text": [
      "20\n",
      "40\n",
      "60\n",
      "80\n",
      "100\n",
      "120\n",
      "140\n",
      "160\n",
      "180\n",
      "200\n",
      "220\n",
      "240\n",
      "260\n",
      "280\n",
      "300\n",
      "320\n",
      "340\n",
      "360\n",
      "380\n",
      "400\n",
      "420\n",
      "440\n",
      "460\n",
      "480\n",
      "500\n",
      "520\n",
      "540\n",
      "560\n",
      "580\n",
      "600\n",
      "620\n",
      "640\n",
      "660\n",
      "680\n",
      "700\n",
      "720\n",
      "740\n",
      "760\n",
      "780\n",
      "800\n",
      "820\n"
     ]
    }
   ],
   "source": [
    "import bugzilla\n",
    "bzapi = bugzilla.Bugzilla('bugzilla.redhat.com')\n",
    "query = bzapi.build_query(product='Fedora')\n",
    "query['blocks'] = 2135404  # PYTHON3.12\n",
    "query['limit'] = 20 # Bugzilla page size\n",
    "query['offset'] = 0\n",
    "query['status'] = '__open__'\n",
    "bugz = []\n",
    "while len(partial := bzapi.query(query)) == 20:\n",
    "    bugz += partial\n",
    "    query['offset'] += 20\n",
    "    print(len(bugz))\n",
    "bugz += partial"
   ]
  },
  {
   "cell_type": "code",
   "execution_count": 3,
   "metadata": {},
   "outputs": [],
   "source": [
    "F39FailsToInstall = 2168845"
   ]
  },
  {
   "cell_type": "code",
   "execution_count": 4,
   "metadata": {},
   "outputs": [],
   "source": [
    "python312 = !cat python312.pkgs"
   ]
  },
  {
   "cell_type": "code",
   "execution_count": 5,
   "metadata": {},
   "outputs": [
    {
     "data": {
      "text/plain": [
       "[<Bug #2219921 on https://bugzilla.redhat.com/xmlrpc.cgi at 0x7f8dc4b88d50>,\n",
       " <Bug #2219924 on https://bugzilla.redhat.com/xmlrpc.cgi at 0x7f8dc4b93550>,\n",
       " <Bug #2219928 on https://bugzilla.redhat.com/xmlrpc.cgi at 0x7f8dc4ba18d0>,\n",
       " <Bug #2219931 on https://bugzilla.redhat.com/xmlrpc.cgi at 0x7f8dc4ba7190>,\n",
       " <Bug #2219937 on https://bugzilla.redhat.com/xmlrpc.cgi at 0x7f8dc4bbe5d0>,\n",
       " <Bug #2219959 on https://bugzilla.redhat.com/xmlrpc.cgi at 0x7f8dc4bf23d0>,\n",
       " <Bug #2219962 on https://bugzilla.redhat.com/xmlrpc.cgi at 0x7f8dc4c02290>,\n",
       " <Bug #2219999 on https://bugzilla.redhat.com/xmlrpc.cgi at 0x7f8dc4c5e210>,\n",
       " <Bug #2220002 on https://bugzilla.redhat.com/xmlrpc.cgi at 0x7f8dc4c6add0>,\n",
       " <Bug #2220019 on https://bugzilla.redhat.com/xmlrpc.cgi at 0x7f8dc4a9dd10>,\n",
       " <Bug #2220057 on https://bugzilla.redhat.com/xmlrpc.cgi at 0x7f8dc4aff890>,\n",
       " <Bug #2220059 on https://bugzilla.redhat.com/xmlrpc.cgi at 0x7f8dc4b08a90>,\n",
       " <Bug #2220066 on https://bugzilla.redhat.com/xmlrpc.cgi at 0x7f8dc4b1f650>,\n",
       " <Bug #2220070 on https://bugzilla.redhat.com/xmlrpc.cgi at 0x7f8dc4b38250>,\n",
       " <Bug #2220087 on https://bugzilla.redhat.com/xmlrpc.cgi at 0x7f8dc4b5f390>,\n",
       " <Bug #2220092 on https://bugzilla.redhat.com/xmlrpc.cgi at 0x7f8dc4979510>,\n",
       " <Bug #2220102 on https://bugzilla.redhat.com/xmlrpc.cgi at 0x7f8dc4987010>,\n",
       " <Bug #2220103 on https://bugzilla.redhat.com/xmlrpc.cgi at 0x7f8dc49930d0>,\n",
       " <Bug #2220105 on https://bugzilla.redhat.com/xmlrpc.cgi at 0x7f8dc49996d0>,\n",
       " <Bug #2220107 on https://bugzilla.redhat.com/xmlrpc.cgi at 0x7f8dc499e6d0>,\n",
       " <Bug #2220227 on https://bugzilla.redhat.com/xmlrpc.cgi at 0x7f8dc48f2190>,\n",
       " <Bug #2220232 on https://bugzilla.redhat.com/xmlrpc.cgi at 0x7f8dc48f9ed0>,\n",
       " <Bug #2220248 on https://bugzilla.redhat.com/xmlrpc.cgi at 0x7f8dc492d110>,\n",
       " <Bug #2220274 on https://bugzilla.redhat.com/xmlrpc.cgi at 0x7f8dc4972f10>,\n",
       " <Bug #2220285 on https://bugzilla.redhat.com/xmlrpc.cgi at 0x7f8dc4799850>,\n",
       " <Bug #2220339 on https://bugzilla.redhat.com/xmlrpc.cgi at 0x7f8dc48228d0>,\n",
       " <Bug #2220401 on https://bugzilla.redhat.com/xmlrpc.cgi at 0x7f8dc46dc150>,\n",
       " <Bug #2220419 on https://bugzilla.redhat.com/xmlrpc.cgi at 0x7f8dc4708d90>,\n",
       " <Bug #2220432 on https://bugzilla.redhat.com/xmlrpc.cgi at 0x7f8dc4727f90>,\n",
       " <Bug #2220434 on https://bugzilla.redhat.com/xmlrpc.cgi at 0x7f8dc4732c90>,\n",
       " <Bug #2220442 on https://bugzilla.redhat.com/xmlrpc.cgi at 0x7f8dc4753810>,\n",
       " <Bug #2220476 on https://bugzilla.redhat.com/xmlrpc.cgi at 0x7f8dc45a7690>,\n",
       " <Bug #2220485 on https://bugzilla.redhat.com/xmlrpc.cgi at 0x7f8dd44e5b10>,\n",
       " <Bug #2220494 on https://bugzilla.redhat.com/xmlrpc.cgi at 0x7f8dc45db3d0>,\n",
       " <Bug #2220514 on https://bugzilla.redhat.com/xmlrpc.cgi at 0x7f8dc4606250>,\n",
       " <Bug #2220515 on https://bugzilla.redhat.com/xmlrpc.cgi at 0x7f8dc4613950>,\n",
       " <Bug #2220517 on https://bugzilla.redhat.com/xmlrpc.cgi at 0x7f8dc461b1d0>,\n",
       " <Bug #2220522 on https://bugzilla.redhat.com/xmlrpc.cgi at 0x7f8dc462bf10>,\n",
       " <Bug #2220536 on https://bugzilla.redhat.com/xmlrpc.cgi at 0x7f8dc4656e10>,\n",
       " <Bug #2220557 on https://bugzilla.redhat.com/xmlrpc.cgi at 0x7f8dc4499750>,\n",
       " <Bug #2220562 on https://bugzilla.redhat.com/xmlrpc.cgi at 0x7f8dc449e4d0>,\n",
       " <Bug #2220575 on https://bugzilla.redhat.com/xmlrpc.cgi at 0x7f8dc44bf2d0>,\n",
       " <Bug #2220579 on https://bugzilla.redhat.com/xmlrpc.cgi at 0x7f8dc44c4910>,\n",
       " <Bug #2220589 on https://bugzilla.redhat.com/xmlrpc.cgi at 0x7f8dc44e79d0>,\n",
       " <Bug #2220598 on https://bugzilla.redhat.com/xmlrpc.cgi at 0x7f8dc4506490>]"
      ]
     },
     "execution_count": 5,
     "metadata": {},
     "output_type": "execute_result"
    }
   ],
   "source": [
    "len(pure_fti_bugz := [b for b in bugz if b.component in python312 and F39FailsToInstall in b.blocks])\n",
    "pure_fti_bugz"
   ]
  },
  {
   "cell_type": "code",
   "execution_count": 15,
   "metadata": {},
   "outputs": [
    {
     "data": {
      "text/markdown": [
       "# Mayavi\n",
       "[rbz#2219921](https://bugzilla.redhat.com/2219921)"
      ],
      "text/plain": [
       "<IPython.core.display.Markdown object>"
      ]
     },
     "metadata": {},
     "output_type": "display_data"
    },
    {
     "name": "stdout",
     "output_type": "stream",
     "text": [
      "  - nothing provides python3.12dist(envisage) needed by python3-mayavi-4.8.1-4.fc39.x86_64\n",
      "    = blocked by python-envisage https://bugzilla.redhat.com/2220207\n",
      "  - nothing provides python3.12dist(pyface) >= 6.1.1 needed by python3-mayavi-4.8.1-4.fc39.x86_64\n",
      "    = blocked by python-pyface https://bugzilla.redhat.com/2220427\n",
      "  - nothing provides python3.12dist(traitsui) >= 7 needed by python3-mayavi-4.8.1-4.fc39.x86_64\n",
      "    = blocked by python-traitsui https://bugzilla.redhat.com/2220539\n"
     ]
    },
    {
     "data": {
      "text/markdown": [
       "# OpenLP\n",
       "[rbz#2219924](https://bugzilla.redhat.com/2219924)"
      ],
      "text/plain": [
       "<IPython.core.display.Markdown object>"
      ]
     },
     "metadata": {},
     "output_type": "display_data"
    },
    {
     "name": "stdout",
     "output_type": "stream",
     "text": [
      "  - nothing provides python3.12dist(flask-cors) needed by OpenLP-3.0.2-2.fc39.noarch\n",
      "    = blocked by python-flask-cors https://bugzilla.redhat.com/2220233\n"
     ]
    },
    {
     "data": {
      "text/markdown": [
       "# aiodnsbrute\n",
       "[rbz#2219928](https://bugzilla.redhat.com/2219928)"
      ],
      "text/plain": [
       "<IPython.core.display.Markdown object>"
      ]
     },
     "metadata": {},
     "output_type": "display_data"
    },
    {
     "name": "stdout",
     "output_type": "stream",
     "text": [
      "  - nothing provides python3.12dist(uvloop) needed by aiodnsbrute-0.3.3-5.fc39.noarch\n",
      "    = too many bugzillas for python-uvloop\n",
      "        https://bugzilla.redhat.com/2203920\n",
      "        https://bugzilla.redhat.com/2220551\n"
     ]
    },
    {
     "data": {
      "text/markdown": [
       "# androwarn\n",
       "[rbz#2219931](https://bugzilla.redhat.com/2219931)"
      ],
      "text/plain": [
       "<IPython.core.display.Markdown object>"
      ]
     },
     "metadata": {},
     "output_type": "display_data"
    },
    {
     "name": "stdout",
     "output_type": "stream",
     "text": [
      "  - nothing provides python3.12dist(androguard) >= 3.2.1 needed by androwarn-1.6.1-13.fc39.noarch\n",
      "    = too many bugzillas for androguard\n",
      "        https://bugzilla.redhat.com/2208494\n",
      "        https://bugzilla.redhat.com/2219930\n"
     ]
    },
    {
     "data": {
      "text/markdown": [
       "# atomic-reactor\n",
       "[rbz#2219937](https://bugzilla.redhat.com/2219937)"
      ],
      "text/plain": [
       "<IPython.core.display.Markdown object>"
      ]
     },
     "metadata": {},
     "output_type": "display_data"
    },
    {
     "name": "stdout",
     "output_type": "stream",
     "text": [
      "  - nothing provides python3.12dist(dockerfile-parse) >= 0.0.13 needed by python3-atomic-reactor-3.14.0-4.fc39.noarch\n",
      "    = too many bugzillas for python-dockerfile-parse\n",
      "        https://bugzilla.redhat.com/2171666\n",
      "        https://bugzilla.redhat.com/2220197\n",
      "  - nothing provides python3.12dist(flatpak-module-tools) >= 0.11 needed by python3-atomic-reactor-3.14.0-4.fc39.noarch\n",
      "    = too many bugzillas for flatpak-module-tools\n",
      "        https://bugzilla.redhat.com/2176174\n",
      "        https://bugzilla.redhat.com/2219995\n"
     ]
    },
    {
     "data": {
      "text/markdown": [
       "# cekit\n",
       "[rbz#2219959](https://bugzilla.redhat.com/2219959)"
      ],
      "text/plain": [
       "<IPython.core.display.Markdown object>"
      ]
     },
     "metadata": {},
     "output_type": "display_data"
    },
    {
     "name": "stdout",
     "output_type": "stream",
     "text": [
      "  - nothing provides python3.12dist(odcs) >= 0.2.10 needed by cekit-4.8.0-2.fc39.noarch\n",
      "    = blocked by odcs https://bugzilla.redhat.com/2220051\n"
     ]
    },
    {
     "data": {
      "text/markdown": [
       "# colin\n",
       "[rbz#2219962](https://bugzilla.redhat.com/2219962)"
      ],
      "text/plain": [
       "<IPython.core.display.Markdown object>"
      ]
     },
     "metadata": {},
     "output_type": "display_data"
    },
    {
     "name": "stdout",
     "output_type": "stream",
     "text": [
      "  - nothing provides python3.12dist(dockerfile-parse) needed by python3-colin-0.5.3-5.fc39.noarch\n",
      "    = too many bugzillas for python-dockerfile-parse\n",
      "        https://bugzilla.redhat.com/2171666\n",
      "        https://bugzilla.redhat.com/2220197\n"
     ]
    },
    {
     "data": {
      "text/markdown": [
       "# fts-rest-client\n",
       "[rbz#2219999](https://bugzilla.redhat.com/2219999)"
      ],
      "text/plain": [
       "<IPython.core.display.Markdown object>"
      ]
     },
     "metadata": {},
     "output_type": "display_data"
    },
    {
     "name": "stdout",
     "output_type": "stream",
     "text": [
      "  - nothing provides python3.12dist(m2crypto) needed by fts-rest-client-3.12.2-2.fc39.noarch\n",
      "    = too many bugzillas for m2crypto\n",
      "        https://bugzilla.redhat.com/2176144\n",
      "        https://bugzilla.redhat.com/2220033\n"
     ]
    },
    {
     "data": {
      "text/markdown": [
       "# git-pull-request\n",
       "[rbz#2220002](https://bugzilla.redhat.com/2220002)"
      ],
      "text/plain": [
       "<IPython.core.display.Markdown object>"
      ]
     },
     "metadata": {},
     "output_type": "display_data"
    },
    {
     "name": "stdout",
     "output_type": "stream",
     "text": [
      "  - nothing provides python3.12dist(daiquiri) needed by git-pull-request-6.0.2-5.fc39.noarch\n",
      "    = blocked by python-daiquiri https://bugzilla.redhat.com/2220180\n"
     ]
    },
    {
     "data": {
      "text/markdown": [
       "# ipython\n",
       "[rbz#2220019](https://bugzilla.redhat.com/2220019)"
      ],
      "text/plain": [
       "<IPython.core.display.Markdown object>"
      ]
     },
     "metadata": {},
     "output_type": "display_data"
    },
    {
     "name": "stdout",
     "output_type": "stream",
     "text": [
      "  - nothing provides python3.12dist(ipywidgets) needed by python3-ipython+notebook-8.14.0-2.fc39.noarch\n",
      "    = blocked by python-ipywidgets https://bugzilla.redhat.com/2220286\n",
      "  - nothing provides python3.12dist(notebook) needed by python3-ipython+notebook-8.14.0-2.fc39.noarch\n",
      "    = blocked by python-notebook https://bugzilla.redhat.com/2220365\n"
     ]
    },
    {
     "data": {
      "text/markdown": [
       "# osbs-client\n",
       "[rbz#2220057](https://bugzilla.redhat.com/2220057)"
      ],
      "text/plain": [
       "<IPython.core.display.Markdown object>"
      ]
     },
     "metadata": {},
     "output_type": "display_data"
    },
    {
     "name": "stdout",
     "output_type": "stream",
     "text": [
      "  - nothing provides python3.12dist(dockerfile-parse) needed by python3-osbs-client-1.15.0-3.fc39.noarch\n",
      "    = too many bugzillas for python-dockerfile-parse\n",
      "        https://bugzilla.redhat.com/2171666\n",
      "        https://bugzilla.redhat.com/2220197\n"
     ]
    },
    {
     "data": {
      "text/markdown": [
       "# pagure\n",
       "[rbz#2220059](https://bugzilla.redhat.com/2220059)"
      ],
      "text/plain": [
       "<IPython.core.display.Markdown object>"
      ]
     },
     "metadata": {},
     "output_type": "display_data"
    },
    {
     "name": "stdout",
     "output_type": "stream",
     "text": [
      "  - nothing provides python3.12dist(celery) needed by pagure-5.13.3-7.fc39.noarch\n",
      "    = blocked by python-celery https://bugzilla.redhat.com/2220146\n",
      "  - nothing provides python3.12dist(whitenoise) needed by pagure-5.13.3-7.fc39.noarch\n",
      "    = blocked by python-whitenoise https://bugzilla.redhat.com/2220563\n"
     ]
    },
    {
     "data": {
      "text/markdown": [
       "# pdfposter\n",
       "[rbz#2220066](https://bugzilla.redhat.com/2220066)"
      ],
      "text/plain": [
       "<IPython.core.display.Markdown object>"
      ]
     },
     "metadata": {},
     "output_type": "display_data"
    },
    {
     "name": "stdout",
     "output_type": "stream",
     "text": [
      "  - nothing provides python3.12dist(pypdf2) needed by pdfposter-0.7.post1-17.fc39.noarch\n",
      "    = too many bugzillas for python-PyPDF2\n",
      "        https://bugzilla.redhat.com/2155032\n",
      "        https://bugzilla.redhat.com/2220095\n"
     ]
    },
    {
     "data": {
      "text/markdown": [
       "# pico-wizard\n",
       "[rbz#2220070](https://bugzilla.redhat.com/2220070)"
      ],
      "text/plain": [
       "<IPython.core.display.Markdown object>"
      ]
     },
     "metadata": {},
     "output_type": "display_data"
    },
    {
     "name": "stdout",
     "output_type": "stream",
     "text": [
      "  - nothing provides python3.12dist(pyside2) needed by pico-wizard-0.1.0^git20220929.934dbcf-3.fc39.noarch\n",
      "    = too many bugzillas for python-pyside2\n",
      "        https://bugzilla.redhat.com/2155447\n",
      "        https://bugzilla.redhat.com/2220452\n"
     ]
    },
    {
     "data": {
      "text/markdown": [
       "# pylint\n",
       "[rbz#2220087](https://bugzilla.redhat.com/2220087)"
      ],
      "text/plain": [
       "<IPython.core.display.Markdown object>"
      ]
     },
     "metadata": {},
     "output_type": "display_data"
    },
    {
     "name": "stdout",
     "output_type": "stream",
     "text": [
      "  - nothing provides (python3.12dist(astroid) <= 2.17~~dev0 with python3.12dist(astroid) >= 2.15.2) needed by python3-pylint-2.17.2-2.fc39.noarch\n",
      "Check: []\n"
     ]
    },
    {
     "data": {
      "text/markdown": [
       "# python-AppTools\n",
       "[rbz#2220092](https://bugzilla.redhat.com/2220092)"
      ],
      "text/plain": [
       "<IPython.core.display.Markdown object>"
      ]
     },
     "metadata": {},
     "output_type": "display_data"
    },
    {
     "name": "stdout",
     "output_type": "stream",
     "text": [
      "  - nothing provides python3.12dist(traitsui) needed by python3-apptools-5.2.1-1.fc39.noarch\n",
      "    = blocked by python-traitsui https://bugzilla.redhat.com/2220539\n"
     ]
    },
    {
     "data": {
      "text/markdown": [
       "# python-adext\n",
       "[rbz#2220102](https://bugzilla.redhat.com/2220102)"
      ],
      "text/plain": [
       "<IPython.core.display.Markdown object>"
      ]
     },
     "metadata": {},
     "output_type": "display_data"
    },
    {
     "name": "stdout",
     "output_type": "stream",
     "text": [
      "  - nothing provides python3.12dist(alarmdecoder) needed by python3-adext-0.3-9.fc39.noarch\n",
      "    = too many bugzillas for python-alarmdecoder\n",
      "        https://bugzilla.redhat.com/2175147\n",
      "        https://bugzilla.redhat.com/2220108\n"
     ]
    },
    {
     "data": {
      "text/markdown": [
       "# python-aioasuswrt\n",
       "[rbz#2220103](https://bugzilla.redhat.com/2220103)"
      ],
      "text/plain": [
       "<IPython.core.display.Markdown object>"
      ]
     },
     "metadata": {},
     "output_type": "display_data"
    },
    {
     "name": "stdout",
     "output_type": "stream",
     "text": [
      "  - nothing provides python3.12dist(asyncssh) needed by python3-aioasuswrt-1.4.0-5.fc39.noarch\n",
      "    = blocked by python-asyncssh https://bugzilla.redhat.com/2220123\n"
     ]
    },
    {
     "data": {
      "text/markdown": [
       "# python-aioodbc\n",
       "[rbz#2220105](https://bugzilla.redhat.com/2220105)"
      ],
      "text/plain": [
       "<IPython.core.display.Markdown object>"
      ]
     },
     "metadata": {},
     "output_type": "display_data"
    },
    {
     "name": "stdout",
     "output_type": "stream",
     "text": [
      "  - nothing provides python3.12dist(pyodbc) needed by python3-aioodbc-0.3.3-14.fc39.noarch\n",
      "    = too many bugzillas for pyodbc\n",
      "        https://bugzilla.redhat.com/2155256\n",
      "        https://bugzilla.redhat.com/2220088\n"
     ]
    },
    {
     "data": {
      "text/markdown": [
       "# python-airthings\n",
       "[rbz#2220107](https://bugzilla.redhat.com/2220107)"
      ],
      "text/plain": [
       "<IPython.core.display.Markdown object>"
      ]
     },
     "metadata": {},
     "output_type": "display_data"
    },
    {
     "name": "stdout",
     "output_type": "stream",
     "text": [
      "  - nothing provides python3.12dist(bluepy) = 1.3 needed by python3-airthings-3.2.0-9.fc39.noarch\n",
      "    = too many bugzillas for python-bluepy\n",
      "        https://bugzilla.redhat.com/2155191\n",
      "        https://bugzilla.redhat.com/2220135\n"
     ]
    },
    {
     "data": {
      "text/markdown": [
       "# python-flake8-docstrings\n",
       "[rbz#2220227](https://bugzilla.redhat.com/2220227)"
      ],
      "text/plain": [
       "<IPython.core.display.Markdown object>"
      ]
     },
     "metadata": {},
     "output_type": "display_data"
    },
    {
     "name": "stdout",
     "output_type": "stream",
     "text": [
      "  - nothing provides python3.12dist(flake8) >= 3 needed by python3-flake8-docstrings-1.6.0-5.fc39.noarch\n",
      "    = blocked by python-flake8 https://bugzilla.redhat.com/2220224\n",
      "  - nothing provides python3.12dist(pydocstyle) >= 2.1 needed by python3-flake8-docstrings-1.6.0-5.fc39.noarch\n",
      "    = blocked by python-pydocstyle https://bugzilla.redhat.com/2220426\n"
     ]
    },
    {
     "data": {
      "text/markdown": [
       "# python-flask-bootstrap\n",
       "[rbz#2220232](https://bugzilla.redhat.com/2220232)"
      ],
      "text/plain": [
       "<IPython.core.display.Markdown object>"
      ]
     },
     "metadata": {},
     "output_type": "display_data"
    },
    {
     "name": "stdout",
     "output_type": "stream",
     "text": [
      "  - nothing provides python3.12dist(dominate) needed by python3-flask-bootstrap-3.3.7.1-21.fc39.noarch\n",
      "    = blocked by python-dominate https://bugzilla.redhat.com/2220198\n"
     ]
    },
    {
     "data": {
      "text/markdown": [
       "# python-gekitchen\n",
       "[rbz#2220248](https://bugzilla.redhat.com/2220248)"
      ],
      "text/plain": [
       "<IPython.core.display.Markdown object>"
      ]
     },
     "metadata": {},
     "output_type": "display_data"
    },
    {
     "name": "stdout",
     "output_type": "stream",
     "text": [
      "  - nothing provides python3.12dist(bidict) needed by python3-gekitchen-0.2.19-9.fc39.noarch\n",
      "    = too many bugzillas for python-bidict\n",
      "        https://bugzilla.redhat.com/2190400\n",
      "        https://bugzilla.redhat.com/2220129\n"
     ]
    },
    {
     "data": {
      "text/markdown": [
       "# python-hypothesis\n",
       "[rbz#2220274](https://bugzilla.redhat.com/2220274)"
      ],
      "text/plain": [
       "<IPython.core.display.Markdown object>"
      ]
     },
     "metadata": {},
     "output_type": "display_data"
    },
    {
     "name": "stdout",
     "output_type": "stream",
     "text": [
      "  - nothing provides python3.12dist(black) >= 19.10~b0 needed by python3-hypothesis+cli-6.62.1-4.fc39.noarch\n",
      "    = blocked by python-black https://bugzilla.redhat.com/2220131\n",
      "  - nothing provides python3.12dist(black) >= 19.10~b0 needed by python3-hypothesis+ghostwriter-6.62.1-4.fc39.noarch\n",
      "    = blocked by python-black https://bugzilla.redhat.com/2220131\n"
     ]
    },
    {
     "data": {
      "text/markdown": [
       "# python-ipyparallel\n",
       "[rbz#2220285](https://bugzilla.redhat.com/2220285)"
      ],
      "text/plain": [
       "<IPython.core.display.Markdown object>"
      ]
     },
     "metadata": {},
     "output_type": "display_data"
    },
    {
     "name": "stdout",
     "output_type": "stream",
     "text": [
      "  - nothing provides python3.12dist(ipython[test]) needed by python3-ipyparallel+test-8.6.1-3.fc39.noarch\n",
      "Check: []\n"
     ]
    },
    {
     "data": {
      "text/markdown": [
       "# python-moss\n",
       "[rbz#2220339](https://bugzilla.redhat.com/2220339)"
      ],
      "text/plain": [
       "<IPython.core.display.Markdown object>"
      ]
     },
     "metadata": {},
     "output_type": "display_data"
    },
    {
     "name": "stdout",
     "output_type": "stream",
     "text": [
      "  - nothing provides python3.12dist(nibabel) needed by python3-moss-0.5.0-19.fc39.noarch\n",
      "    = blocked by python-nibabel https://bugzilla.redhat.com/2220356\n"
     ]
    },
    {
     "data": {
      "text/markdown": [
       "# python-pecan\n",
       "[rbz#2220401](https://bugzilla.redhat.com/2220401)"
      ],
      "text/plain": [
       "<IPython.core.display.Markdown object>"
      ]
     },
     "metadata": {},
     "output_type": "display_data"
    },
    {
     "name": "stdout",
     "output_type": "stream",
     "text": [
      "  - nothing provides python3.12dist(logutils) >= 0.3 needed by python3-pecan-1.4.2-4.fc39.noarch\n",
      "    = too many bugzillas for python-logutils\n",
      "        https://bugzilla.redhat.com/2154998\n",
      "        https://bugzilla.redhat.com/2220313\n"
     ]
    },
    {
     "data": {
      "text/markdown": [
       "# python-pwntools\n",
       "[rbz#2220419](https://bugzilla.redhat.com/2220419)"
      ],
      "text/plain": [
       "<IPython.core.display.Markdown object>"
      ]
     },
     "metadata": {},
     "output_type": "display_data"
    },
    {
     "name": "stdout",
     "output_type": "stream",
     "text": [
      "  - nothing provides python3.12dist(unicorn) >= 1.0.2~rc1 needed by python3-pwntools-4.9.0-3.fc39.noarch\n",
      "    = blocked by unicorn https://bugzilla.redhat.com/2220614\n"
     ]
    },
    {
     "data": {
      "text/markdown": [
       "# python-pyls-spyder\n",
       "[rbz#2220432](https://bugzilla.redhat.com/2220432)"
      ],
      "text/plain": [
       "<IPython.core.display.Markdown object>"
      ]
     },
     "metadata": {},
     "output_type": "display_data"
    },
    {
     "name": "stdout",
     "output_type": "stream",
     "text": [
      "  - nothing provides python3.12dist(python-lsp-server) >= 1.0.1 needed by python3-pyls-spyder-0.4.0-7.fc39.noarch\n",
      "    = blocked by python-lsp-server https://bugzilla.redhat.com/2220316\n"
     ]
    },
    {
     "data": {
      "text/markdown": [
       "# python-pymc3\n",
       "[rbz#2220434](https://bugzilla.redhat.com/2220434)"
      ],
      "text/plain": [
       "<IPython.core.display.Markdown object>"
      ]
     },
     "metadata": {},
     "output_type": "display_data"
    },
    {
     "name": "stdout",
     "output_type": "stream",
     "text": [
      "  - nothing provides python3.12dist(arviz) >= 0.11 needed by python3-pymc3-3.11.4-6.fc39.noarch\n",
      "    = blocked by python-arviz https://bugzilla.redhat.com/2220115\n",
      "  - nothing provides python3.12dist(semver) >= 2.13 needed by python3-pymc3-3.11.4-6.fc39.noarch\n",
      "Check: []\n",
      "  - nothing provides python3.12dist(theano-pymc) = 1.1.2 needed by python3-pymc3-3.11.4-6.fc39.noarch\n"
     ]
    },
    {
     "data": {
      "text/markdown": [
       "# python-pypet\n",
       "[rbz#2220442](https://bugzilla.redhat.com/2220442)"
      ],
      "text/plain": [
       "<IPython.core.display.Markdown object>"
      ]
     },
     "metadata": {},
     "output_type": "display_data"
    },
    {
     "name": "stdout",
     "output_type": "stream",
     "text": [
      "  - nothing provides python3.12dist(tables) needed by python3-pypet-0.5.2-6.fc39.noarch\n",
      "    = blocked by python-tables https://bugzilla.redhat.com/2220528\n"
     ]
    },
    {
     "data": {
      "text/markdown": [
       "# python-qtsass\n",
       "[rbz#2220476](https://bugzilla.redhat.com/2220476)"
      ],
      "text/plain": [
       "<IPython.core.display.Markdown object>"
      ]
     },
     "metadata": {},
     "output_type": "display_data"
    },
    {
     "name": "stdout",
     "output_type": "stream",
     "text": [
      "  - nothing provides python3.12dist(libsass) needed by python3-qtsass-0.3.0-7.fc39.noarch\n",
      "    = blocked by python-libsass https://bugzilla.redhat.com/2220310\n"
     ]
    },
    {
     "data": {
      "text/markdown": [
       "# python-rsdclient\n",
       "[rbz#2220485](https://bugzilla.redhat.com/2220485)"
      ],
      "text/plain": [
       "<IPython.core.display.Markdown object>"
      ]
     },
     "metadata": {},
     "output_type": "display_data"
    },
    {
     "name": "stdout",
     "output_type": "stream",
     "text": [
      "  - nothing provides python3.12dist(osc-lib) >= 1.7 needed by python3-rsdclient-1.0.2-10.fc39.noarch\n",
      "    = blocked by python-osc-lib https://bugzilla.redhat.com/2220385\n"
     ]
    },
    {
     "data": {
      "text/markdown": [
       "# python-scrapy\n",
       "[rbz#2220494](https://bugzilla.redhat.com/2220494)"
      ],
      "text/plain": [
       "<IPython.core.display.Markdown object>"
      ]
     },
     "metadata": {},
     "output_type": "display_data"
    },
    {
     "name": "stdout",
     "output_type": "stream",
     "text": [
      "  - nothing provides python3.12dist(protego) >= 0.1.15 needed by python3-scrapy-2.8.0-2.fc39.noarch\n",
      "    = too many bugzillas for python-protego\n",
      "        https://bugzilla.redhat.com/2175156\n",
      "        https://bugzilla.redhat.com/2220416\n"
     ]
    },
    {
     "data": {
      "text/markdown": [
       "# python-sphinxcontrib-actdiag\n",
       "[rbz#2220514](https://bugzilla.redhat.com/2220514)"
      ],
      "text/plain": [
       "<IPython.core.display.Markdown object>"
      ]
     },
     "metadata": {},
     "output_type": "display_data"
    },
    {
     "name": "stdout",
     "output_type": "stream",
     "text": [
      "  - nothing provides python3.12dist(blockdiag) >= 1.5 needed by python3-sphinxcontrib-actdiag-2.0.0-9.fc39.noarch\n",
      "    = blocked by python-blockdiag https://bugzilla.redhat.com/2220132\n",
      "  - nothing provides python3.12dist(actdiag) >= 0.5.3 needed by python3-sphinxcontrib-actdiag-2.0.0-9.fc39.noarch\n",
      "    = blocked by python-actdiag https://bugzilla.redhat.com/2220101\n"
     ]
    },
    {
     "data": {
      "text/markdown": [
       "# python-sphinxcontrib-blockdiag\n",
       "[rbz#2220515](https://bugzilla.redhat.com/2220515)"
      ],
      "text/plain": [
       "<IPython.core.display.Markdown object>"
      ]
     },
     "metadata": {},
     "output_type": "display_data"
    },
    {
     "name": "stdout",
     "output_type": "stream",
     "text": [
      "  - nothing provides python3.12dist(blockdiag) >= 1.5 needed by python3-sphinxcontrib-blockdiag-2.0.0-11.fc39.noarch\n",
      "    = blocked by python-blockdiag https://bugzilla.redhat.com/2220132\n"
     ]
    },
    {
     "data": {
      "text/markdown": [
       "# python-sphinxcontrib-seqdiag\n",
       "[rbz#2220517](https://bugzilla.redhat.com/2220517)"
      ],
      "text/plain": [
       "<IPython.core.display.Markdown object>"
      ]
     },
     "metadata": {},
     "output_type": "display_data"
    },
    {
     "name": "stdout",
     "output_type": "stream",
     "text": [
      "  - nothing provides python3.12dist(blockdiag) >= 1.5 needed by python3-sphinxcontrib-seqdiag-2.0.0-9.fc39.noarch\n",
      "    = blocked by python-blockdiag https://bugzilla.redhat.com/2220132\n",
      "  - nothing provides python3.12dist(seqdiag) >= 0.9.3 needed by python3-sphinxcontrib-seqdiag-2.0.0-9.fc39.noarch\n",
      "    = blocked by python-seqdiag https://bugzilla.redhat.com/2220497\n"
     ]
    },
    {
     "data": {
      "text/markdown": [
       "# python-sqlalchemy\n",
       "[rbz#2220522](https://bugzilla.redhat.com/2220522)"
      ],
      "text/plain": [
       "<IPython.core.display.Markdown object>"
      ]
     },
     "metadata": {},
     "output_type": "display_data"
    },
    {
     "name": "stdout",
     "output_type": "stream",
     "text": [
      "  - nothing provides python3.12dist(pyodbc) needed by python3-sqlalchemy+mssql_pyodbc-1.4.49~~20230703cd56e87-1.fc39.x86_64\n",
      "    = too many bugzillas for pyodbc\n",
      "        https://bugzilla.redhat.com/2155256\n",
      "        https://bugzilla.redhat.com/2220088\n",
      "  - nothing provides python3.12dist(asyncpg) needed by python3-sqlalchemy+postgresql_asyncpg-1.4.49~~20230703cd56e87-1.fc39.x86_64\n",
      "Check: []\n"
     ]
    },
    {
     "data": {
      "text/markdown": [
       "# python-three_merge\n",
       "[rbz#2220536](https://bugzilla.redhat.com/2220536)"
      ],
      "text/plain": [
       "<IPython.core.display.Markdown object>"
      ]
     },
     "metadata": {},
     "output_type": "display_data"
    },
    {
     "name": "stdout",
     "output_type": "stream",
     "text": [
      "  - nothing provides python3.12dist(diff-match-patch) needed by python3-three_merge-0.1.1-10.fc39.noarch\n",
      "    = blocked by python-diff-match-patch https://bugzilla.redhat.com/2220190\n"
     ]
    },
    {
     "data": {
      "text/markdown": [
       "# python-visvis\n",
       "[rbz#2220557](https://bugzilla.redhat.com/2220557)"
      ],
      "text/plain": [
       "<IPython.core.display.Markdown object>"
      ]
     },
     "metadata": {},
     "output_type": "display_data"
    },
    {
     "name": "stdout",
     "output_type": "stream",
     "text": [
      "  - nothing provides python3.12dist(pyopengl) needed by python3-visvis-1.14.0-3.fc39.noarch\n",
      "    = blocked by python-pyopengl https://bugzilla.redhat.com/2220441\n"
     ]
    },
    {
     "data": {
      "text/markdown": [
       "# python-webthing\n",
       "[rbz#2220562](https://bugzilla.redhat.com/2220562)"
      ],
      "text/plain": [
       "<IPython.core.display.Markdown object>"
      ]
     },
     "metadata": {},
     "output_type": "display_data"
    },
    {
     "name": "stdout",
     "output_type": "stream",
     "text": [
      "  - nothing provides python3.12dist(pyee) >= 8.1 needed by python3-webthing-0.15.0-9.fc39.noarch\n",
      "    = blocked by pyee https://bugzilla.redhat.com/2220080\n"
     ]
    },
    {
     "data": {
      "text/markdown": [
       "# python-zaqarclient\n",
       "[rbz#2220575](https://bugzilla.redhat.com/2220575)"
      ],
      "text/plain": [
       "<IPython.core.display.Markdown object>"
      ]
     },
     "metadata": {},
     "output_type": "display_data"
    },
    {
     "name": "stdout",
     "output_type": "stream",
     "text": [
      "  - nothing provides python3.12dist(osc-lib) >= 1.8 needed by python3-zaqarclient-2.5.1-2.fc39.noarch\n",
      "    = blocked by python-osc-lib https://bugzilla.redhat.com/2220385\n",
      "  - nothing provides python3.12dist(oslo-log) >= 3.36 needed by python3-zaqarclient-2.5.1-2.fc39.noarch\n",
      "    = blocked by python-oslo-log https://bugzilla.redhat.com/2220387\n"
     ]
    },
    {
     "data": {
      "text/markdown": [
       "# python3-iep\n",
       "[rbz#2220579](https://bugzilla.redhat.com/2220579)"
      ],
      "text/plain": [
       "<IPython.core.display.Markdown object>"
      ]
     },
     "metadata": {},
     "output_type": "display_data"
    },
    {
     "name": "stdout",
     "output_type": "stream",
     "text": [
      "  - nothing provides python3.12dist(pyzolib) needed by python3-iep-3.7-26.fc39.noarch\n",
      "    = too many bugzillas for python-pyzolib\n",
      "        https://bugzilla.redhat.com/2154987\n",
      "        https://bugzilla.redhat.com/2220469\n"
     ]
    },
    {
     "data": {
      "text/markdown": [
       "# resalloc-openstack\n",
       "[rbz#2220589](https://bugzilla.redhat.com/2220589)"
      ],
      "text/plain": [
       "<IPython.core.display.Markdown object>"
      ]
     },
     "metadata": {},
     "output_type": "display_data"
    },
    {
     "name": "stdout",
     "output_type": "stream",
     "text": [
      "  - nothing provides python3.12dist(python-neutronclient) needed by resalloc-openstack-9.6-2.fc39.noarch\n",
      "    = blocked by python-neutronclient https://bugzilla.redhat.com/2220355\n"
     ]
    },
    {
     "data": {
      "text/markdown": [
       "# spyder\n",
       "[rbz#2220598](https://bugzilla.redhat.com/2220598)"
      ],
      "text/plain": [
       "<IPython.core.display.Markdown object>"
      ]
     },
     "metadata": {},
     "output_type": "display_data"
    },
    {
     "name": "stdout",
     "output_type": "stream",
     "text": [
      "  - nothing provides (python3.12dist(python-lsp-server) < 1.5~~ with python3.12dist(python-lsp-server) >= 1.4.1) needed by python3-spyder-5.3.1-7.fc39.noarch\n",
      "    = blocked by python-lsp-server https://bugzilla.redhat.com/2220316\n",
      "  - nothing provides (python3.12dist(qdarkstyle) < 3.1~~ with python3.12dist(qdarkstyle) >= 3.0.2) needed by python3-spyder-5.3.1-7.fc39.noarch\n",
      "    = blocked by python-qdarkstyle https://bugzilla.redhat.com/2220472\n",
      "  - nothing provides (python3.12dist(spyder-kernels) < 2.4~~ with python3.12dist(spyder-kernels) >= 2.3.1) needed by python3-spyder-5.3.1-7.fc39.noarch\n",
      "    = blocked by python-spyder-kernels https://bugzilla.redhat.com/2220520\n",
      "  - nothing provides python3.12dist(diff-match-patch) >= 20181111 needed by python3-spyder-5.3.1-7.fc39.noarch\n",
      "    = blocked by python-diff-match-patch https://bugzilla.redhat.com/2220190\n",
      "  - nothing provides python3.12dist(python-lsp-black) >= 1.2 needed by python3-spyder-5.3.1-7.fc39.noarch\n",
      "    = blocked by python-lsp-black https://bugzilla.redhat.com/2220314\n",
      "  - nothing provides python3.12dist(qstylizer) >= 0.1.10 needed by python3-spyder-5.3.1-7.fc39.noarch\n",
      "    = too many bugzillas for python-qstylizer\n",
      "        https://bugzilla.redhat.com/2210706\n",
      "        https://bugzilla.redhat.com/2220475\n",
      "  - nothing provides python3.12dist(textdistance) >= 4.2 needed by python3-spyder-5.3.1-7.fc39.noarch\n",
      "    = too many bugzillas for python-textdistance\n",
      "        https://bugzilla.redhat.com/2171687\n",
      "        https://bugzilla.redhat.com/2220534\n"
     ]
    }
   ],
   "source": [
    "for bug in pure_fti_bugz:\n",
    "    display(Markdown(f'# {bug.component}\\n[rbz#{bug.id}](https://bugzilla.redhat.com/{bug.id})'))\n",
    "    comments = bug.getcomments()\n",
    "    initial_comment = comments[0]\n",
    "    if initial_comment['creator'] != 'fti-bugs@fedoraproject.org':\n",
    "        print('Not an automated FTI bug by Miro')\n",
    "        continue\n",
    "\n",
    "    blocked_by = set()\n",
    "    lines = initial_comment['text'].splitlines()\n",
    "    for line in lines:\n",
    "        if line.startswith('  - nothing provides '):\n",
    "            print(line)\n",
    "            provide = line.split(' ')[5]\n",
    "            if provide.startswith('('):\n",
    "                provide = provide[1:]\n",
    "            if provide.startswith('python3.12dist('):\n",
    "                old_provide = provide.replace('python3.12dist(', 'python3.11dist(')\n",
    "                blocker_components = !repoquery -q --repo=rawhide --source --whatprovides \"{old_provide}\" | pkgname\n",
    "                if len(set(blocker_components)) == 1:\n",
    "                    blocker_component = blocker_components[0]\n",
    "                    blocker_bugz = [b for b in bugz if b.component == blocker_component]\n",
    "                    if len(blocker_bugz) > 1:\n",
    "                        print(f\"    = too many bugzillas for {blocker_component}\")\n",
    "                        for bug in blocker_bugz:\n",
    "                            print(f\"        https://bugzilla.redhat.com/{bug.id}\")\n",
    "                    elif blocker_bugz:\n",
    "                        bid = blocker_bugz[0].id\n",
    "                        print(f\"    = blocked by {blocker_component} https://bugzilla.redhat.com/{bid}\")\n",
    "                        blocked_by.add(bid)\n",
    "                else:\n",
    "                    print('Check:', blocker_components)\n",
    "    if blocked_by:\n",
    "        add_blockers = bzapi.build_update(depends_on_add=sorted(blocked_by))\n",
    "        bzapi.update_bugs([bug.id], add_blockers)"
   ]
  },
  {
   "cell_type": "code",
   "execution_count": null,
   "metadata": {},
   "outputs": [],
   "source": []
  }
 ],
 "metadata": {
  "kernelspec": {
   "display_name": "Python 3 (ipykernel)",
   "language": "python",
   "name": "python3"
  },
  "language_info": {
   "codemirror_mode": {
    "name": "ipython",
    "version": 3
   },
   "file_extension": ".py",
   "mimetype": "text/x-python",
   "name": "python",
   "nbconvert_exporter": "python",
   "pygments_lexer": "ipython3",
   "version": "3.11.3"
  }
 },
 "nbformat": 4,
 "nbformat_minor": 4
}
