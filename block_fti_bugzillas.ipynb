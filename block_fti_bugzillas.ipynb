{
 "cells": [
  {
   "cell_type": "markdown",
   "metadata": {},
   "source": [
    "This helper makes sure that the packages that rebuilt successfully with Python 3.10 but fail to install due to their dependencies not yet rebuilt have bugzillas blocked by the appropriate bugzillas of said dependencies.\n",
    "\n",
    " 1. For every package that has been successfully rebuilt, we see if it has a bugzilla that blocks `PYTHON3.10` and `F35FailsToInstall`.\n",
    " 2. If so, we parse the initial comment for missing `python3.10dist()` dependencies.\n",
    " 3. We convert the dependencies to `python3.9dist()` dependencies and find their component.\n",
    " 4. If the component has a `PYTHON3.10` bugzilla, we mark it as blocking the bugzilla from (1)."
   ]
  },
  {
   "cell_type": "code",
   "execution_count": 1,
   "metadata": {},
   "outputs": [],
   "source": [
    "from IPython.display import display, Markdown"
   ]
  },
  {
   "cell_type": "code",
   "execution_count": 2,
   "metadata": {},
   "outputs": [],
   "source": [
    "import bugzilla\n",
    "bzapi = bugzilla.Bugzilla('bugzilla.redhat.com')\n",
    "query = bzapi.build_query(product='Fedora')\n",
    "query['blocks'] = 1890881  # PYTHON3.10\n",
    "bugz = bzapi.query(query)"
   ]
  },
  {
   "cell_type": "code",
   "execution_count": 3,
   "metadata": {},
   "outputs": [],
   "source": [
    "F35FailsToInstall = 1927313"
   ]
  },
  {
   "cell_type": "code",
   "execution_count": 4,
   "metadata": {},
   "outputs": [],
   "source": [
    "python310 = !cat python310.pkgs"
   ]
  },
  {
   "cell_type": "code",
   "execution_count": 5,
   "metadata": {},
   "outputs": [],
   "source": [
    "bugz = [b for b in bugz if b.status != 'CLOSED']"
   ]
  },
  {
   "cell_type": "code",
   "execution_count": 6,
   "metadata": {},
   "outputs": [
    {
     "data": {
      "text/plain": [
       "34"
      ]
     },
     "execution_count": 6,
     "metadata": {},
     "output_type": "execute_result"
    }
   ],
   "source": [
    "len(pure_fti_bugz := [b for b in bugz if b.component in python310 and F35FailsToInstall in b.blocks])"
   ]
  },
  {
   "cell_type": "code",
   "execution_count": 8,
   "metadata": {},
   "outputs": [
    {
     "data": {
      "text/markdown": [
       "# androwarn\n",
       "[rbz#1968774](https://bugzilla.redhat.com/1968774)"
      ],
      "text/plain": [
       "<IPython.core.display.Markdown object>"
      ]
     },
     "metadata": {},
     "output_type": "display_data"
    },
    {
     "name": "stdout",
     "output_type": "stream",
     "text": [
      "  - nothing provides python3.10dist(androguard) >= 3.2.1 needed by androwarn-1.6.1-7.fc35.noarch\n",
      "    = blocked by androguard https://bugzilla.redhat.com/1968773\n"
     ]
    },
    {
     "data": {
      "text/markdown": [
       "# ansible-lint\n",
       "[rbz#1968775](https://bugzilla.redhat.com/1968775)"
      ],
      "text/plain": [
       "<IPython.core.display.Markdown object>"
      ]
     },
     "metadata": {},
     "output_type": "display_data"
    },
    {
     "name": "stdout",
     "output_type": "stream",
     "text": [
      "  - nothing provides python3.10dist(tenacity) needed by python3-ansible-lint-1:5.0.11-2.fc35.noarch\n",
      "  - nothing provides python3.10dist(wcmatch) >= 7 needed by python3-ansible-lint-1:5.0.11-2.fc35.noarch\n",
      "    = blocked by python-wcmatch https://bugzilla.redhat.com/1958908\n"
     ]
    },
    {
     "data": {
      "text/markdown": [
       "# cobbler\n",
       "[rbz#1968786](https://bugzilla.redhat.com/1968786)"
      ],
      "text/plain": [
       "<IPython.core.display.Markdown object>"
      ]
     },
     "metadata": {},
     "output_type": "display_data"
    },
    {
     "name": "stdout",
     "output_type": "stream",
     "text": [
      "  - nothing provides python3.10dist(mod-wsgi) needed by cobbler-3.2.0-5.fc35.noarch\n",
      "    = blocked by mod_wsgi https://bugzilla.redhat.com/1898158\n"
     ]
    },
    {
     "data": {
      "text/markdown": [
       "# flatcam\n",
       "[rbz#1968802](https://bugzilla.redhat.com/1968802)"
      ],
      "text/plain": [
       "<IPython.core.display.Markdown object>"
      ]
     },
     "metadata": {},
     "output_type": "display_data"
    },
    {
     "name": "stdout",
     "output_type": "stream",
     "text": [
      "  - nothing provides python3.10dist(svg-path) needed by flatcam-8.5-23.20180606git46454c293a9b.fc35.noarch\n",
      "    = blocked by python-svg-path https://bugzilla.redhat.com/1926233\n"
     ]
    },
    {
     "data": {
      "text/markdown": [
       "# gdeploy\n",
       "[rbz#1968806](https://bugzilla.redhat.com/1968806)"
      ],
      "text/plain": [
       "<IPython.core.display.Markdown object>"
      ]
     },
     "metadata": {},
     "output_type": "display_data"
    },
    {
     "name": "stdout",
     "output_type": "stream",
     "text": [
      "  - nothing provides python3.10dist(eventlet) needed by gdeploy-3.0.0-10.20200525git05d894b.fc35.noarch\n",
      "    = blocked by python-eventlet https://bugzilla.redhat.com/1913291\n"
     ]
    },
    {
     "data": {
      "text/markdown": [
       "# metrics2mqtt\n",
       "[rbz#1968838](https://bugzilla.redhat.com/1968838)"
      ],
      "text/plain": [
       "<IPython.core.display.Markdown object>"
      ]
     },
     "metadata": {},
     "output_type": "display_data"
    },
    {
     "name": "stdout",
     "output_type": "stream",
     "text": [
      "  - nothing provides python3.10dist(jsons) needed by python3-metrics2mqtt-0.1.18-3.fc35.noarch\n",
      "    = blocked by python-jsons https://bugzilla.redhat.com/1907450\n"
     ]
    },
    {
     "data": {
      "text/markdown": [
       "# netbox\n",
       "[rbz#1968847](https://bugzilla.redhat.com/1968847)"
      ],
      "text/plain": [
       "<IPython.core.display.Markdown object>"
      ]
     },
     "metadata": {},
     "output_type": "display_data"
    },
    {
     "name": "stdout",
     "output_type": "stream",
     "text": [
      "  - nothing provides python3.10dist(gunicorn) needed by netbox-2.11.0-3.fc35.noarch\n",
      "    = blocked by python-gunicorn https://bugzilla.redhat.com/1968996\n"
     ]
    },
    {
     "data": {
      "text/markdown": [
       "# osc\n",
       "[rbz#1968854](https://bugzilla.redhat.com/1968854)"
      ],
      "text/plain": [
       "<IPython.core.display.Markdown object>"
      ]
     },
     "metadata": {},
     "output_type": "display_data"
    },
    {
     "name": "stdout",
     "output_type": "stream",
     "text": [
      "  - nothing provides python3.10dist(m2crypto) needed by osc-0.169.1-303.1.4.fc35.noarch\n",
      "    = blocked by m2crypto https://bugzilla.redhat.com/1897148\n"
     ]
    },
    {
     "data": {
      "text/markdown": [
       "# prelude-correlator\n",
       "[rbz#1968860](https://bugzilla.redhat.com/1968860)"
      ],
      "text/plain": [
       "<IPython.core.display.Markdown object>"
      ]
     },
     "metadata": {},
     "output_type": "display_data"
    },
    {
     "name": "stdout",
     "output_type": "stream",
     "text": [
      "  - nothing provides python3.10dist(prelude) >= 5.2 needed by python3-prelude-correlator-5.2.0-4.fc35.x86_64\n",
      "    = blocked by libprelude https://bugzilla.redhat.com/1967196\n"
     ]
    },
    {
     "data": {
      "text/markdown": [
       "# python-OWSLib\n",
       "[rbz#1968875](https://bugzilla.redhat.com/1968875)"
      ],
      "text/plain": [
       "<IPython.core.display.Markdown object>"
      ]
     },
     "metadata": {},
     "output_type": "display_data"
    },
    {
     "name": "stdout",
     "output_type": "stream",
     "text": [
      "  - nothing provides python3.10dist(pyproj) >= 2 needed by python3-OWSLib-0.21.0-3.fc35.noarch\n",
      "    = blocked by pyproj https://bugzilla.redhat.com/1968870\n"
     ]
    },
    {
     "data": {
      "text/markdown": [
       "# python-Pyped\n",
       "[rbz#1968876](https://bugzilla.redhat.com/1968876)"
      ],
      "text/plain": [
       "<IPython.core.display.Markdown object>"
      ]
     },
     "metadata": {},
     "output_type": "display_data"
    },
    {
     "name": "stdout",
     "output_type": "stream",
     "text": [
      "  - nothing provides python3.10dist(minibelt) needed by python3-Pyped-1.4-21.fc35.noarch\n",
      "    = blocked by python-minibelt https://bugzilla.redhat.com/1926215\n"
     ]
    },
    {
     "data": {
      "text/markdown": [
       "# python-aioguardian\n",
       "[rbz#1968886](https://bugzilla.redhat.com/1968886)"
      ],
      "text/plain": [
       "<IPython.core.display.Markdown object>"
      ]
     },
     "metadata": {},
     "output_type": "display_data"
    },
    {
     "name": "stdout",
     "output_type": "stream",
     "text": [
      "  - nothing provides (python3.10dist(asyncio-dgram) < 2 with python3.10dist(asyncio-dgram) >= 1.0.1) needed by python3-aioguardian-1.0.4-3.fc35.noarch\n",
      "    = blocked by python-asyncio-dgram https://bugzilla.redhat.com/1953537\n"
     ]
    },
    {
     "data": {
      "text/markdown": [
       "# python-arviz\n",
       "[rbz#1968894](https://bugzilla.redhat.com/1968894)"
      ],
      "text/plain": [
       "<IPython.core.display.Markdown object>"
      ]
     },
     "metadata": {},
     "output_type": "display_data"
    },
    {
     "name": "stdout",
     "output_type": "stream",
     "text": [
      "  - nothing provides python3.10dist(xarray) >= 0.16.1 needed by python3-arviz-0.11.2-2.fc35.noarch\n",
      "    = blocked by python-xarray https://bugzilla.redhat.com/1969172\n"
     ]
    },
    {
     "data": {
      "text/markdown": [
       "# python-astroplan\n",
       "[rbz#1968897](https://bugzilla.redhat.com/1968897)"
      ],
      "text/plain": [
       "<IPython.core.display.Markdown object>"
      ]
     },
     "metadata": {},
     "output_type": "display_data"
    },
    {
     "name": "stdout",
     "output_type": "stream",
     "text": [
      "  - nothing provides python3.10dist(astropy) >= 4 needed by python3-astroplan-0.8-2.fc35.noarch\n",
      "    = blocked by python-astropy https://bugzilla.redhat.com/1936839\n"
     ]
    },
    {
     "data": {
      "text/markdown": [
       "# python-can\n",
       "[rbz#1968913](https://bugzilla.redhat.com/1968913)"
      ],
      "text/plain": [
       "<IPython.core.display.Markdown object>"
      ]
     },
     "metadata": {},
     "output_type": "display_data"
    },
    {
     "name": "stdout",
     "output_type": "stream",
     "text": [
      "  - nothing provides python3.10dist(aenum) needed by python3-can-3.3.4-3.fc35.noarch\n",
      "    = blocked by python-aenum https://bugzilla.redhat.com/1899122\n"
     ]
    },
    {
     "data": {
      "text/markdown": [
       "# python-fsleyes\n",
       "[rbz#1968981](https://bugzilla.redhat.com/1968981)"
      ],
      "text/plain": [
       "<IPython.core.display.Markdown object>"
      ]
     },
     "metadata": {},
     "output_type": "display_data"
    },
    {
     "name": "stdout",
     "output_type": "stream",
     "text": [
      "  - nothing provides python3.10dist(fsleyes-props) >= 1.6.7 needed by python3-fsleyes-0.34.2-3.fc35.noarch\n",
      "    = blocked by python-fsleyes-props https://bugzilla.redhat.com/1968982\n",
      "  - nothing provides python3.10dist(fslpy) >= 3.1 needed by python3-fsleyes-0.34.2-3.fc35.noarch\n",
      "    = blocked by python-fslpy https://bugzilla.redhat.com/1968983\n",
      "  - nothing provides python3.10dist(nibabel) >= 2.3 needed by python3-fsleyes-0.34.2-3.fc35.noarch\n",
      "  - nothing provides python3.10dist(trimesh) >= 2.37.29 needed by python3-fsleyes-0.34.2-3.fc35.noarch\n",
      "    = blocked by python-trimesh https://bugzilla.redhat.com/1905407\n"
     ]
    },
    {
     "data": {
      "text/markdown": [
       "# python-fslpy\n",
       "[rbz#1968983](https://bugzilla.redhat.com/1968983)"
      ],
      "text/plain": [
       "<IPython.core.display.Markdown object>"
      ]
     },
     "metadata": {},
     "output_type": "display_data"
    },
    {
     "name": "stdout",
     "output_type": "stream",
     "text": [
      "  - nothing provides (python3.9dist(six) < 2 with python3.9dist(six) >= 1) needed by python3-fslpy-3.5.3-1.fc35.noarch\n",
      "  - nothing provides (python3.9dist(numpy) < 2 with python3.9dist(numpy) >= 1) needed by python3-fslpy-3.5.3-1.fc35.noarch\n",
      "  - nothing provides (python3.9dist(wxpython) < 5 with python3.9dist(wxpython) >= 4) needed by python3-fslpy-3.5.3-1.fc35.noarch\n",
      "  - nothing provides python3.9dist(indexed-gzip) >= 0.7 needed by python3-fslpy-3.5.3-1.fc35.noarch\n",
      "  - nothing provides python3.9dist(pillow) >= 3.2 needed by python3-fslpy-3.5.3-1.fc35.noarch\n",
      "  - nothing provides python3.9dist(rtree) >= 0.8.3 needed by python3-fslpy-3.5.3-1.fc35.noarch\n",
      "  - nothing provides python3.9dist(scipy) >= 0.18 needed by python3-fslpy-3.5.3-1.fc35.noarch\n",
      "  - nothing provides python3.9dist(setuptools) needed by python3-fslpy-3.5.3-1.fc35.noarch\n",
      "  - nothing provides python(abi) = 3.9 needed by python3-fslpy-3.5.3-1.fc35.noarch\n"
     ]
    },
    {
     "data": {
      "text/markdown": [
       "# python-gekitchen\n",
       "[rbz#1968989](https://bugzilla.redhat.com/1968989)"
      ],
      "text/plain": [
       "<IPython.core.display.Markdown object>"
      ]
     },
     "metadata": {},
     "output_type": "display_data"
    },
    {
     "name": "stdout",
     "output_type": "stream",
     "text": [
      "  - nothing provides python3.10dist(bidict) needed by python3-gekitchen-0.2.19-3.fc35.noarch\n",
      "    = blocked by python-bidict https://bugzilla.redhat.com/1968910\n"
     ]
    },
    {
     "data": {
      "text/markdown": [
       "# python-jaydebeapi\n",
       "[rbz#1969006](https://bugzilla.redhat.com/1969006)"
      ],
      "text/plain": [
       "<IPython.core.display.Markdown object>"
      ]
     },
     "metadata": {},
     "output_type": "display_data"
    },
    {
     "name": "stdout",
     "output_type": "stream",
     "text": [
      "  - nothing provides python3.10dist(jpype1) needed by python3-jaydebeapi-1.2.3-4.fc35.noarch\n",
      "    = blocked by jpype https://bugzilla.redhat.com/1899449\n"
     ]
    },
    {
     "data": {
      "text/markdown": [
       "# python-op1repacker\n",
       "[rbz#1969065](https://bugzilla.redhat.com/1969065)"
      ],
      "text/plain": [
       "<IPython.core.display.Markdown object>"
      ]
     },
     "metadata": {},
     "output_type": "display_data"
    },
    {
     "name": "stdout",
     "output_type": "stream",
     "text": [
      "  - nothing provides python3.10dist(svg-path) needed by op1repacker-0.2.6-2.fc35.noarch\n",
      "    = blocked by python-svg-path https://bugzilla.redhat.com/1926233\n"
     ]
    },
    {
     "data": {
      "text/markdown": [
       "# python-op1svg\n",
       "[rbz#1969066](https://bugzilla.redhat.com/1969066)"
      ],
      "text/plain": [
       "<IPython.core.display.Markdown object>"
      ]
     },
     "metadata": {},
     "output_type": "display_data"
    },
    {
     "name": "stdout",
     "output_type": "stream",
     "text": [
      "  - nothing provides python3.10dist(svg-path) needed by op1svg-0.1.0-3.20210430git50a3b01.fc35.noarch\n",
      "    = blocked by python-svg-path https://bugzilla.redhat.com/1926233\n"
     ]
    },
    {
     "data": {
      "text/markdown": [
       "# python-pyls-spyder\n",
       "[rbz#1969089](https://bugzilla.redhat.com/1969089)"
      ],
      "text/plain": [
       "<IPython.core.display.Markdown object>"
      ]
     },
     "metadata": {},
     "output_type": "display_data"
    },
    {
     "name": "stdout",
     "output_type": "stream",
     "text": [
      "  - nothing provides python3.10dist(python-language-server) >= 0.36.2 needed by python3-pyls-spyder-0.3.2-2.fc35.noarch\n",
      "    = blocked by python-language-server https://bugzilla.redhat.com/1927132\n"
     ]
    },
    {
     "data": {
      "text/markdown": [
       "# python-pyls_black\n",
       "[rbz#1969090](https://bugzilla.redhat.com/1969090)"
      ],
      "text/plain": [
       "<IPython.core.display.Markdown object>"
      ]
     },
     "metadata": {},
     "output_type": "display_data"
    },
    {
     "name": "stdout",
     "output_type": "stream",
     "text": [
      "  - nothing provides python3.10dist(black) >= 19.3~b0 needed by python3-pyls_black-0.4.6-3.fc35.noarch\n",
      "  - nothing provides python3.10dist(python-language-server) needed by python3-pyls_black-0.4.6-3.fc35.noarch\n",
      "    = blocked by python-language-server https://bugzilla.redhat.com/1927132\n"
     ]
    },
    {
     "data": {
      "text/markdown": [
       "# python-pypcapkit\n",
       "[rbz#1969097](https://bugzilla.redhat.com/1969097)"
      ],
      "text/plain": [
       "<IPython.core.display.Markdown object>"
      ]
     },
     "metadata": {},
     "output_type": "display_data"
    },
    {
     "name": "stdout",
     "output_type": "stream",
     "text": [
      "  - nothing provides python3.10dist(aenum) needed by python3-pypcapkit-0.15.3-3.fc35.noarch\n",
      "    = blocked by python-aenum https://bugzilla.redhat.com/1899122\n"
     ]
    },
    {
     "data": {
      "text/markdown": [
       "# python-pywizlight\n",
       "[rbz#1969115](https://bugzilla.redhat.com/1969115)"
      ],
      "text/plain": [
       "<IPython.core.display.Markdown object>"
      ]
     },
     "metadata": {},
     "output_type": "display_data"
    },
    {
     "name": "stdout",
     "output_type": "stream",
     "text": [
      "  - nothing provides python3.10dist(asyncio-dgram) needed by python3-pywizlight-0.4.5-2.fc35.noarch\n",
      "    = blocked by python-asyncio-dgram https://bugzilla.redhat.com/1953537\n"
     ]
    },
    {
     "data": {
      "text/markdown": [
       "# python-rsdclient\n",
       "[rbz#1969122](https://bugzilla.redhat.com/1969122)"
      ],
      "text/plain": [
       "<IPython.core.display.Markdown object>"
      ]
     },
     "metadata": {},
     "output_type": "display_data"
    },
    {
     "name": "stdout",
     "output_type": "stream",
     "text": [
      "  - nothing provides python3.10dist(osc-lib) >= 1.7 needed by python3-rsdclient-1.0.2-4.fc35.noarch\n",
      "    = blocked by python-osc-lib https://bugzilla.redhat.com/1914840\n",
      "  - nothing provides python3.10dist(rsd-lib) >= 1.2 needed by python3-rsdclient-1.0.2-4.fc35.noarch\n",
      "    = blocked by python-rsd-lib https://bugzilla.redhat.com/1969121\n"
     ]
    },
    {
     "data": {
      "text/markdown": [
       "# python-scikit-learn\n",
       "[rbz#1969127](https://bugzilla.redhat.com/1969127)"
      ],
      "text/plain": [
       "<IPython.core.display.Markdown object>"
      ]
     },
     "metadata": {},
     "output_type": "display_data"
    },
    {
     "name": "stdout",
     "output_type": "stream",
     "text": [
      "  - nothing provides python3.10dist(joblib) >= 0.11 needed by python3-scikit-learn-0.24.1-4.fc35.x86_64\n",
      "    = blocked by python-joblib https://bugzilla.redhat.com/1927646\n"
     ]
    },
    {
     "data": {
      "text/markdown": [
       "# python-trezor\n",
       "[rbz#1969161](https://bugzilla.redhat.com/1969161)"
      ],
      "text/plain": [
       "<IPython.core.display.Markdown object>"
      ]
     },
     "metadata": {},
     "output_type": "display_data"
    },
    {
     "name": "stdout",
     "output_type": "stream",
     "text": [
      "  - nothing provides python3.10dist(mnemonic) >= 0.17 needed by python3-trezor-0.12.2-4.fc35.noarch\n",
      "    = blocked by python-mnemonic https://bugzilla.redhat.com/1969033\n"
     ]
    },
    {
     "data": {
      "text/markdown": [
       "# python-xml2rfc\n",
       "[rbz#1969174](https://bugzilla.redhat.com/1969174)"
      ],
      "text/plain": [
       "<IPython.core.display.Markdown object>"
      ]
     },
     "metadata": {},
     "output_type": "display_data"
    },
    {
     "name": "stdout",
     "output_type": "stream",
     "text": [
      "  - nothing provides python3.10dist(configargparse) >= 1.2.3 needed by python3-xml2rfc-3.7.0-2.fc35.noarch\n",
      "    = blocked by python-configargparse https://bugzilla.redhat.com/1914818\n"
     ]
    },
    {
     "data": {
      "text/markdown": [
       "# python-zaqarclient\n",
       "[rbz#1969177](https://bugzilla.redhat.com/1969177)"
      ],
      "text/plain": [
       "<IPython.core.display.Markdown object>"
      ]
     },
     "metadata": {},
     "output_type": "display_data"
    },
    {
     "name": "stdout",
     "output_type": "stream",
     "text": [
      "  - nothing provides python3.10dist(keystoneauth1) >= 3.4 needed by python3-zaqarclient-2.1.0-2.fc35.noarch\n",
      "    = blocked by python-keystoneauth1 https://bugzilla.redhat.com/1969012\n",
      "  - nothing provides python3.10dist(osc-lib) >= 1.8 needed by python3-zaqarclient-2.1.0-2.fc35.noarch\n",
      "    = blocked by python-osc-lib https://bugzilla.redhat.com/1914840\n",
      "  - nothing provides python3.10dist(oslo-log) >= 3.36 needed by python3-zaqarclient-2.1.0-2.fc35.noarch\n",
      "    = blocked by python-oslo-log https://bugzilla.redhat.com/1969075\n",
      "  - nothing provides python3.10dist(oslo-utils) >= 3.33 needed by python3-zaqarclient-2.1.0-2.fc35.noarch\n",
      "    = blocked by python-oslo-utils https://bugzilla.redhat.com/1969077\n"
     ]
    },
    {
     "data": {
      "text/markdown": [
       "# resalloc-openstack\n",
       "[rbz#1969184](https://bugzilla.redhat.com/1969184)"
      ],
      "text/plain": [
       "<IPython.core.display.Markdown object>"
      ]
     },
     "metadata": {},
     "output_type": "display_data"
    },
    {
     "name": "stdout",
     "output_type": "stream",
     "text": [
      "  - nothing provides python3.10dist(python-cinderclient) needed by resalloc-openstack-7-9.fc35.noarch\n",
      "    = blocked by python-cinderclient https://bugzilla.redhat.com/1968934\n",
      "  - nothing provides python3.10dist(python-neutronclient) needed by resalloc-openstack-7-9.fc35.noarch\n",
      "    = blocked by python-neutronclient https://bugzilla.redhat.com/1969049\n",
      "  - nothing provides python3.10dist(python-novaclient) needed by resalloc-openstack-7-9.fc35.noarch\n",
      "    = blocked by python-novaclient https://bugzilla.redhat.com/1969058\n"
     ]
    },
    {
     "data": {
      "text/markdown": [
       "# rofimoji\n",
       "[rbz#1969186](https://bugzilla.redhat.com/1969186)"
      ],
      "text/plain": [
       "<IPython.core.display.Markdown object>"
      ]
     },
     "metadata": {},
     "output_type": "display_data"
    },
    {
     "name": "stdout",
     "output_type": "stream",
     "text": [
      "  - nothing provides (python3.10dist(configargparse) < 2 with python3.10dist(configargparse) > 0.15) needed by rofimoji-5.1.0-6.fc35.noarch\n",
      "    = blocked by python-configargparse https://bugzilla.redhat.com/1914818\n"
     ]
    },
    {
     "data": {
      "text/markdown": [
       "# sgmanager\n",
       "[rbz#1969188](https://bugzilla.redhat.com/1969188)"
      ],
      "text/plain": [
       "<IPython.core.display.Markdown object>"
      ]
     },
     "metadata": {},
     "output_type": "display_data"
    },
    {
     "name": "stdout",
     "output_type": "stream",
     "text": [
      "  - nothing provides python3.10dist(openstacksdk) needed by sgmanager-2.0.0-9+201801213git+146.861aa67.fc35.noarch\n",
      "    = blocked by python-openstacksdk https://bugzilla.redhat.com/1969068\n"
     ]
    },
    {
     "data": {
      "text/markdown": [
       "# zezere\n",
       "[rbz#1969203](https://bugzilla.redhat.com/1969203)"
      ],
      "text/plain": [
       "<IPython.core.display.Markdown object>"
      ]
     },
     "metadata": {},
     "output_type": "display_data"
    },
    {
     "name": "stdout",
     "output_type": "stream",
     "text": [
      "  - nothing provides python3.10dist(mod-wsgi) needed by zezere-0.5-8.fc35.noarch\n",
      "    = blocked by mod_wsgi https://bugzilla.redhat.com/1898158\n"
     ]
    }
   ],
   "source": [
    "for bug in pure_fti_bugz:\n",
    "    display(Markdown(f'# {bug.component}\\n[rbz#{bug.id}](https://bugzilla.redhat.com/{bug.id})'))\n",
    "    comments = bug.getcomments()\n",
    "    initial_comment = comments[0]\n",
    "    if initial_comment['creator'] != 'mhroncok@redhat.com':\n",
    "        print('Not an automated FTI bug by Miro')\n",
    "        continue\n",
    "\n",
    "    blocked_by = set()\n",
    "    lines = initial_comment['text'].splitlines()\n",
    "    for line in lines:\n",
    "        if line.startswith('  - nothing provides '):\n",
    "            print(line)\n",
    "            provide = line.split(' ')[5]\n",
    "            if provide.startswith('('):\n",
    "                provide = provide[1:]\n",
    "            if provide.startswith('python3.10dist('):\n",
    "                old_provide = provide.replace('python3.10dist(', 'python3.9dist(')\n",
    "                blocker_components = !repoquery -q --repo=rawhide --source --whatprovides \"{old_provide}\" | pkgname\n",
    "                if len(set(blocker_components)) == 1:\n",
    "                    blocker_component = blocker_components[0]\n",
    "                    blocker_bugz = [b for b in bugz if b.component == blocker_component]\n",
    "                    if len(blocker_bugz) > 1:\n",
    "                        print(f\"    = too many bugzillas for {blocker_component}\")\n",
    "                        for bug in blocker_bugz:\n",
    "                            print(f\"        https://bugzilla.redhat.com/{bug.id}\")\n",
    "                    if blocker_bugz:\n",
    "                        bid = blocker_bugz[0].id\n",
    "                        print(f\"    = blocked by {blocker_component} https://bugzilla.redhat.com/{bid}\")\n",
    "                        blocked_by.add(bid)\n",
    "                else:\n",
    "                    print('Check:', blocker_components)\n",
    "    if blocked_by:\n",
    "        add_blockers = bzapi.build_update(depends_on_add=sorted(blocked_by))\n",
    "        bzapi.update_bugs([bug.id], add_blockers)"
   ]
  }
 ],
 "metadata": {
  "kernelspec": {
   "display_name": "Python 3",
   "language": "python",
   "name": "python3"
  },
  "language_info": {
   "codemirror_mode": {
    "name": "ipython",
    "version": 3
   },
   "file_extension": ".py",
   "mimetype": "text/x-python",
   "name": "python",
   "nbconvert_exporter": "python",
   "pygments_lexer": "ipython3",
   "version": "3.9.5"
  }
 },
 "nbformat": 4,
 "nbformat_minor": 4
}
