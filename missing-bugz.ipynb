{
 "cells": [
  {
   "cell_type": "code",
   "execution_count": 5,
   "metadata": {},
   "outputs": [],
   "source": [
    "import bugzilla"
   ]
  },
  {
   "cell_type": "code",
   "execution_count": 6,
   "metadata": {},
   "outputs": [],
   "source": [
    "bzapi = bugzilla.Bugzilla('bugzilla.redhat.com')"
   ]
  },
  {
   "cell_type": "code",
   "execution_count": 7,
   "metadata": {},
   "outputs": [],
   "source": [
    "F41FailsToInstall = 2260877"
   ]
  },
  {
   "cell_type": "code",
   "execution_count": 8,
   "metadata": {},
   "outputs": [
    {
     "name": "stdout",
     "output_type": "stream",
     "text": [
      "50\n",
      "100\n",
      "150\n",
      "200\n",
      "250\n",
      "300\n",
      "350\n",
      "400\n",
      "450\n",
      "500\n"
     ]
    },
    {
     "data": {
      "text/plain": [
       "504"
      ]
     },
     "execution_count": 8,
     "metadata": {},
     "output_type": "execute_result"
    }
   ],
   "source": [
    "query = bzapi.build_query(product='Fedora', status=['__open__'])\n",
    "query['blocks'] = 2244836  # PYTHON3.13\n",
    "query['limit'] = 50 # Bugzilla page size\n",
    "query['offset'] = 0\n",
    "bugz = []\n",
    "while len(partial := bzapi.query(query)) == 50:\n",
    "    bugz += partial\n",
    "    query['offset'] += 50\n",
    "    print(len(bugz))\n",
    "bugz += partial\n",
    "len(bugz)"
   ]
  },
  {
   "cell_type": "code",
   "execution_count": 9,
   "metadata": {},
   "outputs": [],
   "source": [
    "todo = !cat ../whatdoibuild/todo.pkgs"
   ]
  },
  {
   "cell_type": "code",
   "execution_count": 10,
   "metadata": {},
   "outputs": [
    {
     "data": {
      "text/plain": [
       "'ansible-lint'"
      ]
     },
     "execution_count": 10,
     "metadata": {},
     "output_type": "execute_result"
    }
   ],
   "source": [
    "todo[0]"
   ]
  },
  {
   "cell_type": "code",
   "execution_count": 11,
   "metadata": {},
   "outputs": [],
   "source": [
    "bug = bugz[0]"
   ]
  },
  {
   "cell_type": "code",
   "execution_count": 12,
   "metadata": {},
   "outputs": [
    {
     "data": {
      "text/plain": [
       "'python-glue'"
      ]
     },
     "execution_count": 12,
     "metadata": {},
     "output_type": "execute_result"
    }
   ],
   "source": [
    "bug.component"
   ]
  },
  {
   "cell_type": "code",
   "execution_count": 13,
   "metadata": {},
   "outputs": [],
   "source": [
    "components = {b.component for b in bugz}"
   ]
  },
  {
   "cell_type": "code",
   "execution_count": 16,
   "metadata": {},
   "outputs": [],
   "source": [
    "no_py_bugz = set(todo) - components"
   ]
  },
  {
   "cell_type": "code",
   "execution_count": 17,
   "metadata": {},
   "outputs": [
    {
     "data": {
      "text/plain": [
       "{'COPASI',\n",
       " 'getdp',\n",
       " 'gplugin',\n",
       " 'paraview',\n",
       " 'python-fiona',\n",
       " 'python-logdetective',\n",
       " 'python-lsp-server',\n",
       " 'python-omemo-backend-signal',\n",
       " 'python-slixmpp-omemo',\n",
       " 'python-social-auth-core',\n",
       " 'python-tmuxp',\n",
       " 'znc'}"
      ]
     },
     "execution_count": 17,
     "metadata": {},
     "output_type": "execute_result"
    }
   ],
   "source": [
    "no_py_bugz"
   ]
  },
  {
   "cell_type": "code",
   "execution_count": 22,
   "metadata": {},
   "outputs": [
    {
     "name": "stdout",
     "output_type": "stream",
     "text": [
      "gplugin []\n",
      "python-slixmpp-omemo ['https://bugzilla.redhat.com/2291142']\n",
      "python-fiona ['https://bugzilla.redhat.com/2280822']\n",
      "python-omemo-backend-signal ['https://bugzilla.redhat.com/2279294']\n",
      "python-tmuxp ['https://bugzilla.redhat.com/2275017']\n",
      "znc ['https://bugzilla.redhat.com/2292226']\n",
      "getdp []\n",
      "python-social-auth-core ['https://bugzilla.redhat.com/2281012']\n",
      "python-lsp-server ['https://bugzilla.redhat.com/2281615']\n",
      "paraview []\n",
      "python-logdetective ['https://bugzilla.redhat.com/2284439']\n",
      "COPASI ['https://bugzilla.redhat.com/2272655']\n"
     ]
    }
   ],
   "source": [
    "for component in no_py_bugz:\n",
    "    query = bzapi.build_query(product='Fedora', status=['__open__'], component=component)\n",
    "    query['blocks'] = F41FailsToInstall\n",
    "    query['limit'] = 5\n",
    "    bugz = bzapi.query(query)\n",
    "    assert len(bugz) < 5\n",
    "    print(component, [f\"https://bugzilla.redhat.com/{b.id}\" for b in bugz])"
   ]
  },
  {
   "cell_type": "code",
   "execution_count": null,
   "metadata": {},
   "outputs": [],
   "source": []
  }
 ],
 "metadata": {
  "kernelspec": {
   "display_name": "Python 3 (ipykernel)",
   "language": "python",
   "name": "python3"
  },
  "language_info": {
   "codemirror_mode": {
    "name": "ipython",
    "version": 3
   },
   "file_extension": ".py",
   "mimetype": "text/x-python",
   "name": "python",
   "nbconvert_exporter": "python",
   "pygments_lexer": "ipython3",
   "version": "3.12.3"
  }
 },
 "nbformat": 4,
 "nbformat_minor": 4
}
