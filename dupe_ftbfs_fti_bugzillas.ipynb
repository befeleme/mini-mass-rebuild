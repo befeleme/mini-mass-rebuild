{
 "cells": [
  {
   "cell_type": "code",
   "execution_count": 1,
   "metadata": {},
   "outputs": [],
   "source": [
    "import bugzilla\n",
    "bzapi = bugzilla.Bugzilla('bugzilla.redhat.com')\n",
    "query = bzapi.build_query(product='Fedora')\n",
    "query['blocks'] = 1890881  # PYTHON3.10\n",
    "bugz = bzapi.query(query)"
   ]
  },
  {
   "cell_type": "code",
   "execution_count": 2,
   "metadata": {},
   "outputs": [],
   "source": [
    "F35FailsToInstall = 1927313\n",
    "F35FTBFS = 1927309"
   ]
  },
  {
   "cell_type": "code",
   "execution_count": 3,
   "metadata": {},
   "outputs": [],
   "source": [
    "todo = !cat todo.pkgs"
   ]
  },
  {
   "cell_type": "code",
   "execution_count": 4,
   "metadata": {},
   "outputs": [],
   "source": [
    "bugz = [b for b in bugz if b.status != 'CLOSED']"
   ]
  },
  {
   "cell_type": "code",
   "execution_count": 5,
   "metadata": {},
   "outputs": [
    {
     "data": {
      "text/plain": [
       "535"
      ]
     },
     "execution_count": 5,
     "metadata": {},
     "output_type": "execute_result"
    }
   ],
   "source": [
    "len(bugz)"
   ]
  },
  {
   "cell_type": "code",
   "execution_count": 6,
   "metadata": {},
   "outputs": [
    {
     "name": "stdout",
     "output_type": "stream",
     "text": [
      "sagemath 1969187 DUPLICATE of 1964990\n",
      "sshuttle 1969190 DUPLICATE of 1949447\n",
      "sugar-datastore 1969191 DUPLICATE of 1900789\n",
      "trademgen 1969196 DUPLICATE of 1898929\n",
      "watchman 1969200 DUPLICATE of 1965963\n"
     ]
    }
   ],
   "source": [
    "to_block_ftbfs = set()\n",
    "for component in todo:\n",
    "    our_bugz = [b for b in bugz if b.component == component]\n",
    "    if (num_bugz := len(our_bugz)) > 2:\n",
    "        print(f\"{component} has {num_bugz} bugz:\")\n",
    "        for bug in our_bugz:\n",
    "            print(f\"  https://bugzilla.redhat.com/{bug.id}\")\n",
    "    elif num_bugz == 2:\n",
    "        fti_bugz = [b for b in our_bugz if F35FailsToInstall in b.blocks]\n",
    "        other_bugz = [b for b in our_bugz if F35FailsToInstall not in b.blocks]\n",
    "        if len(fti_bugz) == 1:\n",
    "            fti_bug = fti_bugz[0]\n",
    "            ftbs_bug = other_bugz[0]\n",
    "            print(f\"{component} {fti_bug.id} DUPLICATE of {ftbs_bug.id}\")\n",
    "            fti_bug.close('DUPLICATE', dupeid=ftbs_bug.id,\n",
    "                         comment='Automatically marking as duplicate. Please forgive me if not accurate.')\n",
    "            to_block_ftbfs.add(ftbs_bug.id)\n",
    "        else:\n",
    "            print(f\"{component} has 2 bugz, but in an unexpected state:\")\n",
    "            for bug in our_bugz:\n",
    "                print(f\"  https://bugzilla.redhat.com/{bug.id}\")"
   ]
  },
  {
   "cell_type": "code",
   "execution_count": 7,
   "metadata": {},
   "outputs": [
    {
     "data": {
      "text/plain": [
       "{1898929, 1900789, 1949447, 1964990, 1965963}"
      ]
     },
     "execution_count": 7,
     "metadata": {},
     "output_type": "execute_result"
    }
   ],
   "source": [
    "to_block_ftbfs"
   ]
  },
  {
   "cell_type": "code",
   "execution_count": 8,
   "metadata": {},
   "outputs": [
    {
     "data": {
      "text/plain": [
       "{'bugs': [{'changes': {'blocks': {'removed': '', 'added': '1927309'}},\n",
       "   'last_change_time': <DateTime '20210608T11:50:21' at 0x7fbc7419c280>,\n",
       "   'id': 1898929,\n",
       "   'alias': []},\n",
       "  {'changes': {'blocks': {'removed': '', 'added': '1927309'}},\n",
       "   'last_change_time': <DateTime '20210608T11:50:21' at 0x7fbc7419c430>,\n",
       "   'id': 1900789,\n",
       "   'alias': []},\n",
       "  {'changes': {'blocks': {'removed': '', 'added': '1927309'}},\n",
       "   'last_change_time': <DateTime '20210608T11:50:21' at 0x7fbc7419c2b0>,\n",
       "   'id': 1949447,\n",
       "   'alias': []},\n",
       "  {'changes': {},\n",
       "   'last_change_time': <DateTime '20210608T11:49:31' at 0x7fbc7419c0d0>,\n",
       "   'id': 1964990,\n",
       "   'alias': []},\n",
       "  {'changes': {},\n",
       "   'last_change_time': <DateTime '20210608T11:50:09' at 0x7fbc7419c790>,\n",
       "   'id': 1965963,\n",
       "   'alias': []}]}"
      ]
     },
     "execution_count": 8,
     "metadata": {},
     "output_type": "execute_result"
    }
   ],
   "source": [
    "block_f35ftbfs = bzapi.build_update(blocks_add=F35FTBFS)\n",
    "block_f35ftbfs[\"minor_update\"] = True\n",
    "bzapi.update_bugs(sorted(to_block_ftbfs), block_f35ftbfs)"
   ]
  },
  {
   "cell_type": "code",
   "execution_count": null,
   "metadata": {},
   "outputs": [],
   "source": []
  }
 ],
 "metadata": {
  "kernelspec": {
   "display_name": "Python 3",
   "language": "python",
   "name": "python3"
  },
  "language_info": {
   "codemirror_mode": {
    "name": "ipython",
    "version": 3
   },
   "file_extension": ".py",
   "mimetype": "text/x-python",
   "name": "python",
   "nbconvert_exporter": "python",
   "pygments_lexer": "ipython3",
   "version": "3.9.5"
  }
 },
 "nbformat": 4,
 "nbformat_minor": 4
}
